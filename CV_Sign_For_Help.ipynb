{
  "nbformat": 4,
  "nbformat_minor": 0,
  "metadata": {
    "colab": {
      "provenance": [],
      "include_colab_link": true
    },
    "kernelspec": {
      "name": "python3",
      "display_name": "Python 3"
    },
    "language_info": {
      "name": "python"
    }
  },
  "cells": [
    {
      "cell_type": "markdown",
      "metadata": {
        "id": "view-in-github",
        "colab_type": "text"
      },
      "source": [
        "<a href=\"https://colab.research.google.com/github/lerrlera/IAT360-CV-Project-Group14/blob/myBranch/CV_Sign_For_Help.ipynb\" target=\"_parent\"><img src=\"https://colab.research.google.com/assets/colab-badge.svg\" alt=\"Open In Colab\"/></a>"
      ]
    },
    {
      "cell_type": "markdown",
      "source": [
        "#Computer Vision Problem: Sign For Help\n",
        "###Group 14\n",
        "Our computer vision project aims to develop a model capable of detecting and recognizing the [Signal for Help (SFH)](https://canadianwomen.org/signal-for-help/) hand gesture–a universal distress signal used by individuals experiencing violence or abuse. The problem we are addressing is the lack of accessible and automated tools that can identify this silent call for help, which could support early intervention and improve personal safety.\n",
        "\n",
        "This is an important issue because many victims cannot ask for help out loud (e.g., the abuser is nearby), and this automatic gesture recognition could enable faster responses and potentially save lives. Our model could be used in real life to detect SFH through smartphone cameras, wearable devices, telehealth sessions, or public service kiosks, enabling faster intervention and support for individuals experiencing abuse.\n"
      ],
      "metadata": {
        "id": "Bv14wo_2zaAI"
      }
    },
    {
      "cell_type": "markdown",
      "source": [
        "## Importing Google Drive & Libraries"
      ],
      "metadata": {
        "id": "gDFT0qKI0CvJ"
      }
    },
    {
      "cell_type": "code",
      "source": [
        "from google.colab import drive\n",
        "drive.mount('/content/drive')"
      ],
      "metadata": {
        "colab": {
          "base_uri": "https://localhost:8080/"
        },
        "id": "paDGoDTG1lVG",
        "outputId": "be4ac15e-4f1c-417c-cbae-d3b9c0a066a2"
      },
      "execution_count": null,
      "outputs": [
        {
          "output_type": "stream",
          "name": "stdout",
          "text": [
            "Mounted at /content/drive\n"
          ]
        }
      ]
    },
    {
      "cell_type": "code",
      "source": [
        "# copy what's in google drive to local drive folder"
      ],
      "metadata": {
        "id": "JNh1__jFvzIZ"
      },
      "execution_count": null,
      "outputs": []
    },
    {
      "cell_type": "code",
      "source": [
        "import shutil\n",
        "import os\n",
        "\n",
        "# Define source and destination paths\n",
        "source_path = \"/content/drive/MyDrive/IAT360 - SFH Project\"\n",
        "destination_path = \"/content/IAT360\"\n",
        "\n",
        "# Create the destination directory if it doesn't exist\n",
        "os.makedirs(destination_path, exist_ok=True)\n",
        "\n",
        "# Copy the dataset to a writable location\n",
        "shutil.copytree(source_path, destination_path, dirs_exist_ok=True)\n",
        "\n",
        "# Update dataset_path to the new location\n",
        "dataset_path = destination_path\n",
        "\n",
        "print(f\"Dataset copied to: {dataset_path}\")"
      ],
      "metadata": {
        "colab": {
          "base_uri": "https://localhost:8080/"
        },
        "id": "83WzcsjRvnXU",
        "outputId": "019f584e-e4e4-4212-9e04-6bd07fe8008a"
      },
      "execution_count": null,
      "outputs": [
        {
          "output_type": "stream",
          "name": "stdout",
          "text": [
            "Dataset copied to: /content/IAT360\n"
          ]
        }
      ]
    },
    {
      "cell_type": "code",
      "source": [
        "import numpy as np # linear algebra\n",
        "import pandas as pd # data processing, CSV file I/O (e.g. pd.read_csv)\n",
        "import matplotlib.pyplot as plt\n",
        "import tensorflow as tf\n",
        "from tensorflow import keras\n",
        "import cv2\n",
        "import seaborn as sns\n",
        "import glob\n",
        "import xml.etree.ElementTree as ET\n",
        "from PIL import Image\n",
        "import os\n",
        "import shutil"
      ],
      "metadata": {
        "id": "GRvr2Agf0Jc1",
        "colab": {
          "base_uri": "https://localhost:8080/",
          "height": 356
        },
        "outputId": "0c7d8756-133a-4dcb-ce47-15700e1d0684"
      },
      "execution_count": null,
      "outputs": [
        {
          "output_type": "error",
          "ename": "KeyboardInterrupt",
          "evalue": "",
          "traceback": [
            "\u001b[0;31m---------------------------------------------------------------------------\u001b[0m",
            "\u001b[0;31mKeyboardInterrupt\u001b[0m                         Traceback (most recent call last)",
            "\u001b[0;32m/tmp/ipython-input-2715424748.py\u001b[0m in \u001b[0;36m<cell line: 0>\u001b[0;34m()\u001b[0m\n\u001b[1;32m      2\u001b[0m \u001b[0;32mimport\u001b[0m \u001b[0mpandas\u001b[0m \u001b[0;32mas\u001b[0m \u001b[0mpd\u001b[0m \u001b[0;31m# data processing, CSV file I/O (e.g. pd.read_csv)\u001b[0m\u001b[0;34m\u001b[0m\u001b[0;34m\u001b[0m\u001b[0m\n\u001b[1;32m      3\u001b[0m \u001b[0;32mimport\u001b[0m \u001b[0mmatplotlib\u001b[0m\u001b[0;34m.\u001b[0m\u001b[0mpyplot\u001b[0m \u001b[0;32mas\u001b[0m \u001b[0mplt\u001b[0m\u001b[0;34m\u001b[0m\u001b[0;34m\u001b[0m\u001b[0m\n\u001b[0;32m----> 4\u001b[0;31m \u001b[0;32mimport\u001b[0m \u001b[0mtensorflow\u001b[0m \u001b[0;32mas\u001b[0m \u001b[0mtf\u001b[0m\u001b[0;34m\u001b[0m\u001b[0;34m\u001b[0m\u001b[0m\n\u001b[0m\u001b[1;32m      5\u001b[0m \u001b[0;32mfrom\u001b[0m \u001b[0mtensorflow\u001b[0m \u001b[0;32mimport\u001b[0m \u001b[0mkeras\u001b[0m\u001b[0;34m\u001b[0m\u001b[0;34m\u001b[0m\u001b[0m\n\u001b[1;32m      6\u001b[0m \u001b[0;32mimport\u001b[0m \u001b[0mcv2\u001b[0m\u001b[0;34m\u001b[0m\u001b[0;34m\u001b[0m\u001b[0m\n",
            "\u001b[0;32m/usr/local/lib/python3.12/dist-packages/tensorflow/__init__.py\u001b[0m in \u001b[0;36m<module>\u001b[0;34m\u001b[0m\n\u001b[1;32m     38\u001b[0m \u001b[0;34m\u001b[0m\u001b[0m\n\u001b[1;32m     39\u001b[0m \u001b[0;31m# Do not remove this line; See https://github.com/tensorflow/tensorflow/issues/42596\u001b[0m\u001b[0;34m\u001b[0m\u001b[0;34m\u001b[0m\u001b[0m\n\u001b[0;32m---> 40\u001b[0;31m \u001b[0;32mfrom\u001b[0m \u001b[0mtensorflow\u001b[0m\u001b[0;34m.\u001b[0m\u001b[0mpython\u001b[0m \u001b[0;32mimport\u001b[0m \u001b[0mpywrap_tensorflow\u001b[0m \u001b[0;32mas\u001b[0m \u001b[0m_pywrap_tensorflow\u001b[0m  \u001b[0;31m# pylint: disable=unused-import\u001b[0m\u001b[0;34m\u001b[0m\u001b[0;34m\u001b[0m\u001b[0m\n\u001b[0m\u001b[1;32m     41\u001b[0m \u001b[0;32mfrom\u001b[0m \u001b[0mtensorflow\u001b[0m\u001b[0;34m.\u001b[0m\u001b[0mpython\u001b[0m\u001b[0;34m.\u001b[0m\u001b[0mtools\u001b[0m \u001b[0;32mimport\u001b[0m \u001b[0mmodule_util\u001b[0m \u001b[0;32mas\u001b[0m \u001b[0m_module_util\u001b[0m\u001b[0;34m\u001b[0m\u001b[0;34m\u001b[0m\u001b[0m\n\u001b[1;32m     42\u001b[0m \u001b[0;32mfrom\u001b[0m \u001b[0mtensorflow\u001b[0m\u001b[0;34m.\u001b[0m\u001b[0mpython\u001b[0m\u001b[0;34m.\u001b[0m\u001b[0mutil\u001b[0m\u001b[0;34m.\u001b[0m\u001b[0mlazy_loader\u001b[0m \u001b[0;32mimport\u001b[0m \u001b[0mKerasLazyLoader\u001b[0m \u001b[0;32mas\u001b[0m \u001b[0m_KerasLazyLoader\u001b[0m\u001b[0;34m\u001b[0m\u001b[0;34m\u001b[0m\u001b[0m\n",
            "\u001b[0;32m/usr/local/lib/python3.12/dist-packages/tensorflow/python/pywrap_tensorflow.py\u001b[0m in \u001b[0;36m<module>\u001b[0;34m\u001b[0m\n\u001b[1;32m     35\u001b[0m \u001b[0;34m\u001b[0m\u001b[0m\n\u001b[1;32m     36\u001b[0m \u001b[0;31m# Perform pre-load sanity checks in order to produce a more actionable error.\u001b[0m\u001b[0;34m\u001b[0m\u001b[0;34m\u001b[0m\u001b[0m\n\u001b[0;32m---> 37\u001b[0;31m \u001b[0mself_check\u001b[0m\u001b[0;34m.\u001b[0m\u001b[0mpreload_check\u001b[0m\u001b[0;34m(\u001b[0m\u001b[0;34m)\u001b[0m\u001b[0;34m\u001b[0m\u001b[0;34m\u001b[0m\u001b[0m\n\u001b[0m\u001b[1;32m     38\u001b[0m \u001b[0;34m\u001b[0m\u001b[0m\n\u001b[1;32m     39\u001b[0m \u001b[0;31m# pylint: disable=wildcard-import,g-import-not-at-top,unused-import,line-too-long\u001b[0m\u001b[0;34m\u001b[0m\u001b[0;34m\u001b[0m\u001b[0m\n",
            "\u001b[0;32m/usr/local/lib/python3.12/dist-packages/tensorflow/python/platform/self_check.py\u001b[0m in \u001b[0;36mpreload_check\u001b[0;34m()\u001b[0m\n\u001b[1;32m     61\u001b[0m     \u001b[0;31m# incompatibilities before we trigger them (which would typically result in\u001b[0m\u001b[0;34m\u001b[0m\u001b[0;34m\u001b[0m\u001b[0m\n\u001b[1;32m     62\u001b[0m     \u001b[0;31m# SIGILL).\u001b[0m\u001b[0;34m\u001b[0m\u001b[0;34m\u001b[0m\u001b[0m\n\u001b[0;32m---> 63\u001b[0;31m     \u001b[0;32mfrom\u001b[0m \u001b[0mtensorflow\u001b[0m\u001b[0;34m.\u001b[0m\u001b[0mpython\u001b[0m\u001b[0;34m.\u001b[0m\u001b[0mplatform\u001b[0m \u001b[0;32mimport\u001b[0m \u001b[0m_pywrap_cpu_feature_guard\u001b[0m\u001b[0;34m\u001b[0m\u001b[0;34m\u001b[0m\u001b[0m\n\u001b[0m\u001b[1;32m     64\u001b[0m     \u001b[0m_pywrap_cpu_feature_guard\u001b[0m\u001b[0;34m.\u001b[0m\u001b[0mInfoAboutUnusedCPUFeatures\u001b[0m\u001b[0;34m(\u001b[0m\u001b[0;34m)\u001b[0m\u001b[0;34m\u001b[0m\u001b[0;34m\u001b[0m\u001b[0m\n",
            "\u001b[0;31mKeyboardInterrupt\u001b[0m: "
          ]
        }
      ]
    },
    {
      "cell_type": "markdown",
      "source": [
        "## Dataset Description\n",
        "For this project, we need image data resembling two specific hand gestures as a picture below:\n",
        "\n",
        "*   An open hand with tucked thumb\n",
        "*   A closed hand with a trapped thumb\n",
        "\n",
        "\n",
        "\n",
        "![Banner_EN_CWF-1024x467.png](data:image/png;base64,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)\n",
        "\n",
        "**Source:** Signal for help | Use Signal to ask for help.  (n.d.). Canadian Women’s Foundation. https://canadianwomen.org/signal-for-help/\n",
        "\n",
        "###Details\n",
        "\n",
        "These images were sourced from 2 existing datasets and organized into 2 class folders, ‘open_hand’ and ‘closed_hand’ for a classification task. Specifically, we used images labelled ‘B’ from the ASL dataset from the ASL dataset for our ‘open_hand’ class, and images labelled ‘A’ and ‘S’ for our ‘closed_hand’ class. We also supplemented our data with additional images from the Hands Images dataset, which better capture the specific thumb positions we needed and include hands wearing gloves.\n",
        "\n",
        "We have 2 labels, ‘open_hand’ and ‘closed_hand’. Since this is a supervised classification task, the folder structure itself serves as a label; images in the ‘open_hand’ folder belong to ‘open_hand’ class, and the same labelling rule applies for those in the ‘closed_hand’ folder.\n",
        "\n",
        "###Adding More Data\n",
        "We also added 30 (15 for each class) new images each sourced from stock images (Adobe), our own photos of hands...\n",
        "\n",
        "\n",
        "###Data Split\n",
        "\n",
        "Total number of images in each class was: 3,052. 2/3 of this data should was used as training data, the rest is for evaluation:\n",
        "\n",
        "**‘open_hand’**\n",
        "*   2,035 images in train folder\n",
        "*   1,017 images in test folder\n",
        "\n",
        "**‘closed_hand’**\n",
        "*   2,035 images in train folder\n",
        "*   1,017 images in test folder\n",
        "\n",
        "\n",
        "Here is a Google Drive link to the zipped datasets used in this project:\n",
        "\n",
        "\n",
        "\n",
        "*   [SFH Dataset](https://drive.google.com/drive/folders/1puxrFn5ijZAyBCCPxtzP0QTTBX_QTSmd?usp=sharing)\n",
        "\n",
        "\n",
        "Here are existing datasets we used to collect this data:\n",
        "\n",
        "*   [ASL Alphabet Dataset on Kaggle](https://www.kaggle.com/datasets/grassknoted/asl-alphabet)\n",
        "*   [Hands Images Dataset on Hugging Face](https://huggingface.co/datasets/trashsock/hands-images)"
      ],
      "metadata": {
        "id": "T8_ORqc10TxL"
      }
    },
    {
      "cell_type": "markdown",
      "source": [
        "## Data Preprocessing\n",
        "\n",
        "For preprocessing:\n",
        "- We have to convert the dataset into that acceptable by YOLO.\n",
        "  - Heirarchy of folders should be the one accepted by YOLO\n",
        "  - Labels format should be darknet YOLO.\n",
        "  - Labels files should be .txt files\n"
      ],
      "metadata": {
        "id": "7aQjNM0hDaBb"
      }
    },
    {
      "cell_type": "markdown",
      "source": [
        "### Heirarchy of Folders Correction"
      ],
      "metadata": {
        "id": "YOsIYgK-Po-8"
      }
    },
    {
      "cell_type": "markdown",
      "source": [
        "Defining paths to train and test folders."
      ],
      "metadata": {
        "id": "a06DXoMuKt97"
      }
    },
    {
      "cell_type": "markdown",
      "source": [
        "Original codes below: https://github.com/jaejams/Week3-ClassicML/blob/main/week_3_machinelearning.ipynb"
      ],
      "metadata": {
        "id": "InZ_BYKav8Yr"
      }
    },
    {
      "cell_type": "code",
      "source": [
        "#importing the required libraries\n",
        "\n",
        "import matplotlib.pyplot as plt\n",
        "import pandas as pd\n",
        "import numpy as np\n",
        "import librosa.display\n",
        "import soundfile\n",
        "import os\n",
        "# matplotlib complains about the behaviour of librosa.display, so we'll ignore those warnings:\n",
        "import warnings; warnings.filterwarnings('ignore')"
      ],
      "metadata": {
        "id": "c9JZS55mwcEf"
      },
      "execution_count": null,
      "outputs": []
    },
    {
      "cell_type": "markdown",
      "source": [
        "## Extracting the file directories\n",
        "So that the images could be split into train & validation sets."
      ],
      "metadata": {
        "id": "Z0w5kf93yP2j"
      }
    },
    {
      "cell_type": "code",
      "source": [
        "import os\n",
        "import glob\n",
        "import numpy as np # Import numpy to use np.array()\n",
        "\n",
        "def load_data():\n",
        "    X, y = [], []\n",
        "    count = 0\n",
        "    # The glob pattern seems to be correct for your intended file structure\n",
        "    for file in glob.glob(\"/content/IAT360/sfh-dataset/*/*.jpg\"):\n",
        "        # This line correctly extracts ONLY the file name (e.g., 'image.jpg')\n",
        "        file_name = os.path.basename(file)\n",
        "        # Separate the name and extension (base_name will be 'open_hand_0153')\n",
        "        base_name = os.path.splitext(file_name)[0]\n",
        "\n",
        "        # split the string from the RIGHT only once at the underscore.\n",
        "        # 'open_hand_0153'.rsplit('_', 1) -> ['open_hand', '0153']\n",
        "        # Taking the [0] element gives us 'open_hand'\n",
        "        label = base_name.rsplit('_', 1)[0]\n",
        "\n",
        "        # Append the file name (full path) to the list X\n",
        "        X.append(file)\n",
        "        # If wanting the partial path\n",
        "        # X.append(file_name)\n",
        "        y.append(label)\n",
        "\n",
        "        count += 1\n",
        "        # The print statement is kept, assuming you want to see the progress\n",
        "        print('\\r' + f' Processed {count}/{1440} image samples', end=' ')\n",
        "\n",
        "    # Return the list of file names as a numpy array\n",
        "    return np.array(X), np.array(y)"
      ],
      "metadata": {
        "id": "l-jcco9ssk7T"
      },
      "execution_count": null,
      "outputs": []
    },
    {
      "cell_type": "code",
      "source": [
        "hands, labels = load_data()\n",
        "print(hands)\n",
        "print(labels)"
      ],
      "metadata": {
        "colab": {
          "base_uri": "https://localhost:8080/"
        },
        "id": "vlzLTnpRw_K7",
        "outputId": "19f7b244-67dc-49ab-f4d3-bd89fc0975fc"
      },
      "execution_count": null,
      "outputs": [
        {
          "output_type": "stream",
          "name": "stdout",
          "text": [
            "\r Processed 1/1440 image samples \r Processed 2/1440 image samples \r Processed 3/1440 image samples \r Processed 4/1440 image samples \r Processed 5/1440 image samples \r Processed 6/1440 image samples \r Processed 7/1440 image samples \r Processed 8/1440 image samples \r Processed 9/1440 image samples \r Processed 10/1440 image samples \r Processed 11/1440 image samples \r Processed 12/1440 image samples \r Processed 13/1440 image samples \r Processed 14/1440 image samples \r Processed 15/1440 image samples \r Processed 16/1440 image samples \r Processed 17/1440 image samples \r Processed 18/1440 image samples \r Processed 19/1440 image samples \r Processed 20/1440 image samples \r Processed 21/1440 image samples \r Processed 22/1440 image samples \r Processed 23/1440 image samples \r Processed 24/1440 image samples \r Processed 25/1440 image samples \r Processed 26/1440 image samples \r Processed 27/1440 image samples \r Processed 28/1440 image samples \r Processed 29/1440 image samples \r Processed 30/1440 image samples \r Processed 31/1440 image samples \r Processed 32/1440 image samples \r Processed 33/1440 image samples \r Processed 34/1440 image samples \r Processed 35/1440 image samples \r Processed 36/1440 image samples \r Processed 37/1440 image samples \r Processed 38/1440 image samples \r Processed 39/1440 image samples \r Processed 40/1440 image samples \r Processed 41/1440 image samples \r Processed 42/1440 image samples \r Processed 43/1440 image samples \r Processed 44/1440 image samples \r Processed 45/1440 image samples \r Processed 46/1440 image samples \r Processed 47/1440 image samples \r Processed 48/1440 image samples \r Processed 49/1440 image samples \r Processed 50/1440 image samples \r Processed 51/1440 image samples \r Processed 52/1440 image samples \r Processed 53/1440 image samples \r Processed 54/1440 image samples \r Processed 55/1440 image samples \r Processed 56/1440 image samples \r Processed 57/1440 image samples \r Processed 58/1440 image samples \r Processed 59/1440 image samples \r Processed 60/1440 image samples \r Processed 61/1440 image samples \r Processed 62/1440 image samples \r Processed 63/1440 image samples \r Processed 64/1440 image samples \r Processed 65/1440 image samples \r Processed 66/1440 image samples \r Processed 67/1440 image samples \r Processed 68/1440 image samples \r Processed 69/1440 image samples \r Processed 70/1440 image samples \r Processed 71/1440 image samples \r Processed 72/1440 image samples \r Processed 73/1440 image samples \r Processed 74/1440 image samples \r Processed 75/1440 image samples \r Processed 76/1440 image samples \r Processed 77/1440 image samples \r Processed 78/1440 image samples \r Processed 79/1440 image samples \r Processed 80/1440 image samples \r Processed 81/1440 image samples \r Processed 82/1440 image samples \r Processed 83/1440 image samples \r Processed 84/1440 image samples \r Processed 85/1440 image samples \r Processed 86/1440 image samples \r Processed 87/1440 image samples \r Processed 88/1440 image samples \r Processed 89/1440 image samples \r Processed 90/1440 image samples \r Processed 91/1440 image samples \r Processed 92/1440 image samples \r Processed 93/1440 image samples \r Processed 94/1440 image samples \r Processed 95/1440 image samples \r Processed 96/1440 image samples \r Processed 97/1440 image samples \r Processed 98/1440 image samples \r Processed 99/1440 image samples \r Processed 100/1440 image samples \r Processed 101/1440 image samples \r Processed 102/1440 image samples \r Processed 103/1440 image samples \r Processed 104/1440 image samples \r Processed 105/1440 image samples \r Processed 106/1440 image samples \r Processed 107/1440 image samples \r Processed 108/1440 image samples \r Processed 109/1440 image samples \r Processed 110/1440 image samples \r Processed 111/1440 image samples \r Processed 112/1440 image samples \r Processed 113/1440 image samples \r Processed 114/1440 image samples \r Processed 115/1440 image samples \r Processed 116/1440 image samples \r Processed 117/1440 image samples \r Processed 118/1440 image samples \r Processed 119/1440 image samples \r Processed 120/1440 image samples \r Processed 121/1440 image samples \r Processed 122/1440 image samples \r Processed 123/1440 image samples \r Processed 124/1440 image samples \r Processed 125/1440 image samples \r Processed 126/1440 image samples \r Processed 127/1440 image samples \r Processed 128/1440 image samples \r Processed 129/1440 image samples \r Processed 130/1440 image samples \r Processed 131/1440 image samples \r Processed 132/1440 image samples \r Processed 133/1440 image samples \r Processed 134/1440 image samples \r Processed 135/1440 image samples \r Processed 136/1440 image samples \r Processed 137/1440 image samples \r Processed 138/1440 image samples \r Processed 139/1440 image samples \r Processed 140/1440 image samples \r Processed 141/1440 image samples \r Processed 142/1440 image samples \r Processed 143/1440 image samples \r Processed 144/1440 image samples \r Processed 145/1440 image samples \r Processed 146/1440 image samples \r Processed 147/1440 image samples \r Processed 148/1440 image samples \r Processed 149/1440 image samples \r Processed 150/1440 image samples \r Processed 151/1440 image samples \r Processed 152/1440 image samples \r Processed 153/1440 image samples \r Processed 154/1440 image samples \r Processed 155/1440 image samples \r Processed 156/1440 image samples \r Processed 157/1440 image samples \r Processed 158/1440 image samples \r Processed 159/1440 image samples \r Processed 160/1440 image samples \r Processed 161/1440 image samples \r Processed 162/1440 image samples \r Processed 163/1440 image samples \r Processed 164/1440 image samples \r Processed 165/1440 image samples \r Processed 166/1440 image samples \r Processed 167/1440 image samples \r Processed 168/1440 image samples \r Processed 169/1440 image samples \r Processed 170/1440 image samples \r Processed 171/1440 image samples \r Processed 172/1440 image samples \r Processed 173/1440 image samples \r Processed 174/1440 image samples \r Processed 175/1440 image samples \r Processed 176/1440 image samples \r Processed 177/1440 image samples \r Processed 178/1440 image samples \r Processed 179/1440 image samples \r Processed 180/1440 image samples \r Processed 181/1440 image samples \r Processed 182/1440 image samples \r Processed 183/1440 image samples \r Processed 184/1440 image samples \r Processed 185/1440 image samples \r Processed 186/1440 image samples \r Processed 187/1440 image samples \r Processed 188/1440 image samples \r Processed 189/1440 image samples \r Processed 190/1440 image samples \r Processed 191/1440 image samples \r Processed 192/1440 image samples \r Processed 193/1440 image samples \r Processed 194/1440 image samples \r Processed 195/1440 image samples \r Processed 196/1440 image samples \r Processed 197/1440 image samples \r Processed 198/1440 image samples \r Processed 199/1440 image samples \r Processed 200/1440 image samples \r Processed 201/1440 image samples \r Processed 202/1440 image samples \r Processed 203/1440 image samples \r Processed 204/1440 image samples \r Processed 205/1440 image samples \r Processed 206/1440 image samples \r Processed 207/1440 image samples \r Processed 208/1440 image samples \r Processed 209/1440 image samples \r Processed 210/1440 image samples \r Processed 211/1440 image samples \r Processed 212/1440 image samples \r Processed 213/1440 image samples \r Processed 214/1440 image samples \r Processed 215/1440 image samples \r Processed 216/1440 image samples \r Processed 217/1440 image samples \r Processed 218/1440 image samples \r Processed 219/1440 image samples \r Processed 220/1440 image samples \r Processed 221/1440 image samples \r Processed 222/1440 image samples \r Processed 223/1440 image samples \r Processed 224/1440 image samples \r Processed 225/1440 image samples \r Processed 226/1440 image samples \r Processed 227/1440 image samples \r Processed 228/1440 image samples \r Processed 229/1440 image samples \r Processed 230/1440 image samples \r Processed 231/1440 image samples \r Processed 232/1440 image samples \r Processed 233/1440 image samples \r Processed 234/1440 image samples \r Processed 235/1440 image samples \r Processed 236/1440 image samples \r Processed 237/1440 image samples \r Processed 238/1440 image samples \r Processed 239/1440 image samples \r Processed 240/1440 image samples \r Processed 241/1440 image samples \r Processed 242/1440 image samples \r Processed 243/1440 image samples \r Processed 244/1440 image samples \r Processed 245/1440 image samples \r Processed 246/1440 image samples \r Processed 247/1440 image samples \r Processed 248/1440 image samples \r Processed 249/1440 image samples \r Processed 250/1440 image samples \r Processed 251/1440 image samples \r Processed 252/1440 image samples \r Processed 253/1440 image samples \r Processed 254/1440 image samples \r Processed 255/1440 image samples \r Processed 256/1440 image samples \r Processed 257/1440 image samples \r Processed 258/1440 image samples \r Processed 259/1440 image samples \r Processed 260/1440 image samples \r Processed 261/1440 image samples \r Processed 262/1440 image samples \r Processed 263/1440 image samples \r Processed 264/1440 image samples \r Processed 265/1440 image samples \r Processed 266/1440 image samples \r Processed 267/1440 image samples \r Processed 268/1440 image samples \r Processed 269/1440 image samples \r Processed 270/1440 image samples \r Processed 271/1440 image samples \r Processed 272/1440 image samples \r Processed 273/1440 image samples \r Processed 274/1440 image samples \r Processed 275/1440 image samples \r Processed 276/1440 image samples \r Processed 277/1440 image samples \r Processed 278/1440 image samples \r Processed 279/1440 image samples \r Processed 280/1440 image samples \r Processed 281/1440 image samples \r Processed 282/1440 image samples \r Processed 283/1440 image samples \r Processed 284/1440 image samples \r Processed 285/1440 image samples \r Processed 286/1440 image samples \r Processed 287/1440 image samples \r Processed 288/1440 image samples \r Processed 289/1440 image samples \r Processed 290/1440 image samples \r Processed 291/1440 image samples \r Processed 292/1440 image samples \r Processed 293/1440 image samples \r Processed 294/1440 image samples \r Processed 295/1440 image samples \r Processed 296/1440 image samples \r Processed 297/1440 image samples \r Processed 298/1440 image samples \r Processed 299/1440 image samples \r Processed 300/1440 image samples \r Processed 301/1440 image samples \r Processed 302/1440 image samples \r Processed 303/1440 image samples \r Processed 304/1440 image samples \r Processed 305/1440 image samples \r Processed 306/1440 image samples \r Processed 307/1440 image samples \r Processed 308/1440 image samples \r Processed 309/1440 image samples \r Processed 310/1440 image samples \r Processed 311/1440 image samples \r Processed 312/1440 image samples \r Processed 313/1440 image samples \r Processed 314/1440 image samples \r Processed 315/1440 image samples \r Processed 316/1440 image samples \r Processed 317/1440 image samples \r Processed 318/1440 image samples \r Processed 319/1440 image samples \r Processed 320/1440 image samples \r Processed 321/1440 image samples \r Processed 322/1440 image samples \r Processed 323/1440 image samples \r Processed 324/1440 image samples \r Processed 325/1440 image samples \r Processed 326/1440 image samples \r Processed 327/1440 image samples \r Processed 328/1440 image samples \r Processed 329/1440 image samples \r Processed 330/1440 image samples \r Processed 331/1440 image samples \r Processed 332/1440 image samples \r Processed 333/1440 image samples \r Processed 334/1440 image samples \r Processed 335/1440 image samples \r Processed 336/1440 image samples \r Processed 337/1440 image samples \r Processed 338/1440 image samples \r Processed 339/1440 image samples \r Processed 340/1440 image samples \r Processed 341/1440 image samples \r Processed 342/1440 image samples \r Processed 343/1440 image samples \r Processed 344/1440 image samples \r Processed 345/1440 image samples \r Processed 346/1440 image samples \r Processed 347/1440 image samples \r Processed 348/1440 image samples \r Processed 349/1440 image samples \r Processed 350/1440 image samples \r Processed 351/1440 image samples \r Processed 352/1440 image samples \r Processed 353/1440 image samples \r Processed 354/1440 image samples \r Processed 355/1440 image samples \r Processed 356/1440 image samples \r Processed 357/1440 image samples \r Processed 358/1440 image samples \r Processed 359/1440 image samples \r Processed 360/1440 image samples \r Processed 361/1440 image samples \r Processed 362/1440 image samples \r Processed 363/1440 image samples \r Processed 364/1440 image samples \r Processed 365/1440 image samples \r Processed 366/1440 image samples \r Processed 367/1440 image samples \r Processed 368/1440 image samples \r Processed 369/1440 image samples \r Processed 370/1440 image samples \r Processed 371/1440 image samples \r Processed 372/1440 image samples \r Processed 373/1440 image samples \r Processed 374/1440 image samples \r Processed 375/1440 image samples \r Processed 376/1440 image samples \r Processed 377/1440 image samples \r Processed 378/1440 image samples \r Processed 379/1440 image samples \r Processed 380/1440 image samples \r Processed 381/1440 image samples \r Processed 382/1440 image samples \r Processed 383/1440 image samples \r Processed 384/1440 image samples \r Processed 385/1440 image samples \r Processed 386/1440 image samples \r Processed 387/1440 image samples \r Processed 388/1440 image samples \r Processed 389/1440 image samples \r Processed 390/1440 image samples \r Processed 391/1440 image samples \r Processed 392/1440 image samples \r Processed 393/1440 image samples \r Processed 394/1440 image samples \r Processed 395/1440 image samples \r Processed 396/1440 image samples \r Processed 397/1440 image samples \r Processed 398/1440 image samples \r Processed 399/1440 image samples \r Processed 400/1440 image samples \r Processed 401/1440 image samples \r Processed 402/1440 image samples \r Processed 403/1440 image samples \r Processed 404/1440 image samples \r Processed 405/1440 image samples \r Processed 406/1440 image samples \r Processed 407/1440 image samples \r Processed 408/1440 image samples \r Processed 409/1440 image samples \r Processed 410/1440 image samples \r Processed 411/1440 image samples \r Processed 412/1440 image samples \r Processed 413/1440 image samples \r Processed 414/1440 image samples \r Processed 415/1440 image samples \r Processed 416/1440 image samples \r Processed 417/1440 image samples \r Processed 418/1440 image samples \r Processed 419/1440 image samples \r Processed 420/1440 image samples \r Processed 421/1440 image samples \r Processed 422/1440 image samples \r Processed 423/1440 image samples \r Processed 424/1440 image samples \r Processed 425/1440 image samples \r Processed 426/1440 image samples \r Processed 427/1440 image samples \r Processed 428/1440 image samples \r Processed 429/1440 image samples \r Processed 430/1440 image samples \r Processed 431/1440 image samples \r Processed 432/1440 image samples \r Processed 433/1440 image samples \r Processed 434/1440 image samples \r Processed 435/1440 image samples \r Processed 436/1440 image samples \r Processed 437/1440 image samples \r Processed 438/1440 image samples \r Processed 439/1440 image samples \r Processed 440/1440 image samples \r Processed 441/1440 image samples \r Processed 442/1440 image samples \r Processed 443/1440 image samples \r Processed 444/1440 image samples \r Processed 445/1440 image samples \r Processed 446/1440 image samples \r Processed 447/1440 image samples \r Processed 448/1440 image samples \r Processed 449/1440 image samples \r Processed 450/1440 image samples \r Processed 451/1440 image samples \r Processed 452/1440 image samples \r Processed 453/1440 image samples \r Processed 454/1440 image samples \r Processed 455/1440 image samples \r Processed 456/1440 image samples \r Processed 457/1440 image samples \r Processed 458/1440 image samples \r Processed 459/1440 image samples \r Processed 460/1440 image samples \r Processed 461/1440 image samples \r Processed 462/1440 image samples \r Processed 463/1440 image samples \r Processed 464/1440 image samples \r Processed 465/1440 image samples \r Processed 466/1440 image samples \r Processed 467/1440 image samples \r Processed 468/1440 image samples \r Processed 469/1440 image samples \r Processed 470/1440 image samples \r Processed 471/1440 image samples \r Processed 472/1440 image samples \r Processed 473/1440 image samples \r Processed 474/1440 image samples \r Processed 475/1440 image samples \r Processed 476/1440 image samples \r Processed 477/1440 image samples \r Processed 478/1440 image samples \r Processed 479/1440 image samples \r Processed 480/1440 image samples \r Processed 481/1440 image samples \r Processed 482/1440 image samples \r Processed 483/1440 image samples \r Processed 484/1440 image samples \r Processed 485/1440 image samples \r Processed 486/1440 image samples \r Processed 487/1440 image samples \r Processed 488/1440 image samples \r Processed 489/1440 image samples \r Processed 490/1440 image samples \r Processed 491/1440 image samples \r Processed 492/1440 image samples \r Processed 493/1440 image samples \r Processed 494/1440 image samples \r Processed 495/1440 image samples \r Processed 496/1440 image samples \r Processed 497/1440 image samples \r Processed 498/1440 image samples \r Processed 499/1440 image samples \r Processed 500/1440 image samples \r Processed 501/1440 image samples \r Processed 502/1440 image samples \r Processed 503/1440 image samples \r Processed 504/1440 image samples \r Processed 505/1440 image samples \r Processed 506/1440 image samples \r Processed 507/1440 image samples \r Processed 508/1440 image samples \r Processed 509/1440 image samples \r Processed 510/1440 image samples \r Processed 511/1440 image samples \r Processed 512/1440 image samples \r Processed 513/1440 image samples \r Processed 514/1440 image samples \r Processed 515/1440 image samples \r Processed 516/1440 image samples \r Processed 517/1440 image samples \r Processed 518/1440 image samples \r Processed 519/1440 image samples \r Processed 520/1440 image samples \r Processed 521/1440 image samples \r Processed 522/1440 image samples \r Processed 523/1440 image samples \r Processed 524/1440 image samples \r Processed 525/1440 image samples \r Processed 526/1440 image samples \r Processed 527/1440 image samples \r Processed 528/1440 image samples \r Processed 529/1440 image samples \r Processed 530/1440 image samples \r Processed 531/1440 image samples \r Processed 532/1440 image samples \r Processed 533/1440 image samples \r Processed 534/1440 image samples \r Processed 535/1440 image samples \r Processed 536/1440 image samples \r Processed 537/1440 image samples \r Processed 538/1440 image samples \r Processed 539/1440 image samples \r Processed 540/1440 image samples \r Processed 541/1440 image samples \r Processed 542/1440 image samples \r Processed 543/1440 image samples \r Processed 544/1440 image samples \r Processed 545/1440 image samples \r Processed 546/1440 image samples \r Processed 547/1440 image samples \r Processed 548/1440 image samples \r Processed 549/1440 image samples \r Processed 550/1440 image samples \r Processed 551/1440 image samples \r Processed 552/1440 image samples \r Processed 553/1440 image samples \r Processed 554/1440 image samples \r Processed 555/1440 image samples \r Processed 556/1440 image samples \r Processed 557/1440 image samples \r Processed 558/1440 image samples \r Processed 559/1440 image samples \r Processed 560/1440 image samples \r Processed 561/1440 image samples \r Processed 562/1440 image samples \r Processed 563/1440 image samples \r Processed 564/1440 image samples \r Processed 565/1440 image samples \r Processed 566/1440 image samples \r Processed 567/1440 image samples \r Processed 568/1440 image samples \r Processed 569/1440 image samples \r Processed 570/1440 image samples \r Processed 571/1440 image samples \r Processed 572/1440 image samples \r Processed 573/1440 image samples \r Processed 574/1440 image samples \r Processed 575/1440 image samples \r Processed 576/1440 image samples \r Processed 577/1440 image samples \r Processed 578/1440 image samples \r Processed 579/1440 image samples \r Processed 580/1440 image samples \r Processed 581/1440 image samples \r Processed 582/1440 image samples \r Processed 583/1440 image samples \r Processed 584/1440 image samples \r Processed 585/1440 image samples \r Processed 586/1440 image samples \r Processed 587/1440 image samples \r Processed 588/1440 image samples \r Processed 589/1440 image samples \r Processed 590/1440 image samples \r Processed 591/1440 image samples \r Processed 592/1440 image samples \r Processed 593/1440 image samples \r Processed 594/1440 image samples \r Processed 595/1440 image samples \r Processed 596/1440 image samples \r Processed 597/1440 image samples \r Processed 598/1440 image samples \r Processed 599/1440 image samples \r Processed 600/1440 image samples \r Processed 601/1440 image samples \r Processed 602/1440 image samples \r Processed 603/1440 image samples \r Processed 604/1440 image samples \r Processed 605/1440 image samples \r Processed 606/1440 image samples \r Processed 607/1440 image samples \r Processed 608/1440 image samples \r Processed 609/1440 image samples \r Processed 610/1440 image samples \r Processed 611/1440 image samples \r Processed 612/1440 image samples \r Processed 613/1440 image samples \r Processed 614/1440 image samples \r Processed 615/1440 image samples \r Processed 616/1440 image samples \r Processed 617/1440 image samples \r Processed 618/1440 image samples \r Processed 619/1440 image samples \r Processed 620/1440 image samples \r Processed 621/1440 image samples \r Processed 622/1440 image samples \r Processed 623/1440 image samples \r Processed 624/1440 image samples \r Processed 625/1440 image samples \r Processed 626/1440 image samples \r Processed 627/1440 image samples \r Processed 628/1440 image samples \r Processed 629/1440 image samples \r Processed 630/1440 image samples \r Processed 631/1440 image samples \r Processed 632/1440 image samples \r Processed 633/1440 image samples \r Processed 634/1440 image samples \r Processed 635/1440 image samples \r Processed 636/1440 image samples \r Processed 637/1440 image samples \r Processed 638/1440 image samples \r Processed 639/1440 image samples \r Processed 640/1440 image samples \r Processed 641/1440 image samples \r Processed 642/1440 image samples \r Processed 643/1440 image samples \r Processed 644/1440 image samples \r Processed 645/1440 image samples \r Processed 646/1440 image samples \r Processed 647/1440 image samples \r Processed 648/1440 image samples \r Processed 649/1440 image samples \r Processed 650/1440 image samples \r Processed 651/1440 image samples \r Processed 652/1440 image samples \r Processed 653/1440 image samples \r Processed 654/1440 image samples \r Processed 655/1440 image samples \r Processed 656/1440 image samples \r Processed 657/1440 image samples \r Processed 658/1440 image samples \r Processed 659/1440 image samples \r Processed 660/1440 image samples \r Processed 661/1440 image samples \r Processed 662/1440 image samples \r Processed 663/1440 image samples \r Processed 664/1440 image samples \r Processed 665/1440 image samples \r Processed 666/1440 image samples \r Processed 667/1440 image samples \r Processed 668/1440 image samples \r Processed 669/1440 image samples \r Processed 670/1440 image samples \r Processed 671/1440 image samples \r Processed 672/1440 image samples \r Processed 673/1440 image samples \r Processed 674/1440 image samples \r Processed 675/1440 image samples \r Processed 676/1440 image samples \r Processed 677/1440 image samples \r Processed 678/1440 image samples \r Processed 679/1440 image samples \r Processed 680/1440 image samples \r Processed 681/1440 image samples \r Processed 682/1440 image samples \r Processed 683/1440 image samples \r Processed 684/1440 image samples \r Processed 685/1440 image samples \r Processed 686/1440 image samples \r Processed 687/1440 image samples \r Processed 688/1440 image samples \r Processed 689/1440 image samples \r Processed 690/1440 image samples \r Processed 691/1440 image samples \r Processed 692/1440 image samples \r Processed 693/1440 image samples \r Processed 694/1440 image samples \r Processed 695/1440 image samples \r Processed 696/1440 image samples \r Processed 697/1440 image samples \r Processed 698/1440 image samples \r Processed 699/1440 image samples \r Processed 700/1440 image samples \r Processed 701/1440 image samples \r Processed 702/1440 image samples \r Processed 703/1440 image samples \r Processed 704/1440 image samples \r Processed 705/1440 image samples \r Processed 706/1440 image samples \r Processed 707/1440 image samples \r Processed 708/1440 image samples \r Processed 709/1440 image samples \r Processed 710/1440 image samples \r Processed 711/1440 image samples \r Processed 712/1440 image samples \r Processed 713/1440 image samples \r Processed 714/1440 image samples \r Processed 715/1440 image samples \r Processed 716/1440 image samples \r Processed 717/1440 image samples \r Processed 718/1440 image samples \r Processed 719/1440 image samples \r Processed 720/1440 image samples \r Processed 721/1440 image samples \r Processed 722/1440 image samples \r Processed 723/1440 image samples \r Processed 724/1440 image samples \r Processed 725/1440 image samples \r Processed 726/1440 image samples \r Processed 727/1440 image samples \r Processed 728/1440 image samples \r Processed 729/1440 image samples \r Processed 730/1440 image samples \r Processed 731/1440 image samples \r Processed 732/1440 image samples \r Processed 733/1440 image samples \r Processed 734/1440 image samples \r Processed 735/1440 image samples \r Processed 736/1440 image samples \r Processed 737/1440 image samples \r Processed 738/1440 image samples \r Processed 739/1440 image samples \r Processed 740/1440 image samples \r Processed 741/1440 image samples \r Processed 742/1440 image samples \r Processed 743/1440 image samples \r Processed 744/1440 image samples \r Processed 745/1440 image samples \r Processed 746/1440 image samples \r Processed 747/1440 image samples \r Processed 748/1440 image samples \r Processed 749/1440 image samples \r Processed 750/1440 image samples \r Processed 751/1440 image samples \r Processed 752/1440 image samples \r Processed 753/1440 image samples \r Processed 754/1440 image samples \r Processed 755/1440 image samples \r Processed 756/1440 image samples \r Processed 757/1440 image samples \r Processed 758/1440 image samples \r Processed 759/1440 image samples \r Processed 760/1440 image samples \r Processed 761/1440 image samples \r Processed 762/1440 image samples \r Processed 763/1440 image samples \r Processed 764/1440 image samples \r Processed 765/1440 image samples \r Processed 766/1440 image samples \r Processed 767/1440 image samples \r Processed 768/1440 image samples \r Processed 769/1440 image samples \r Processed 770/1440 image samples \r Processed 771/1440 image samples \r Processed 772/1440 image samples \r Processed 773/1440 image samples \r Processed 774/1440 image samples \r Processed 775/1440 image samples \r Processed 776/1440 image samples \r Processed 777/1440 image samples \r Processed 778/1440 image samples \r Processed 779/1440 image samples \r Processed 780/1440 image samples \r Processed 781/1440 image samples \r Processed 782/1440 image samples \r Processed 783/1440 image samples \r Processed 784/1440 image samples \r Processed 785/1440 image samples \r Processed 786/1440 image samples \r Processed 787/1440 image samples \r Processed 788/1440 image samples \r Processed 789/1440 image samples \r Processed 790/1440 image samples \r Processed 791/1440 image samples \r Processed 792/1440 image samples \r Processed 793/1440 image samples \r Processed 794/1440 image samples \r Processed 795/1440 image samples \r Processed 796/1440 image samples \r Processed 797/1440 image samples \r Processed 798/1440 image samples \r Processed 799/1440 image samples \r Processed 800/1440 image samples \r Processed 801/1440 image samples \r Processed 802/1440 image samples \r Processed 803/1440 image samples \r Processed 804/1440 image samples \r Processed 805/1440 image samples \r Processed 806/1440 image samples \r Processed 807/1440 image samples \r Processed 808/1440 image samples \r Processed 809/1440 image samples \r Processed 810/1440 image samples \r Processed 811/1440 image samples \r Processed 812/1440 image samples \r Processed 813/1440 image samples \r Processed 814/1440 image samples \r Processed 815/1440 image samples \r Processed 816/1440 image samples \r Processed 817/1440 image samples \r Processed 818/1440 image samples \r Processed 819/1440 image samples \r Processed 820/1440 image samples \r Processed 821/1440 image samples \r Processed 822/1440 image samples \r Processed 823/1440 image samples \r Processed 824/1440 image samples \r Processed 825/1440 image samples \r Processed 826/1440 image samples \r Processed 827/1440 image samples \r Processed 828/1440 image samples \r Processed 829/1440 image samples \r Processed 830/1440 image samples \r Processed 831/1440 image samples \r Processed 832/1440 image samples \r Processed 833/1440 image samples \r Processed 834/1440 image samples \r Processed 835/1440 image samples \r Processed 836/1440 image samples \r Processed 837/1440 image samples \r Processed 838/1440 image samples \r Processed 839/1440 image samples \r Processed 840/1440 image samples \r Processed 841/1440 image samples \r Processed 842/1440 image samples \r Processed 843/1440 image samples \r Processed 844/1440 image samples \r Processed 845/1440 image samples \r Processed 846/1440 image samples \r Processed 847/1440 image samples \r Processed 848/1440 image samples \r Processed 849/1440 image samples \r Processed 850/1440 image samples \r Processed 851/1440 image samples \r Processed 852/1440 image samples \r Processed 853/1440 image samples \r Processed 854/1440 image samples \r Processed 855/1440 image samples \r Processed 856/1440 image samples \r Processed 857/1440 image samples \r Processed 858/1440 image samples \r Processed 859/1440 image samples \r Processed 860/1440 image samples \r Processed 861/1440 image samples \r Processed 862/1440 image samples \r Processed 863/1440 image samples \r Processed 864/1440 image samples \r Processed 865/1440 image samples \r Processed 866/1440 image samples \r Processed 867/1440 image samples \r Processed 868/1440 image samples \r Processed 869/1440 image samples \r Processed 870/1440 image samples \r Processed 871/1440 image samples \r Processed 872/1440 image samples \r Processed 873/1440 image samples \r Processed 874/1440 image samples \r Processed 875/1440 image samples \r Processed 876/1440 image samples \r Processed 877/1440 image samples \r Processed 878/1440 image samples \r Processed 879/1440 image samples \r Processed 880/1440 image samples \r Processed 881/1440 image samples \r Processed 882/1440 image samples \r Processed 883/1440 image samples \r Processed 884/1440 image samples \r Processed 885/1440 image samples \r Processed 886/1440 image samples \r Processed 887/1440 image samples \r Processed 888/1440 image samples \r Processed 889/1440 image samples \r Processed 890/1440 image samples \r Processed 891/1440 image samples \r Processed 892/1440 image samples \r Processed 893/1440 image samples \r Processed 894/1440 image samples \r Processed 895/1440 image samples \r Processed 896/1440 image samples \r Processed 897/1440 image samples \r Processed 898/1440 image samples \r Processed 899/1440 image samples \r Processed 900/1440 image samples \r Processed 901/1440 image samples \r Processed 902/1440 image samples \r Processed 903/1440 image samples \r Processed 904/1440 image samples \r Processed 905/1440 image samples \r Processed 906/1440 image samples \r Processed 907/1440 image samples \r Processed 908/1440 image samples \r Processed 909/1440 image samples \r Processed 910/1440 image samples \r Processed 911/1440 image samples \r Processed 912/1440 image samples \r Processed 913/1440 image samples \r Processed 914/1440 image samples \r Processed 915/1440 image samples \r Processed 916/1440 image samples \r Processed 917/1440 image samples \r Processed 918/1440 image samples \r Processed 919/1440 image samples \r Processed 920/1440 image samples \r Processed 921/1440 image samples \r Processed 922/1440 image samples \r Processed 923/1440 image samples \r Processed 924/1440 image samples \r Processed 925/1440 image samples \r Processed 926/1440 image samples \r Processed 927/1440 image samples \r Processed 928/1440 image samples \r Processed 929/1440 image samples \r Processed 930/1440 image samples \r Processed 931/1440 image samples \r Processed 932/1440 image samples \r Processed 933/1440 image samples \r Processed 934/1440 image samples \r Processed 935/1440 image samples \r Processed 936/1440 image samples \r Processed 937/1440 image samples \r Processed 938/1440 image samples \r Processed 939/1440 image samples \r Processed 940/1440 image samples \r Processed 941/1440 image samples \r Processed 942/1440 image samples \r Processed 943/1440 image samples \r Processed 944/1440 image samples \r Processed 945/1440 image samples \r Processed 946/1440 image samples \r Processed 947/1440 image samples \r Processed 948/1440 image samples \r Processed 949/1440 image samples \r Processed 950/1440 image samples \r Processed 951/1440 image samples \r Processed 952/1440 image samples \r Processed 953/1440 image samples \r Processed 954/1440 image samples \r Processed 955/1440 image samples \r Processed 956/1440 image samples \r Processed 957/1440 image samples \r Processed 958/1440 image samples \r Processed 959/1440 image samples \r Processed 960/1440 image samples \r Processed 961/1440 image samples \r Processed 962/1440 image samples \r Processed 963/1440 image samples \r Processed 964/1440 image samples \r Processed 965/1440 image samples \r Processed 966/1440 image samples \r Processed 967/1440 image samples \r Processed 968/1440 image samples \r Processed 969/1440 image samples \r Processed 970/1440 image samples \r Processed 971/1440 image samples \r Processed 972/1440 image samples \r Processed 973/1440 image samples \r Processed 974/1440 image samples \r Processed 975/1440 image samples \r Processed 976/1440 image samples \r Processed 977/1440 image samples \r Processed 978/1440 image samples \r Processed 979/1440 image samples \r Processed 980/1440 image samples \r Processed 981/1440 image samples \r Processed 982/1440 image samples \r Processed 983/1440 image samples \r Processed 984/1440 image samples \r Processed 985/1440 image samples \r Processed 986/1440 image samples \r Processed 987/1440 image samples \r Processed 988/1440 image samples \r Processed 989/1440 image samples \r Processed 990/1440 image samples \r Processed 991/1440 image samples \r Processed 992/1440 image samples \r Processed 993/1440 image samples \r Processed 994/1440 image samples \r Processed 995/1440 image samples \r Processed 996/1440 image samples \r Processed 997/1440 image samples \r Processed 998/1440 image samples \r Processed 999/1440 image samples \r Processed 1000/1440 image samples \r Processed 1001/1440 image samples \r Processed 1002/1440 image samples \r Processed 1003/1440 image samples \r Processed 1004/1440 image samples \r Processed 1005/1440 image samples \r Processed 1006/1440 image samples \r Processed 1007/1440 image samples \r Processed 1008/1440 image samples \r Processed 1009/1440 image samples \r Processed 1010/1440 image samples \r Processed 1011/1440 image samples \r Processed 1012/1440 image samples \r Processed 1013/1440 image samples \r Processed 1014/1440 image samples \r Processed 1015/1440 image samples \r Processed 1016/1440 image samples \r Processed 1017/1440 image samples \r Processed 1018/1440 image samples \r Processed 1019/1440 image samples \r Processed 1020/1440 image samples \r Processed 1021/1440 image samples \r Processed 1022/1440 image samples \r Processed 1023/1440 image samples \r Processed 1024/1440 image samples \r Processed 1025/1440 image samples \r Processed 1026/1440 image samples \r Processed 1027/1440 image samples \r Processed 1028/1440 image samples \r Processed 1029/1440 image samples \r Processed 1030/1440 image samples \r Processed 1031/1440 image samples \r Processed 1032/1440 image samples \r Processed 1033/1440 image samples \r Processed 1034/1440 image samples \r Processed 1035/1440 image samples \r Processed 1036/1440 image samples \r Processed 1037/1440 image samples \r Processed 1038/1440 image samples \r Processed 1039/1440 image samples \r Processed 1040/1440 image samples \r Processed 1041/1440 image samples \r Processed 1042/1440 image samples \r Processed 1043/1440 image samples \r Processed 1044/1440 image samples \r Processed 1045/1440 image samples \r Processed 1046/1440 image samples \r Processed 1047/1440 image samples \r Processed 1048/1440 image samples \r Processed 1049/1440 image samples \r Processed 1050/1440 image samples \r Processed 1051/1440 image samples \r Processed 1052/1440 image samples \r Processed 1053/1440 image samples \r Processed 1054/1440 image samples \r Processed 1055/1440 image samples \r Processed 1056/1440 image samples \r Processed 1057/1440 image samples \r Processed 1058/1440 image samples \r Processed 1059/1440 image samples \r Processed 1060/1440 image samples \r Processed 1061/1440 image samples \r Processed 1062/1440 image samples \r Processed 1063/1440 image samples \r Processed 1064/1440 image samples \r Processed 1065/1440 image samples \r Processed 1066/1440 image samples \r Processed 1067/1440 image samples \r Processed 1068/1440 image samples \r Processed 1069/1440 image samples \r Processed 1070/1440 image samples \r Processed 1071/1440 image samples \r Processed 1072/1440 image samples \r Processed 1073/1440 image samples \r Processed 1074/1440 image samples \r Processed 1075/1440 image samples \r Processed 1076/1440 image samples \r Processed 1077/1440 image samples \r Processed 1078/1440 image samples \r Processed 1079/1440 image samples \r Processed 1080/1440 image samples \r Processed 1081/1440 image samples \r Processed 1082/1440 image samples \r Processed 1083/1440 image samples \r Processed 1084/1440 image samples \r Processed 1085/1440 image samples \r Processed 1086/1440 image samples \r Processed 1087/1440 image samples \r Processed 1088/1440 image samples \r Processed 1089/1440 image samples \r Processed 1090/1440 image samples \r Processed 1091/1440 image samples \r Processed 1092/1440 image samples \r Processed 1093/1440 image samples \r Processed 1094/1440 image samples \r Processed 1095/1440 image samples \r Processed 1096/1440 image samples \r Processed 1097/1440 image samples \r Processed 1098/1440 image samples \r Processed 1099/1440 image samples \r Processed 1100/1440 image samples \r Processed 1101/1440 image samples \r Processed 1102/1440 image samples \r Processed 1103/1440 image samples \r Processed 1104/1440 image samples \r Processed 1105/1440 image samples \r Processed 1106/1440 image samples \r Processed 1107/1440 image samples \r Processed 1108/1440 image samples \r Processed 1109/1440 image samples \r Processed 1110/1440 image samples \r Processed 1111/1440 image samples \r Processed 1112/1440 image samples \r Processed 1113/1440 image samples \r Processed 1114/1440 image samples \r Processed 1115/1440 image samples \r Processed 1116/1440 image samples \r Processed 1117/1440 image samples \r Processed 1118/1440 image samples \r Processed 1119/1440 image samples \r Processed 1120/1440 image samples \r Processed 1121/1440 image samples \r Processed 1122/1440 image samples \r Processed 1123/1440 image samples \r Processed 1124/1440 image samples \r Processed 1125/1440 image samples \r Processed 1126/1440 image samples \r Processed 1127/1440 image samples \r Processed 1128/1440 image samples \r Processed 1129/1440 image samples \r Processed 1130/1440 image samples \r Processed 1131/1440 image samples \r Processed 1132/1440 image samples \r Processed 1133/1440 image samples \r Processed 1134/1440 image samples \r Processed 1135/1440 image samples \r Processed 1136/1440 image samples \r Processed 1137/1440 image samples \r Processed 1138/1440 image samples \r Processed 1139/1440 image samples \r Processed 1140/1440 image samples \r Processed 1141/1440 image samples \r Processed 1142/1440 image samples \r Processed 1143/1440 image samples \r Processed 1144/1440 image samples \r Processed 1145/1440 image samples \r Processed 1146/1440 image samples \r Processed 1147/1440 image samples \r Processed 1148/1440 image samples \r Processed 1149/1440 image samples \r Processed 1150/1440 image samples \r Processed 1151/1440 image samples \r Processed 1152/1440 image samples \r Processed 1153/1440 image samples \r Processed 1154/1440 image samples \r Processed 1155/1440 image samples \r Processed 1156/1440 image samples \r Processed 1157/1440 image samples \r Processed 1158/1440 image samples \r Processed 1159/1440 image samples \r Processed 1160/1440 image samples \r Processed 1161/1440 image samples \r Processed 1162/1440 image samples \r Processed 1163/1440 image samples \r Processed 1164/1440 image samples \r Processed 1165/1440 image samples \r Processed 1166/1440 image samples \r Processed 1167/1440 image samples \r Processed 1168/1440 image samples \r Processed 1169/1440 image samples \r Processed 1170/1440 image samples \r Processed 1171/1440 image samples \r Processed 1172/1440 image samples \r Processed 1173/1440 image samples \r Processed 1174/1440 image samples \r Processed 1175/1440 image samples \r Processed 1176/1440 image samples \r Processed 1177/1440 image samples \r Processed 1178/1440 image samples \r Processed 1179/1440 image samples \r Processed 1180/1440 image samples \r Processed 1181/1440 image samples \r Processed 1182/1440 image samples \r Processed 1183/1440 image samples \r Processed 1184/1440 image samples \r Processed 1185/1440 image samples \r Processed 1186/1440 image samples \r Processed 1187/1440 image samples \r Processed 1188/1440 image samples \r Processed 1189/1440 image samples \r Processed 1190/1440 image samples \r Processed 1191/1440 image samples \r Processed 1192/1440 image samples \r Processed 1193/1440 image samples \r Processed 1194/1440 image samples \r Processed 1195/1440 image samples \r Processed 1196/1440 image samples \r Processed 1197/1440 image samples \r Processed 1198/1440 image samples \r Processed 1199/1440 image samples \r Processed 1200/1440 image samples \r Processed 1201/1440 image samples \r Processed 1202/1440 image samples \r Processed 1203/1440 image samples \r Processed 1204/1440 image samples \r Processed 1205/1440 image samples \r Processed 1206/1440 image samples \r Processed 1207/1440 image samples \r Processed 1208/1440 image samples \r Processed 1209/1440 image samples \r Processed 1210/1440 image samples \r Processed 1211/1440 image samples \r Processed 1212/1440 image samples \r Processed 1213/1440 image samples \r Processed 1214/1440 image samples \r Processed 1215/1440 image samples \r Processed 1216/1440 image samples \r Processed 1217/1440 image samples \r Processed 1218/1440 image samples \r Processed 1219/1440 image samples \r Processed 1220/1440 image samples \r Processed 1221/1440 image samples \r Processed 1222/1440 image samples \r Processed 1223/1440 image samples \r Processed 1224/1440 image samples \r Processed 1225/1440 image samples \r Processed 1226/1440 image samples \r Processed 1227/1440 image samples \r Processed 1228/1440 image samples \r Processed 1229/1440 image samples \r Processed 1230/1440 image samples \r Processed 1231/1440 image samples \r Processed 1232/1440 image samples \r Processed 1233/1440 image samples \r Processed 1234/1440 image samples \r Processed 1235/1440 image samples \r Processed 1236/1440 image samples \r Processed 1237/1440 image samples \r Processed 1238/1440 image samples \r Processed 1239/1440 image samples \r Processed 1240/1440 image samples \r Processed 1241/1440 image samples \r Processed 1242/1440 image samples \r Processed 1243/1440 image samples \r Processed 1244/1440 image samples \r Processed 1245/1440 image samples \r Processed 1246/1440 image samples \r Processed 1247/1440 image samples \r Processed 1248/1440 image samples \r Processed 1249/1440 image samples \r Processed 1250/1440 image samples \r Processed 1251/1440 image samples \r Processed 1252/1440 image samples \r Processed 1253/1440 image samples \r Processed 1254/1440 image samples \r Processed 1255/1440 image samples \r Processed 1256/1440 image samples \r Processed 1257/1440 image samples \r Processed 1258/1440 image samples \r Processed 1259/1440 image samples \r Processed 1260/1440 image samples \r Processed 1261/1440 image samples \r Processed 1262/1440 image samples \r Processed 1263/1440 image samples \r Processed 1264/1440 image samples \r Processed 1265/1440 image samples \r Processed 1266/1440 image samples \r Processed 1267/1440 image samples \r Processed 1268/1440 image samples \r Processed 1269/1440 image samples \r Processed 1270/1440 image samples \r Processed 1271/1440 image samples \r Processed 1272/1440 image samples \r Processed 1273/1440 image samples \r Processed 1274/1440 image samples \r Processed 1275/1440 image samples \r Processed 1276/1440 image samples \r Processed 1277/1440 image samples \r Processed 1278/1440 image samples \r Processed 1279/1440 image samples \r Processed 1280/1440 image samples \r Processed 1281/1440 image samples \r Processed 1282/1440 image samples \r Processed 1283/1440 image samples \r Processed 1284/1440 image samples \r Processed 1285/1440 image samples \r Processed 1286/1440 image samples \r Processed 1287/1440 image samples \r Processed 1288/1440 image samples \r Processed 1289/1440 image samples \r Processed 1290/1440 image samples \r Processed 1291/1440 image samples \r Processed 1292/1440 image samples \r Processed 1293/1440 image samples \r Processed 1294/1440 image samples \r Processed 1295/1440 image samples \r Processed 1296/1440 image samples \r Processed 1297/1440 image samples \r Processed 1298/1440 image samples \r Processed 1299/1440 image samples \r Processed 1300/1440 image samples \r Processed 1301/1440 image samples \r Processed 1302/1440 image samples \r Processed 1303/1440 image samples \r Processed 1304/1440 image samples \r Processed 1305/1440 image samples \r Processed 1306/1440 image samples \r Processed 1307/1440 image samples \r Processed 1308/1440 image samples \r Processed 1309/1440 image samples \r Processed 1310/1440 image samples \r Processed 1311/1440 image samples \r Processed 1312/1440 image samples \r Processed 1313/1440 image samples \r Processed 1314/1440 image samples \r Processed 1315/1440 image samples \r Processed 1316/1440 image samples \r Processed 1317/1440 image samples \r Processed 1318/1440 image samples \r Processed 1319/1440 image samples \r Processed 1320/1440 image samples \r Processed 1321/1440 image samples \r Processed 1322/1440 image samples \r Processed 1323/1440 image samples \r Processed 1324/1440 image samples \r Processed 1325/1440 image samples \r Processed 1326/1440 image samples \r Processed 1327/1440 image samples \r Processed 1328/1440 image samples \r Processed 1329/1440 image samples \r Processed 1330/1440 image samples \r Processed 1331/1440 image samples \r Processed 1332/1440 image samples \r Processed 1333/1440 image samples \r Processed 1334/1440 image samples \r Processed 1335/1440 image samples \r Processed 1336/1440 image samples \r Processed 1337/1440 image samples \r Processed 1338/1440 image samples \r Processed 1339/1440 image samples \r Processed 1340/1440 image samples \r Processed 1341/1440 image samples \r Processed 1342/1440 image samples \r Processed 1343/1440 image samples \r Processed 1344/1440 image samples \r Processed 1345/1440 image samples \r Processed 1346/1440 image samples \r Processed 1347/1440 image samples \r Processed 1348/1440 image samples \r Processed 1349/1440 image samples \r Processed 1350/1440 image samples \r Processed 1351/1440 image samples \r Processed 1352/1440 image samples \r Processed 1353/1440 image samples \r Processed 1354/1440 image samples \r Processed 1355/1440 image samples \r Processed 1356/1440 image samples \r Processed 1357/1440 image samples \r Processed 1358/1440 image samples \r Processed 1359/1440 image samples \r Processed 1360/1440 image samples \r Processed 1361/1440 image samples \r Processed 1362/1440 image samples \r Processed 1363/1440 image samples \r Processed 1364/1440 image samples \r Processed 1365/1440 image samples \r Processed 1366/1440 image samples \r Processed 1367/1440 image samples \r Processed 1368/1440 image samples \r Processed 1369/1440 image samples \r Processed 1370/1440 image samples \r Processed 1371/1440 image samples \r Processed 1372/1440 image samples \r Processed 1373/1440 image samples \r Processed 1374/1440 image samples \r Processed 1375/1440 image samples \r Processed 1376/1440 image samples \r Processed 1377/1440 image samples \r Processed 1378/1440 image samples \r Processed 1379/1440 image samples \r Processed 1380/1440 image samples \r Processed 1381/1440 image samples \r Processed 1382/1440 image samples \r Processed 1383/1440 image samples \r Processed 1384/1440 image samples \r Processed 1385/1440 image samples \r Processed 1386/1440 image samples \r Processed 1387/1440 image samples \r Processed 1388/1440 image samples \r Processed 1389/1440 image samples \r Processed 1390/1440 image samples \r Processed 1391/1440 image samples \r Processed 1392/1440 image samples \r Processed 1393/1440 image samples \r Processed 1394/1440 image samples \r Processed 1395/1440 image samples \r Processed 1396/1440 image samples \r Processed 1397/1440 image samples \r Processed 1398/1440 image samples \r Processed 1399/1440 image samples \r Processed 1400/1440 image samples \r Processed 1401/1440 image samples \r Processed 1402/1440 image samples \r Processed 1403/1440 image samples \r Processed 1404/1440 image samples \r Processed 1405/1440 image samples \r Processed 1406/1440 image samples \r Processed 1407/1440 image samples \r Processed 1408/1440 image samples \r Processed 1409/1440 image samples \r Processed 1410/1440 image samples \r Processed 1411/1440 image samples \r Processed 1412/1440 image samples \r Processed 1413/1440 image samples \r Processed 1414/1440 image samples \r Processed 1415/1440 image samples \r Processed 1416/1440 image samples \r Processed 1417/1440 image samples \r Processed 1418/1440 image samples \r Processed 1419/1440 image samples \r Processed 1420/1440 image samples \r Processed 1421/1440 image samples \r Processed 1422/1440 image samples \r Processed 1423/1440 image samples \r Processed 1424/1440 image samples \r Processed 1425/1440 image samples \r Processed 1426/1440 image samples \r Processed 1427/1440 image samples \r Processed 1428/1440 image samples \r Processed 1429/1440 image samples \r Processed 1430/1440 image samples \r Processed 1431/1440 image samples \r Processed 1432/1440 image samples \r Processed 1433/1440 image samples \r Processed 1434/1440 image samples \r Processed 1435/1440 image samples \r Processed 1436/1440 image samples \r Processed 1437/1440 image samples \r Processed 1438/1440 image samples \r Processed 1439/1440 image samples \r Processed 1440/1440 image samples \r Processed 1441/1440 image samples \r Processed 1442/1440 image samples \r Processed 1443/1440 image samples \r Processed 1444/1440 image samples \r Processed 1445/1440 image samples \r Processed 1446/1440 image samples \r Processed 1447/1440 image samples \r Processed 1448/1440 image samples \r Processed 1449/1440 image samples \r Processed 1450/1440 image samples \r Processed 1451/1440 image samples \r Processed 1452/1440 image samples \r Processed 1453/1440 image samples \r Processed 1454/1440 image samples \r Processed 1455/1440 image samples \r Processed 1456/1440 image samples \r Processed 1457/1440 image samples \r Processed 1458/1440 image samples \r Processed 1459/1440 image samples \r Processed 1460/1440 image samples \r Processed 1461/1440 image samples \r Processed 1462/1440 image samples \r Processed 1463/1440 image samples \r Processed 1464/1440 image samples \r Processed 1465/1440 image samples \r Processed 1466/1440 image samples \r Processed 1467/1440 image samples \r Processed 1468/1440 image samples \r Processed 1469/1440 image samples \r Processed 1470/1440 image samples \r Processed 1471/1440 image samples \r Processed 1472/1440 image samples \r Processed 1473/1440 image samples \r Processed 1474/1440 image samples \r Processed 1475/1440 image samples \r Processed 1476/1440 image samples \r Processed 1477/1440 image samples \r Processed 1478/1440 image samples \r Processed 1479/1440 image samples \r Processed 1480/1440 image samples \r Processed 1481/1440 image samples \r Processed 1482/1440 image samples \r Processed 1483/1440 image samples \r Processed 1484/1440 image samples \r Processed 1485/1440 image samples \r Processed 1486/1440 image samples \r Processed 1487/1440 image samples \r Processed 1488/1440 image samples \r Processed 1489/1440 image samples \r Processed 1490/1440 image samples \r Processed 1491/1440 image samples \r Processed 1492/1440 image samples \r Processed 1493/1440 image samples \r Processed 1494/1440 image samples \r Processed 1495/1440 image samples \r Processed 1496/1440 image samples \r Processed 1497/1440 image samples \r Processed 1498/1440 image samples \r Processed 1499/1440 image samples \r Processed 1500/1440 image samples \r Processed 1501/1440 image samples \r Processed 1502/1440 image samples \r Processed 1503/1440 image samples \r Processed 1504/1440 image samples \r Processed 1505/1440 image samples \r Processed 1506/1440 image samples \r Processed 1507/1440 image samples \r Processed 1508/1440 image samples \r Processed 1509/1440 image samples \r Processed 1510/1440 image samples \r Processed 1511/1440 image samples \r Processed 1512/1440 image samples \r Processed 1513/1440 image samples \r Processed 1514/1440 image samples \r Processed 1515/1440 image samples \r Processed 1516/1440 image samples \r Processed 1517/1440 image samples \r Processed 1518/1440 image samples \r Processed 1519/1440 image samples \r Processed 1520/1440 image samples \r Processed 1521/1440 image samples \r Processed 1522/1440 image samples \r Processed 1523/1440 image samples \r Processed 1524/1440 image samples \r Processed 1525/1440 image samples \r Processed 1526/1440 image samples \r Processed 1527/1440 image samples \r Processed 1528/1440 image samples \r Processed 1529/1440 image samples \r Processed 1530/1440 image samples \r Processed 1531/1440 image samples \r Processed 1532/1440 image samples \r Processed 1533/1440 image samples \r Processed 1534/1440 image samples \r Processed 1535/1440 image samples \r Processed 1536/1440 image samples \r Processed 1537/1440 image samples \r Processed 1538/1440 image samples \r Processed 1539/1440 image samples \r Processed 1540/1440 image samples \r Processed 1541/1440 image samples \r Processed 1542/1440 image samples \r Processed 1543/1440 image samples \r Processed 1544/1440 image samples \r Processed 1545/1440 image samples \r Processed 1546/1440 image samples \r Processed 1547/1440 image samples \r Processed 1548/1440 image samples \r Processed 1549/1440 image samples \r Processed 1550/1440 image samples \r Processed 1551/1440 image samples \r Processed 1552/1440 image samples \r Processed 1553/1440 image samples \r Processed 1554/1440 image samples \r Processed 1555/1440 image samples \r Processed 1556/1440 image samples \r Processed 1557/1440 image samples \r Processed 1558/1440 image samples \r Processed 1559/1440 image samples \r Processed 1560/1440 image samples \r Processed 1561/1440 image samples \r Processed 1562/1440 image samples \r Processed 1563/1440 image samples \r Processed 1564/1440 image samples \r Processed 1565/1440 image samples \r Processed 1566/1440 image samples \r Processed 1567/1440 image samples \r Processed 1568/1440 image samples \r Processed 1569/1440 image samples \r Processed 1570/1440 image samples \r Processed 1571/1440 image samples \r Processed 1572/1440 image samples \r Processed 1573/1440 image samples \r Processed 1574/1440 image samples \r Processed 1575/1440 image samples \r Processed 1576/1440 image samples \r Processed 1577/1440 image samples \r Processed 1578/1440 image samples \r Processed 1579/1440 image samples \r Processed 1580/1440 image samples \r Processed 1581/1440 image samples \r Processed 1582/1440 image samples \r Processed 1583/1440 image samples \r Processed 1584/1440 image samples \r Processed 1585/1440 image samples \r Processed 1586/1440 image samples \r Processed 1587/1440 image samples \r Processed 1588/1440 image samples \r Processed 1589/1440 image samples \r Processed 1590/1440 image samples \r Processed 1591/1440 image samples \r Processed 1592/1440 image samples \r Processed 1593/1440 image samples \r Processed 1594/1440 image samples \r Processed 1595/1440 image samples \r Processed 1596/1440 image samples \r Processed 1597/1440 image samples \r Processed 1598/1440 image samples \r Processed 1599/1440 image samples \r Processed 1600/1440 image samples \r Processed 1601/1440 image samples \r Processed 1602/1440 image samples \r Processed 1603/1440 image samples \r Processed 1604/1440 image samples \r Processed 1605/1440 image samples \r Processed 1606/1440 image samples \r Processed 1607/1440 image samples \r Processed 1608/1440 image samples \r Processed 1609/1440 image samples \r Processed 1610/1440 image samples \r Processed 1611/1440 image samples \r Processed 1612/1440 image samples \r Processed 1613/1440 image samples \r Processed 1614/1440 image samples \r Processed 1615/1440 image samples \r Processed 1616/1440 image samples \r Processed 1617/1440 image samples \r Processed 1618/1440 image samples \r Processed 1619/1440 image samples \r Processed 1620/1440 image samples \r Processed 1621/1440 image samples \r Processed 1622/1440 image samples \r Processed 1623/1440 image samples \r Processed 1624/1440 image samples \r Processed 1625/1440 image samples \r Processed 1626/1440 image samples \r Processed 1627/1440 image samples \r Processed 1628/1440 image samples \r Processed 1629/1440 image samples \r Processed 1630/1440 image samples \r Processed 1631/1440 image samples \r Processed 1632/1440 image samples \r Processed 1633/1440 image samples \r Processed 1634/1440 image samples \r Processed 1635/1440 image samples \r Processed 1636/1440 image samples \r Processed 1637/1440 image samples \r Processed 1638/1440 image samples \r Processed 1639/1440 image samples \r Processed 1640/1440 image samples \r Processed 1641/1440 image samples \r Processed 1642/1440 image samples \r Processed 1643/1440 image samples \r Processed 1644/1440 image samples \r Processed 1645/1440 image samples \r Processed 1646/1440 image samples \r Processed 1647/1440 image samples \r Processed 1648/1440 image samples \r Processed 1649/1440 image samples \r Processed 1650/1440 image samples \r Processed 1651/1440 image samples \r Processed 1652/1440 image samples \r Processed 1653/1440 image samples \r Processed 1654/1440 image samples \r Processed 1655/1440 image samples \r Processed 1656/1440 image samples \r Processed 1657/1440 image samples \r Processed 1658/1440 image samples \r Processed 1659/1440 image samples \r Processed 1660/1440 image samples \r Processed 1661/1440 image samples \r Processed 1662/1440 image samples \r Processed 1663/1440 image samples \r Processed 1664/1440 image samples \r Processed 1665/1440 image samples \r Processed 1666/1440 image samples \r Processed 1667/1440 image samples \r Processed 1668/1440 image samples \r Processed 1669/1440 image samples \r Processed 1670/1440 image samples \r Processed 1671/1440 image samples \r Processed 1672/1440 image samples \r Processed 1673/1440 image samples \r Processed 1674/1440 image samples \r Processed 1675/1440 image samples \r Processed 1676/1440 image samples \r Processed 1677/1440 image samples \r Processed 1678/1440 image samples \r Processed 1679/1440 image samples \r Processed 1680/1440 image samples \r Processed 1681/1440 image samples \r Processed 1682/1440 image samples \r Processed 1683/1440 image samples \r Processed 1684/1440 image samples \r Processed 1685/1440 image samples \r Processed 1686/1440 image samples \r Processed 1687/1440 image samples \r Processed 1688/1440 image samples \r Processed 1689/1440 image samples \r Processed 1690/1440 image samples \r Processed 1691/1440 image samples \r Processed 1692/1440 image samples \r Processed 1693/1440 image samples \r Processed 1694/1440 image samples \r Processed 1695/1440 image samples \r Processed 1696/1440 image samples \r Processed 1697/1440 image samples \r Processed 1698/1440 image samples \r Processed 1699/1440 image samples \r Processed 1700/1440 image samples \r Processed 1701/1440 image samples \r Processed 1702/1440 image samples \r Processed 1703/1440 image samples \r Processed 1704/1440 image samples \r Processed 1705/1440 image samples \r Processed 1706/1440 image samples \r Processed 1707/1440 image samples \r Processed 1708/1440 image samples \r Processed 1709/1440 image samples \r Processed 1710/1440 image samples \r Processed 1711/1440 image samples \r Processed 1712/1440 image samples \r Processed 1713/1440 image samples \r Processed 1714/1440 image samples \r Processed 1715/1440 image samples \r Processed 1716/1440 image samples \r Processed 1717/1440 image samples \r Processed 1718/1440 image samples \r Processed 1719/1440 image samples \r Processed 1720/1440 image samples \r Processed 1721/1440 image samples \r Processed 1722/1440 image samples \r Processed 1723/1440 image samples \r Processed 1724/1440 image samples \r Processed 1725/1440 image samples \r Processed 1726/1440 image samples \r Processed 1727/1440 image samples \r Processed 1728/1440 image samples \r Processed 1729/1440 image samples \r Processed 1730/1440 image samples \r Processed 1731/1440 image samples \r Processed 1732/1440 image samples \r Processed 1733/1440 image samples \r Processed 1734/1440 image samples \r Processed 1735/1440 image samples \r Processed 1736/1440 image samples \r Processed 1737/1440 image samples \r Processed 1738/1440 image samples \r Processed 1739/1440 image samples \r Processed 1740/1440 image samples \r Processed 1741/1440 image samples \r Processed 1742/1440 image samples \r Processed 1743/1440 image samples \r Processed 1744/1440 image samples \r Processed 1745/1440 image samples \r Processed 1746/1440 image samples \r Processed 1747/1440 image samples \r Processed 1748/1440 image samples \r Processed 1749/1440 image samples \r Processed 1750/1440 image samples \r Processed 1751/1440 image samples \r Processed 1752/1440 image samples \r Processed 1753/1440 image samples \r Processed 1754/1440 image samples \r Processed 1755/1440 image samples \r Processed 1756/1440 image samples \r Processed 1757/1440 image samples \r Processed 1758/1440 image samples \r Processed 1759/1440 image samples \r Processed 1760/1440 image samples \r Processed 1761/1440 image samples \r Processed 1762/1440 image samples \r Processed 1763/1440 image samples \r Processed 1764/1440 image samples \r Processed 1765/1440 image samples \r Processed 1766/1440 image samples \r Processed 1767/1440 image samples \r Processed 1768/1440 image samples \r Processed 1769/1440 image samples \r Processed 1770/1440 image samples \r Processed 1771/1440 image samples \r Processed 1772/1440 image samples \r Processed 1773/1440 image samples \r Processed 1774/1440 image samples \r Processed 1775/1440 image samples \r Processed 1776/1440 image samples \r Processed 1777/1440 image samples \r Processed 1778/1440 image samples \r Processed 1779/1440 image samples \r Processed 1780/1440 image samples \r Processed 1781/1440 image samples \r Processed 1782/1440 image samples \r Processed 1783/1440 image samples \r Processed 1784/1440 image samples \r Processed 1785/1440 image samples \r Processed 1786/1440 image samples \r Processed 1787/1440 image samples \r Processed 1788/1440 image samples \r Processed 1789/1440 image samples \r Processed 1790/1440 image samples \r Processed 1791/1440 image samples \r Processed 1792/1440 image samples \r Processed 1793/1440 image samples \r Processed 1794/1440 image samples \r Processed 1795/1440 image samples \r Processed 1796/1440 image samples \r Processed 1797/1440 image samples \r Processed 1798/1440 image samples \r Processed 1799/1440 image samples \r Processed 1800/1440 image samples \r Processed 1801/1440 image samples \r Processed 1802/1440 image samples \r Processed 1803/1440 image samples \r Processed 1804/1440 image samples \r Processed 1805/1440 image samples \r Processed 1806/1440 image samples \r Processed 1807/1440 image samples \r Processed 1808/1440 image samples \r Processed 1809/1440 image samples \r Processed 1810/1440 image samples \r Processed 1811/1440 image samples \r Processed 1812/1440 image samples \r Processed 1813/1440 image samples \r Processed 1814/1440 image samples \r Processed 1815/1440 image samples \r Processed 1816/1440 image samples \r Processed 1817/1440 image samples \r Processed 1818/1440 image samples \r Processed 1819/1440 image samples \r Processed 1820/1440 image samples \r Processed 1821/1440 image samples \r Processed 1822/1440 image samples \r Processed 1823/1440 image samples \r Processed 1824/1440 image samples \r Processed 1825/1440 image samples \r Processed 1826/1440 image samples \r Processed 1827/1440 image samples \r Processed 1828/1440 image samples \r Processed 1829/1440 image samples \r Processed 1830/1440 image samples \r Processed 1831/1440 image samples \r Processed 1832/1440 image samples \r Processed 1833/1440 image samples \r Processed 1834/1440 image samples \r Processed 1835/1440 image samples \r Processed 1836/1440 image samples \r Processed 1837/1440 image samples \r Processed 1838/1440 image samples \r Processed 1839/1440 image samples \r Processed 1840/1440 image samples \r Processed 1841/1440 image samples \r Processed 1842/1440 image samples \r Processed 1843/1440 image samples \r Processed 1844/1440 image samples \r Processed 1845/1440 image samples \r Processed 1846/1440 image samples \r Processed 1847/1440 image samples \r Processed 1848/1440 image samples \r Processed 1849/1440 image samples \r Processed 1850/1440 image samples \r Processed 1851/1440 image samples \r Processed 1852/1440 image samples \r Processed 1853/1440 image samples \r Processed 1854/1440 image samples \r Processed 1855/1440 image samples \r Processed 1856/1440 image samples \r Processed 1857/1440 image samples \r Processed 1858/1440 image samples \r Processed 1859/1440 image samples \r Processed 1860/1440 image samples \r Processed 1861/1440 image samples \r Processed 1862/1440 image samples \r Processed 1863/1440 image samples \r Processed 1864/1440 image samples \r Processed 1865/1440 image samples \r Processed 1866/1440 image samples \r Processed 1867/1440 image samples \r Processed 1868/1440 image samples \r Processed 1869/1440 image samples \r Processed 1870/1440 image samples \r Processed 1871/1440 image samples \r Processed 1872/1440 image samples \r Processed 1873/1440 image samples \r Processed 1874/1440 image samples \r Processed 1875/1440 image samples \r Processed 1876/1440 image samples \r Processed 1877/1440 image samples \r Processed 1878/1440 image samples \r Processed 1879/1440 image samples \r Processed 1880/1440 image samples \r Processed 1881/1440 image samples \r Processed 1882/1440 image samples \r Processed 1883/1440 image samples \r Processed 1884/1440 image samples \r Processed 1885/1440 image samples \r Processed 1886/1440 image samples \r Processed 1887/1440 image samples \r Processed 1888/1440 image samples \r Processed 1889/1440 image samples \r Processed 1890/1440 image samples \r Processed 1891/1440 image samples \r Processed 1892/1440 image samples \r Processed 1893/1440 image samples \r Processed 1894/1440 image samples \r Processed 1895/1440 image samples \r Processed 1896/1440 image samples \r Processed 1897/1440 image samples \r Processed 1898/1440 image samples \r Processed 1899/1440 image samples \r Processed 1900/1440 image samples \r Processed 1901/1440 image samples \r Processed 1902/1440 image samples \r Processed 1903/1440 image samples \r Processed 1904/1440 image samples \r Processed 1905/1440 image samples \r Processed 1906/1440 image samples \r Processed 1907/1440 image samples \r Processed 1908/1440 image samples \r Processed 1909/1440 image samples \r Processed 1910/1440 image samples \r Processed 1911/1440 image samples \r Processed 1912/1440 image samples \r Processed 1913/1440 image samples \r Processed 1914/1440 image samples \r Processed 1915/1440 image samples \r Processed 1916/1440 image samples \r Processed 1917/1440 image samples \r Processed 1918/1440 image samples \r Processed 1919/1440 image samples \r Processed 1920/1440 image samples \r Processed 1921/1440 image samples \r Processed 1922/1440 image samples \r Processed 1923/1440 image samples \r Processed 1924/1440 image samples \r Processed 1925/1440 image samples \r Processed 1926/1440 image samples \r Processed 1927/1440 image samples \r Processed 1928/1440 image samples \r Processed 1929/1440 image samples \r Processed 1930/1440 image samples \r Processed 1931/1440 image samples \r Processed 1932/1440 image samples \r Processed 1933/1440 image samples \r Processed 1934/1440 image samples \r Processed 1935/1440 image samples \r Processed 1936/1440 image samples \r Processed 1937/1440 image samples \r Processed 1938/1440 image samples \r Processed 1939/1440 image samples \r Processed 1940/1440 image samples \r Processed 1941/1440 image samples \r Processed 1942/1440 image samples \r Processed 1943/1440 image samples \r Processed 1944/1440 image samples \r Processed 1945/1440 image samples \r Processed 1946/1440 image samples \r Processed 1947/1440 image samples \r Processed 1948/1440 image samples \r Processed 1949/1440 image samples \r Processed 1950/1440 image samples \r Processed 1951/1440 image samples \r Processed 1952/1440 image samples \r Processed 1953/1440 image samples \r Processed 1954/1440 image samples \r Processed 1955/1440 image samples \r Processed 1956/1440 image samples \r Processed 1957/1440 image samples \r Processed 1958/1440 image samples \r Processed 1959/1440 image samples \r Processed 1960/1440 image samples \r Processed 1961/1440 image samples \r Processed 1962/1440 image samples \r Processed 1963/1440 image samples \r Processed 1964/1440 image samples \r Processed 1965/1440 image samples \r Processed 1966/1440 image samples \r Processed 1967/1440 image samples \r Processed 1968/1440 image samples \r Processed 1969/1440 image samples \r Processed 1970/1440 image samples \r Processed 1971/1440 image samples \r Processed 1972/1440 image samples \r Processed 1973/1440 image samples \r Processed 1974/1440 image samples \r Processed 1975/1440 image samples \r Processed 1976/1440 image samples \r Processed 1977/1440 image samples \r Processed 1978/1440 image samples \r Processed 1979/1440 image samples \r Processed 1980/1440 image samples \r Processed 1981/1440 image samples \r Processed 1982/1440 image samples \r Processed 1983/1440 image samples \r Processed 1984/1440 image samples \r Processed 1985/1440 image samples \r Processed 1986/1440 image samples \r Processed 1987/1440 image samples \r Processed 1988/1440 image samples \r Processed 1989/1440 image samples \r Processed 1990/1440 image samples \r Processed 1991/1440 image samples \r Processed 1992/1440 image samples \r Processed 1993/1440 image samples \r Processed 1994/1440 image samples \r Processed 1995/1440 image samples \r Processed 1996/1440 image samples \r Processed 1997/1440 image samples \r Processed 1998/1440 image samples \r Processed 1999/1440 image samples \r Processed 2000/1440 image samples \r Processed 2001/1440 image samples \r Processed 2002/1440 image samples \r Processed 2003/1440 image samples \r Processed 2004/1440 image samples \r Processed 2005/1440 image samples \r Processed 2006/1440 image samples \r Processed 2007/1440 image samples \r Processed 2008/1440 image samples \r Processed 2009/1440 image samples \r Processed 2010/1440 image samples \r Processed 2011/1440 image samples \r Processed 2012/1440 image samples \r Processed 2013/1440 image samples \r Processed 2014/1440 image samples \r Processed 2015/1440 image samples \r Processed 2016/1440 image samples \r Processed 2017/1440 image samples \r Processed 2018/1440 image samples \r Processed 2019/1440 image samples \r Processed 2020/1440 image samples \r Processed 2021/1440 image samples \r Processed 2022/1440 image samples \r Processed 2023/1440 image samples \r Processed 2024/1440 image samples \r Processed 2025/1440 image samples \r Processed 2026/1440 image samples \r Processed 2027/1440 image samples \r Processed 2028/1440 image samples \r Processed 2029/1440 image samples \r Processed 2030/1440 image samples \r Processed 2031/1440 image samples \r Processed 2032/1440 image samples \r Processed 2033/1440 image samples \r Processed 2034/1440 image samples \r Processed 2035/1440 image samples \r Processed 2036/1440 image samples \r Processed 2037/1440 image samples \r Processed 2038/1440 image samples \r Processed 2039/1440 image samples \r Processed 2040/1440 image samples \r Processed 2041/1440 image samples \r Processed 2042/1440 image samples \r Processed 2043/1440 image samples \r Processed 2044/1440 image samples \r Processed 2045/1440 image samples \r Processed 2046/1440 image samples \r Processed 2047/1440 image samples \r Processed 2048/1440 image samples \r Processed 2049/1440 image samples \r Processed 2050/1440 image samples \r Processed 2051/1440 image samples \r Processed 2052/1440 image samples \r Processed 2053/1440 image samples \r Processed 2054/1440 image samples \r Processed 2055/1440 image samples \r Processed 2056/1440 image samples \r Processed 2057/1440 image samples \r Processed 2058/1440 image samples \r Processed 2059/1440 image samples \r Processed 2060/1440 image samples \r Processed 2061/1440 image samples \r Processed 2062/1440 image samples \r Processed 2063/1440 image samples \r Processed 2064/1440 image samples \r Processed 2065/1440 image samples \r Processed 2066/1440 image samples \r Processed 2067/1440 image samples \r Processed 2068/1440 image samples \r Processed 2069/1440 image samples \r Processed 2070/1440 image samples \r Processed 2071/1440 image samples \r Processed 2072/1440 image samples \r Processed 2073/1440 image samples \r Processed 2074/1440 image samples \r Processed 2075/1440 image samples \r Processed 2076/1440 image samples \r Processed 2077/1440 image samples \r Processed 2078/1440 image samples \r Processed 2079/1440 image samples \r Processed 2080/1440 image samples \r Processed 2081/1440 image samples \r Processed 2082/1440 image samples \r Processed 2083/1440 image samples \r Processed 2084/1440 image samples \r Processed 2085/1440 image samples \r Processed 2086/1440 image samples \r Processed 2087/1440 image samples \r Processed 2088/1440 image samples \r Processed 2089/1440 image samples \r Processed 2090/1440 image samples \r Processed 2091/1440 image samples \r Processed 2092/1440 image samples \r Processed 2093/1440 image samples \r Processed 2094/1440 image samples \r Processed 2095/1440 image samples \r Processed 2096/1440 image samples \r Processed 2097/1440 image samples \r Processed 2098/1440 image samples \r Processed 2099/1440 image samples \r Processed 2100/1440 image samples \r Processed 2101/1440 image samples \r Processed 2102/1440 image samples \r Processed 2103/1440 image samples \r Processed 2104/1440 image samples \r Processed 2105/1440 image samples \r Processed 2106/1440 image samples \r Processed 2107/1440 image samples \r Processed 2108/1440 image samples \r Processed 2109/1440 image samples \r Processed 2110/1440 image samples \r Processed 2111/1440 image samples \r Processed 2112/1440 image samples \r Processed 2113/1440 image samples \r Processed 2114/1440 image samples \r Processed 2115/1440 image samples \r Processed 2116/1440 image samples \r Processed 2117/1440 image samples \r Processed 2118/1440 image samples \r Processed 2119/1440 image samples \r Processed 2120/1440 image samples \r Processed 2121/1440 image samples \r Processed 2122/1440 image samples \r Processed 2123/1440 image samples \r Processed 2124/1440 image samples \r Processed 2125/1440 image samples \r Processed 2126/1440 image samples \r Processed 2127/1440 image samples \r Processed 2128/1440 image samples \r Processed 2129/1440 image samples \r Processed 2130/1440 image samples \r Processed 2131/1440 image samples \r Processed 2132/1440 image samples \r Processed 2133/1440 image samples \r Processed 2134/1440 image samples \r Processed 2135/1440 image samples \r Processed 2136/1440 image samples \r Processed 2137/1440 image samples \r Processed 2138/1440 image samples \r Processed 2139/1440 image samples \r Processed 2140/1440 image samples \r Processed 2141/1440 image samples \r Processed 2142/1440 image samples \r Processed 2143/1440 image samples \r Processed 2144/1440 image samples ['/content/IAT360/sfh-dataset/open_hand/open_hand_0651.jpg'\n",
            " '/content/IAT360/sfh-dataset/open_hand/open_hand_0153.jpg'\n",
            " '/content/IAT360/sfh-dataset/open_hand/open_hand_0458.jpg' ...\n",
            " '/content/IAT360/sfh-dataset/closed_hand/closed_hand_0155.jpg'\n",
            " '/content/IAT360/sfh-dataset/closed_hand/closed_hand_0103.jpg'\n",
            " '/content/IAT360/sfh-dataset/closed_hand/closed_hand_0195.jpg']\n",
            "['open_hand' 'open_hand' 'open_hand' ... 'closed_hand' 'closed_hand'\n",
            " 'closed_hand']\n"
          ]
        }
      ]
    },
    {
      "cell_type": "code",
      "source": [
        "from sklearn.model_selection import train_test_split\n",
        "#these are the same codes, but we are just using different data.\n",
        "#putting these into 80, 20 split (train: 80, validation: 20)\n",
        "\n",
        "\n",
        "############# Unscaled test/train set #############\n",
        "X_train, X_test, y_train, y_test = train_test_split(\n",
        "    hands, #feature set\n",
        "    labels, #label set\n",
        "    test_size=0.2,\n",
        "    random_state=42 #random_state - everytime you run this code, it will give you the same split. If you change it, it will give you a different split. actually shuffle data based on random number.\n",
        ")"
      ],
      "metadata": {
        "id": "ptw5w3cJs4rh"
      },
      "execution_count": null,
      "outputs": []
    },
    {
      "cell_type": "markdown",
      "source": [
        "Then, put these images into separate folders."
      ],
      "metadata": {
        "id": "Dl9AYIJ_zDdZ"
      }
    },
    {
      "cell_type": "code",
      "source": [
        "import os\n",
        "import shutil\n",
        "\n",
        "\n",
        "# Base directories\n",
        "base_dir = \"/content/IAT360/Final_Datasets/Final_data/images_for_yolo\"\n",
        "train_dir = os.path.join(base_dir, \"train\")\n",
        "val_dir = os.path.join(base_dir, \"val\")\n",
        "\n",
        "os.makedirs(base_dir, exist_ok=True)\n",
        "\n",
        "# Create base train/val folders\n",
        "os.makedirs(train_dir, exist_ok=True)\n",
        "os.makedirs(val_dir, exist_ok=True)\n",
        "\n",
        "# Function to get class name from filename\n",
        "def get_class_from_filename(filename):\n",
        "    base_name = os.path.basename(filename)\n",
        "    return base_name.rsplit('_', 1)[0]  # get part before the first underscore\n",
        "\n",
        "# Move training images into class folders\n",
        "for img_path in X_train:\n",
        "    class_name = get_class_from_filename(img_path)\n",
        "    class_folder = os.path.join(train_dir, class_name)\n",
        "    os.makedirs(class_folder, exist_ok=True)\n",
        "    shutil.move(img_path, class_folder)\n",
        "\n",
        "# Move validation images into class folders\n",
        "for img_path in X_test:\n",
        "    class_name = get_class_from_filename(img_path)\n",
        "    class_folder = os.path.join(val_dir, class_name)\n",
        "    os.makedirs(class_folder, exist_ok=True)\n",
        "    shutil.move(img_path, class_folder)\n",
        "\n",
        "print(\"✅ Done! Images moved into train/val class folders.\")\n"
      ],
      "metadata": {
        "colab": {
          "base_uri": "https://localhost:8080/"
        },
        "id": "LvEr6JNs95ca",
        "outputId": "350a86bf-39f8-41cc-c432-a61112c18e5f"
      },
      "execution_count": null,
      "outputs": [
        {
          "output_type": "stream",
          "name": "stdout",
          "text": [
            "✅ Done! Images moved into train/val class folders.\n"
          ]
        }
      ]
    },
    {
      "cell_type": "markdown",
      "source": [
        "# Custom gesture classification using YOLO\n",
        "\n",
        "YOLOv8 classification models use the -cls suffix, i.e. yolov8n-cls.pt and are pretrained on ImageNet. See Classification Docs for full details.\n",
        "\n",
        "Original file: https://github.com/jaejams/Computer-Vision-Project-Overview/blob/main/copy_of_yolov8_tutorial.ipynb\n",
        "https://github.com/jaejams/Computer-Vision-Project/blob/main/ComputerVisionProject-revised.ipynb"
      ],
      "metadata": {
        "id": "dIX6amSFuijN"
      }
    },
    {
      "cell_type": "code",
      "source": [
        "%pip install ultralytics\n",
        "import ultralytics\n",
        "ultralytics.checks()"
      ],
      "metadata": {
        "id": "yZC4JREnu9SW",
        "colab": {
          "base_uri": "https://localhost:8080/"
        },
        "outputId": "fed120c5-995a-4a19-c6c5-d72df4665590"
      },
      "execution_count": null,
      "outputs": [
        {
          "output_type": "stream",
          "name": "stdout",
          "text": [
            "Ultralytics 8.3.218 🚀 Python-3.12.12 torch-2.8.0+cu126 CPU (Intel Xeon CPU @ 2.20GHz)\n",
            "Setup complete ✅ (2 CPUs, 12.7 GB RAM, 40.1/107.7 GB disk)\n"
          ]
        }
      ]
    },
    {
      "cell_type": "code",
      "source": [
        "# Load YOLOv8n-cls, train it on mnist160 for 3 epochs and predict an image with it\n",
        "from ultralytics import YOLO\n",
        "\n",
        "model = YOLO('yolov8n-cls.pt')  # load a pretrained YOLOv8n classification model\n"
      ],
      "metadata": {
        "id": "GhqL2GXyu17t",
        "colab": {
          "base_uri": "https://localhost:8080/"
        },
        "outputId": "c350b8c3-dce8-4a64-a893-eeb740b2bedd"
      },
      "execution_count": null,
      "outputs": [
        {
          "output_type": "stream",
          "name": "stdout",
          "text": [
            "\u001b[KDownloading https://github.com/ultralytics/assets/releases/download/v8.3.0/yolov8n-cls.pt to 'yolov8n-cls.pt': 100% ━━━━━━━━━━━━ 5.3MB 54.9MB/s 0.1s\n"
          ]
        }
      ]
    },
    {
      "cell_type": "code",
      "source": [
        "model"
      ],
      "metadata": {
        "id": "DKmJc-tGvCVe",
        "colab": {
          "base_uri": "https://localhost:8080/"
        },
        "collapsed": true,
        "outputId": "b874963c-9414-4735-f25a-cf32614f2d9a"
      },
      "execution_count": null,
      "outputs": [
        {
          "output_type": "execute_result",
          "data": {
            "text/plain": [
              "YOLO(\n",
              "  (model): ClassificationModel(\n",
              "    (model): Sequential(\n",
              "      (0): Conv(\n",
              "        (conv): Conv2d(3, 16, kernel_size=(3, 3), stride=(2, 2), padding=(1, 1), bias=False)\n",
              "        (bn): BatchNorm2d(16, eps=1e-05, momentum=0.1, affine=True, track_running_stats=True)\n",
              "        (act): SiLU(inplace=True)\n",
              "      )\n",
              "      (1): Conv(\n",
              "        (conv): Conv2d(16, 32, kernel_size=(3, 3), stride=(2, 2), padding=(1, 1), bias=False)\n",
              "        (bn): BatchNorm2d(32, eps=1e-05, momentum=0.1, affine=True, track_running_stats=True)\n",
              "        (act): SiLU(inplace=True)\n",
              "      )\n",
              "      (2): C2f(\n",
              "        (cv1): Conv(\n",
              "          (conv): Conv2d(32, 32, kernel_size=(1, 1), stride=(1, 1), bias=False)\n",
              "          (bn): BatchNorm2d(32, eps=1e-05, momentum=0.1, affine=True, track_running_stats=True)\n",
              "          (act): SiLU(inplace=True)\n",
              "        )\n",
              "        (cv2): Conv(\n",
              "          (conv): Conv2d(48, 32, kernel_size=(1, 1), stride=(1, 1), bias=False)\n",
              "          (bn): BatchNorm2d(32, eps=1e-05, momentum=0.1, affine=True, track_running_stats=True)\n",
              "          (act): SiLU(inplace=True)\n",
              "        )\n",
              "        (m): ModuleList(\n",
              "          (0): Bottleneck(\n",
              "            (cv1): Conv(\n",
              "              (conv): Conv2d(16, 16, kernel_size=(3, 3), stride=(1, 1), padding=(1, 1), bias=False)\n",
              "              (bn): BatchNorm2d(16, eps=1e-05, momentum=0.1, affine=True, track_running_stats=True)\n",
              "              (act): SiLU(inplace=True)\n",
              "            )\n",
              "            (cv2): Conv(\n",
              "              (conv): Conv2d(16, 16, kernel_size=(3, 3), stride=(1, 1), padding=(1, 1), bias=False)\n",
              "              (bn): BatchNorm2d(16, eps=1e-05, momentum=0.1, affine=True, track_running_stats=True)\n",
              "              (act): SiLU(inplace=True)\n",
              "            )\n",
              "          )\n",
              "        )\n",
              "      )\n",
              "      (3): Conv(\n",
              "        (conv): Conv2d(32, 64, kernel_size=(3, 3), stride=(2, 2), padding=(1, 1), bias=False)\n",
              "        (bn): BatchNorm2d(64, eps=1e-05, momentum=0.1, affine=True, track_running_stats=True)\n",
              "        (act): SiLU(inplace=True)\n",
              "      )\n",
              "      (4): C2f(\n",
              "        (cv1): Conv(\n",
              "          (conv): Conv2d(64, 64, kernel_size=(1, 1), stride=(1, 1), bias=False)\n",
              "          (bn): BatchNorm2d(64, eps=1e-05, momentum=0.1, affine=True, track_running_stats=True)\n",
              "          (act): SiLU(inplace=True)\n",
              "        )\n",
              "        (cv2): Conv(\n",
              "          (conv): Conv2d(128, 64, kernel_size=(1, 1), stride=(1, 1), bias=False)\n",
              "          (bn): BatchNorm2d(64, eps=1e-05, momentum=0.1, affine=True, track_running_stats=True)\n",
              "          (act): SiLU(inplace=True)\n",
              "        )\n",
              "        (m): ModuleList(\n",
              "          (0-1): 2 x Bottleneck(\n",
              "            (cv1): Conv(\n",
              "              (conv): Conv2d(32, 32, kernel_size=(3, 3), stride=(1, 1), padding=(1, 1), bias=False)\n",
              "              (bn): BatchNorm2d(32, eps=1e-05, momentum=0.1, affine=True, track_running_stats=True)\n",
              "              (act): SiLU(inplace=True)\n",
              "            )\n",
              "            (cv2): Conv(\n",
              "              (conv): Conv2d(32, 32, kernel_size=(3, 3), stride=(1, 1), padding=(1, 1), bias=False)\n",
              "              (bn): BatchNorm2d(32, eps=1e-05, momentum=0.1, affine=True, track_running_stats=True)\n",
              "              (act): SiLU(inplace=True)\n",
              "            )\n",
              "          )\n",
              "        )\n",
              "      )\n",
              "      (5): Conv(\n",
              "        (conv): Conv2d(64, 128, kernel_size=(3, 3), stride=(2, 2), padding=(1, 1), bias=False)\n",
              "        (bn): BatchNorm2d(128, eps=1e-05, momentum=0.1, affine=True, track_running_stats=True)\n",
              "        (act): SiLU(inplace=True)\n",
              "      )\n",
              "      (6): C2f(\n",
              "        (cv1): Conv(\n",
              "          (conv): Conv2d(128, 128, kernel_size=(1, 1), stride=(1, 1), bias=False)\n",
              "          (bn): BatchNorm2d(128, eps=1e-05, momentum=0.1, affine=True, track_running_stats=True)\n",
              "          (act): SiLU(inplace=True)\n",
              "        )\n",
              "        (cv2): Conv(\n",
              "          (conv): Conv2d(256, 128, kernel_size=(1, 1), stride=(1, 1), bias=False)\n",
              "          (bn): BatchNorm2d(128, eps=1e-05, momentum=0.1, affine=True, track_running_stats=True)\n",
              "          (act): SiLU(inplace=True)\n",
              "        )\n",
              "        (m): ModuleList(\n",
              "          (0-1): 2 x Bottleneck(\n",
              "            (cv1): Conv(\n",
              "              (conv): Conv2d(64, 64, kernel_size=(3, 3), stride=(1, 1), padding=(1, 1), bias=False)\n",
              "              (bn): BatchNorm2d(64, eps=1e-05, momentum=0.1, affine=True, track_running_stats=True)\n",
              "              (act): SiLU(inplace=True)\n",
              "            )\n",
              "            (cv2): Conv(\n",
              "              (conv): Conv2d(64, 64, kernel_size=(3, 3), stride=(1, 1), padding=(1, 1), bias=False)\n",
              "              (bn): BatchNorm2d(64, eps=1e-05, momentum=0.1, affine=True, track_running_stats=True)\n",
              "              (act): SiLU(inplace=True)\n",
              "            )\n",
              "          )\n",
              "        )\n",
              "      )\n",
              "      (7): Conv(\n",
              "        (conv): Conv2d(128, 256, kernel_size=(3, 3), stride=(2, 2), padding=(1, 1), bias=False)\n",
              "        (bn): BatchNorm2d(256, eps=1e-05, momentum=0.1, affine=True, track_running_stats=True)\n",
              "        (act): SiLU(inplace=True)\n",
              "      )\n",
              "      (8): C2f(\n",
              "        (cv1): Conv(\n",
              "          (conv): Conv2d(256, 256, kernel_size=(1, 1), stride=(1, 1), bias=False)\n",
              "          (bn): BatchNorm2d(256, eps=1e-05, momentum=0.1, affine=True, track_running_stats=True)\n",
              "          (act): SiLU(inplace=True)\n",
              "        )\n",
              "        (cv2): Conv(\n",
              "          (conv): Conv2d(384, 256, kernel_size=(1, 1), stride=(1, 1), bias=False)\n",
              "          (bn): BatchNorm2d(256, eps=1e-05, momentum=0.1, affine=True, track_running_stats=True)\n",
              "          (act): SiLU(inplace=True)\n",
              "        )\n",
              "        (m): ModuleList(\n",
              "          (0): Bottleneck(\n",
              "            (cv1): Conv(\n",
              "              (conv): Conv2d(128, 128, kernel_size=(3, 3), stride=(1, 1), padding=(1, 1), bias=False)\n",
              "              (bn): BatchNorm2d(128, eps=1e-05, momentum=0.1, affine=True, track_running_stats=True)\n",
              "              (act): SiLU(inplace=True)\n",
              "            )\n",
              "            (cv2): Conv(\n",
              "              (conv): Conv2d(128, 128, kernel_size=(3, 3), stride=(1, 1), padding=(1, 1), bias=False)\n",
              "              (bn): BatchNorm2d(128, eps=1e-05, momentum=0.1, affine=True, track_running_stats=True)\n",
              "              (act): SiLU(inplace=True)\n",
              "            )\n",
              "          )\n",
              "        )\n",
              "      )\n",
              "      (9): Classify(\n",
              "        (conv): Conv(\n",
              "          (conv): Conv2d(256, 1280, kernel_size=(1, 1), stride=(1, 1), bias=False)\n",
              "          (bn): BatchNorm2d(1280, eps=1e-05, momentum=0.1, affine=True, track_running_stats=True)\n",
              "          (act): SiLU(inplace=True)\n",
              "        )\n",
              "        (pool): AdaptiveAvgPool2d(output_size=1)\n",
              "        (drop): Dropout(p=0.0, inplace=True)\n",
              "        (linear): Linear(in_features=1280, out_features=1000, bias=True)\n",
              "      )\n",
              "    )\n",
              "  )\n",
              ")"
            ]
          },
          "metadata": {},
          "execution_count": 9
        }
      ]
    },
    {
      "cell_type": "code",
      "source": [
        "model.train(data=\"/content/IAT360/Final_Datasets/Final_data/images_for_yolo\",epochs=1,patience=5,batch=8, lr0=0.0005,imgsz=640)"
      ],
      "metadata": {
        "id": "VS2RnADLvKhY",
        "colab": {
          "base_uri": "https://localhost:8080/"
        },
        "outputId": "f31a2d91-71c7-4c1a-9582-d9849fe6b8da"
      },
      "execution_count": null,
      "outputs": [
        {
          "output_type": "stream",
          "name": "stdout",
          "text": [
            "Ultralytics 8.3.218 🚀 Python-3.12.12 torch-2.8.0+cu126 CPU (Intel Xeon CPU @ 2.20GHz)\n",
            "\u001b[34m\u001b[1mengine/trainer: \u001b[0magnostic_nms=False, amp=True, augment=False, auto_augment=randaugment, batch=8, bgr=0.0, box=7.5, cache=False, cfg=None, classes=None, close_mosaic=10, cls=0.5, compile=False, conf=None, copy_paste=0.0, copy_paste_mode=flip, cos_lr=False, cutmix=0.0, data=/content/IAT360/Final_Datasets/Final_data/images_for_yolo, degrees=0.0, deterministic=True, device=cpu, dfl=1.5, dnn=False, dropout=0.0, dynamic=False, embed=None, epochs=1, erasing=0.4, exist_ok=False, fliplr=0.5, flipud=0.0, format=torchscript, fraction=1.0, freeze=None, half=False, hsv_h=0.015, hsv_s=0.7, hsv_v=0.4, imgsz=640, int8=False, iou=0.7, keras=False, kobj=1.0, line_width=None, lr0=0.0005, lrf=0.01, mask_ratio=4, max_det=300, mixup=0.0, mode=train, model=yolov8n-cls.pt, momentum=0.937, mosaic=1.0, multi_scale=False, name=train, nbs=64, nms=False, opset=None, optimize=False, optimizer=auto, overlap_mask=True, patience=5, perspective=0.0, plots=True, pose=12.0, pretrained=True, profile=False, project=None, rect=False, resume=False, retina_masks=False, save=True, save_conf=False, save_crop=False, save_dir=/content/runs/classify/train, save_frames=False, save_json=False, save_period=-1, save_txt=False, scale=0.5, seed=0, shear=0.0, show=False, show_boxes=True, show_conf=True, show_labels=True, simplify=True, single_cls=False, source=None, split=val, stream_buffer=False, task=classify, time=None, tracker=botsort.yaml, translate=0.1, val=True, verbose=True, vid_stride=1, visualize=False, warmup_bias_lr=0.1, warmup_epochs=3.0, warmup_momentum=0.8, weight_decay=0.0005, workers=8, workspace=None\n",
            "\u001b[34m\u001b[1mtrain:\u001b[0m /content/IAT360/Final_Datasets/Final_data/images_for_yolo/train... found 1715 images in 2 classes ✅ \n",
            "\u001b[34m\u001b[1mval:\u001b[0m /content/IAT360/Final_Datasets/Final_data/images_for_yolo/val... found 429 images in 2 classes ✅ \n",
            "\u001b[34m\u001b[1mtest:\u001b[0m None...\n",
            "Overriding model.yaml nc=1000 with nc=2\n",
            "\n",
            "                   from  n    params  module                                       arguments                     \n",
            "  0                  -1  1       464  ultralytics.nn.modules.conv.Conv             [3, 16, 3, 2]                 \n",
            "  1                  -1  1      4672  ultralytics.nn.modules.conv.Conv             [16, 32, 3, 2]                \n",
            "  2                  -1  1      7360  ultralytics.nn.modules.block.C2f             [32, 32, 1, True]             \n",
            "  3                  -1  1     18560  ultralytics.nn.modules.conv.Conv             [32, 64, 3, 2]                \n",
            "  4                  -1  2     49664  ultralytics.nn.modules.block.C2f             [64, 64, 2, True]             \n",
            "  5                  -1  1     73984  ultralytics.nn.modules.conv.Conv             [64, 128, 3, 2]               \n",
            "  6                  -1  2    197632  ultralytics.nn.modules.block.C2f             [128, 128, 2, True]           \n",
            "  7                  -1  1    295424  ultralytics.nn.modules.conv.Conv             [128, 256, 3, 2]              \n",
            "  8                  -1  1    460288  ultralytics.nn.modules.block.C2f             [256, 256, 1, True]           \n",
            "  9                  -1  1    332802  ultralytics.nn.modules.head.Classify         [256, 2]                      \n",
            "YOLOv8n-cls summary: 56 layers, 1,440,850 parameters, 1,440,850 gradients, 3.4 GFLOPs\n",
            "Transferred 156/158 items from pretrained weights\n",
            "\u001b[34m\u001b[1mtrain: \u001b[0mFast image access ✅ (ping: 0.0±0.0 ms, read: 370.2±186.3 MB/s, size: 13.3 KB)\n",
            "\u001b[K\u001b[34m\u001b[1mtrain: \u001b[0mScanning /content/IAT360/Final_Datasets/Final_data/images_for_yolo/train... 1715 images, 0 corrupt: 100% ━━━━━━━━━━━━ 1715/1715 3.5Kit/s 0.5s\n",
            "\u001b[34m\u001b[1mtrain: \u001b[0mNew cache created: /content/IAT360/Final_Datasets/Final_data/images_for_yolo/train.cache\n",
            "\u001b[34m\u001b[1mval: \u001b[0mFast image access ✅ (ping: 0.0±0.0 ms, read: 542.0±186.9 MB/s, size: 13.7 KB)\n",
            "\u001b[K\u001b[34m\u001b[1mval: \u001b[0mScanning /content/IAT360/Final_Datasets/Final_data/images_for_yolo/val... 429 images, 0 corrupt: 100% ━━━━━━━━━━━━ 429/429 4.4Kit/s 0.1s\n",
            "\u001b[34m\u001b[1mval: \u001b[0mNew cache created: /content/IAT360/Final_Datasets/Final_data/images_for_yolo/val.cache\n",
            "\u001b[34m\u001b[1moptimizer:\u001b[0m 'optimizer=auto' found, ignoring 'lr0=0.0005' and 'momentum=0.937' and determining best 'optimizer', 'lr0' and 'momentum' automatically... \n",
            "\u001b[34m\u001b[1moptimizer:\u001b[0m AdamW(lr=0.001667, momentum=0.9) with parameter groups 26 weight(decay=0.0), 27 weight(decay=0.0005), 27 bias(decay=0.0)\n",
            "Image sizes 640 train, 640 val\n",
            "Using 0 dataloader workers\n",
            "Logging results to \u001b[1m/content/runs/classify/train\u001b[0m\n",
            "Starting training for 1 epochs...\n",
            "\n",
            "      Epoch    GPU_mem       loss  Instances       Size\n",
            "\u001b[KDownloading https://ultralytics.com/assets/Arial.ttf to '/root/.config/Ultralytics/Arial.ttf': 100% ━━━━━━━━━━━━ 755.1KB 15.7MB/s 0.0s\n",
            "\u001b[K        1/1         0G     0.4704          3        640: 100% ━━━━━━━━━━━━ 215/215 0.3it/s 13:37\n",
            "\u001b[K               classes   top1_acc   top5_acc: 100% ━━━━━━━━━━━━ 27/27 0.4it/s 1:07\n",
            "                   all      0.988          1\n",
            "\n",
            "1 epochs completed in 0.246 hours.\n",
            "Optimizer stripped from /content/runs/classify/train/weights/last.pt, 3.0MB\n",
            "Optimizer stripped from /content/runs/classify/train/weights/best.pt, 3.0MB\n",
            "\n",
            "Validating /content/runs/classify/train/weights/best.pt...\n",
            "Ultralytics 8.3.218 🚀 Python-3.12.12 torch-2.8.0+cu126 CPU (Intel Xeon CPU @ 2.20GHz)\n",
            "YOLOv8n-cls summary (fused): 30 layers, 1,437,442 parameters, 0 gradients, 3.3 GFLOPs\n",
            "\u001b[34m\u001b[1mtrain:\u001b[0m /content/IAT360/Final_Datasets/Final_data/images_for_yolo/train... found 1715 images in 2 classes ✅ \n",
            "\u001b[34m\u001b[1mval:\u001b[0m /content/IAT360/Final_Datasets/Final_data/images_for_yolo/val... found 429 images in 2 classes ✅ \n",
            "\u001b[34m\u001b[1mtest:\u001b[0m None...\n",
            "\u001b[K               classes   top1_acc   top5_acc: 100% ━━━━━━━━━━━━ 27/27 0.5it/s 58.1s\n",
            "                   all      0.988          1\n",
            "Speed: 0.0ms preprocess, 109.9ms inference, 0.0ms loss, 0.0ms postprocess per image\n",
            "Results saved to \u001b[1m/content/runs/classify/train\u001b[0m\n"
          ]
        },
        {
          "output_type": "execute_result",
          "data": {
            "text/plain": [
              "ultralytics.utils.metrics.ClassifyMetrics object with attributes:\n",
              "\n",
              "confusion_matrix: <ultralytics.utils.metrics.ConfusionMatrix object at 0x78f0b428dc40>\n",
              "curves: []\n",
              "curves_results: []\n",
              "fitness: 0.9941724836826324\n",
              "keys: ['metrics/accuracy_top1', 'metrics/accuracy_top5']\n",
              "results_dict: {'metrics/accuracy_top1': 0.9883449673652649, 'metrics/accuracy_top5': 1.0, 'fitness': 0.9941724836826324}\n",
              "save_dir: PosixPath('/content/runs/classify/train')\n",
              "speed: {'preprocess': 0.0025055990671333426, 'inference': 109.949455121214, 'loss': 0.0001048414918786324, 'postprocess': 0.0002727179478629794}\n",
              "task: 'classify'\n",
              "top1: 0.9883449673652649\n",
              "top5: 1.0"
            ]
          },
          "metadata": {},
          "execution_count": 10
        }
      ]
    },
    {
      "cell_type": "code",
      "source": [
        "model= YOLO(\"/content/runs/classify/train/weights/best.pt\")\n",
        "metrics = model.val()  # no arguments needed, dataset and settings remembered\n",
        "print(metrics)\n"
      ],
      "metadata": {
        "id": "2DDopMwuOxmE",
        "outputId": "715a1dcb-412e-4cd2-d76f-b9893519c427",
        "colab": {
          "base_uri": "https://localhost:8080/"
        }
      },
      "execution_count": null,
      "outputs": [
        {
          "output_type": "stream",
          "name": "stdout",
          "text": [
            "Ultralytics 8.3.218 🚀 Python-3.12.12 torch-2.8.0+cu126 CPU (Intel Xeon CPU @ 2.20GHz)\n",
            "YOLOv8n-cls summary (fused): 30 layers, 1,437,442 parameters, 0 gradients, 3.3 GFLOPs\n",
            "\u001b[34m\u001b[1mtrain:\u001b[0m /content/IAT360/Final_Datasets/Final_data/images_for_yolo/train... found 1715 images in 2 classes ✅ \n",
            "\u001b[34m\u001b[1mval:\u001b[0m /content/IAT360/Final_Datasets/Final_data/images_for_yolo/val... found 429 images in 2 classes ✅ \n",
            "\u001b[34m\u001b[1mtest:\u001b[0m None...\n",
            "\u001b[34m\u001b[1mval: \u001b[0mFast image access ✅ (ping: 0.0±0.0 ms, read: 371.7±126.5 MB/s, size: 13.7 KB)\n",
            "\u001b[K\u001b[34m\u001b[1mval: \u001b[0mScanning /content/IAT360/Final_Datasets/Final_data/images_for_yolo/val... 429 images, 0 corrupt: 100% ━━━━━━━━━━━━ 429/429 506.0Kit/s 0.0s\n",
            "\u001b[K               classes   top1_acc   top5_acc: 100% ━━━━━━━━━━━━ 27/27 0.5it/s 56.0s\n",
            "                   all      0.988          1\n",
            "Speed: 0.0ms preprocess, 106.8ms inference, 0.0ms loss, 0.0ms postprocess per image\n",
            "Results saved to \u001b[1m/content/runs/classify/val\u001b[0m\n",
            "ultralytics.utils.metrics.ClassifyMetrics object with attributes:\n",
            "\n",
            "confusion_matrix: <ultralytics.utils.metrics.ConfusionMatrix object at 0x78f096654b60>\n",
            "curves: []\n",
            "curves_results: []\n",
            "fitness: 0.9941724836826324\n",
            "keys: ['metrics/accuracy_top1', 'metrics/accuracy_top5']\n",
            "results_dict: {'metrics/accuracy_top1': 0.9883449673652649, 'metrics/accuracy_top5': 1.0, 'fitness': 0.9941724836826324}\n",
            "save_dir: PosixPath('/content/runs/classify/val')\n",
            "speed: {'preprocess': 0.002422913752364224, 'inference': 106.76670547785558, 'loss': 9.878554773568648e-05, 'postprocess': 0.0002679953372630639}\n",
            "task: 'classify'\n",
            "top1: 0.9883449673652649\n",
            "top5: 1.0\n"
          ]
        }
      ]
    },
    {
      "cell_type": "code",
      "source": [
        "%matplotlib inline\n",
        "from PIL import Image\n",
        "\n",
        "Image.open('/content/runs/classify/train/confusion_matrix_normalized.png')"
      ],
      "metadata": {
        "id": "MU8yLuWZvQxd"
      },
      "execution_count": null,
      "outputs": []
    },
    {
      "cell_type": "markdown",
      "source": [
        "# Test the results"
      ],
      "metadata": {
        "id": "5UHKO7q9QVja"
      }
    },
    {
      "cell_type": "code",
      "source": [
        "from ultralytics import YOLO\n",
        "\n",
        "# Load your trained model\n",
        "model = YOLO(\"/content/runs/classify/train/weights/best.pt\")\n",
        "\n",
        "# Run prediction on a folder of images\n",
        "results = model.predict(\"/content/IAT360/valeriya_new_data/**/*.*\", save=True)\n"
      ],
      "metadata": {
        "id": "6OAyxN4PRJzQ",
        "outputId": "ccdf306d-2757-47fe-c2ea-bfc43d9b510d",
        "colab": {
          "base_uri": "https://localhost:8080/"
        }
      },
      "execution_count": null,
      "outputs": [
        {
          "output_type": "stream",
          "name": "stdout",
          "text": [
            "\n",
            "image 1/30 /content/IAT360/valeriya_new_data/closed_hand-valeriya/closed_hand_3023.jpeg: 640x640 closed_hand 1.00, open_hand 0.00, 107.8ms\n",
            "image 2/30 /content/IAT360/valeriya_new_data/closed_hand-valeriya/closed_hand_3024.jpeg: 640x640 closed_hand 0.99, open_hand 0.01, 100.0ms\n",
            "image 3/30 /content/IAT360/valeriya_new_data/closed_hand-valeriya/closed_hand_3025.jpeg: 640x640 closed_hand 0.97, open_hand 0.03, 93.7ms\n",
            "image 4/30 /content/IAT360/valeriya_new_data/closed_hand-valeriya/closed_hand_3026.jpeg: 640x640 closed_hand 1.00, open_hand 0.00, 98.1ms\n",
            "image 5/30 /content/IAT360/valeriya_new_data/closed_hand-valeriya/closed_hand_3027.jpeg: 640x640 closed_hand 1.00, open_hand 0.00, 95.8ms\n",
            "image 6/30 /content/IAT360/valeriya_new_data/closed_hand-valeriya/closed_hand_3028.jpeg: 640x640 closed_hand 1.00, open_hand 0.00, 97.9ms\n",
            "image 7/30 /content/IAT360/valeriya_new_data/closed_hand-valeriya/closed_hand_3029.jpg: 640x640 closed_hand 0.99, open_hand 0.01, 99.4ms\n",
            "image 8/30 /content/IAT360/valeriya_new_data/closed_hand-valeriya/closed_hand_3030.jpg: 640x640 closed_hand 0.99, open_hand 0.01, 98.1ms\n",
            "image 9/30 /content/IAT360/valeriya_new_data/closed_hand-valeriya/closed_hand_3031.jpg: 640x640 closed_hand 0.94, open_hand 0.06, 95.8ms\n",
            "image 10/30 /content/IAT360/valeriya_new_data/closed_hand-valeriya/closed_hand_3032.jpg: 640x640 closed_hand 0.99, open_hand 0.01, 97.8ms\n",
            "image 11/30 /content/IAT360/valeriya_new_data/closed_hand-valeriya/closed_hand_3033.jpg: 640x640 closed_hand 1.00, open_hand 0.00, 112.3ms\n",
            "image 12/30 /content/IAT360/valeriya_new_data/closed_hand-valeriya/closed_hand_3034.jpg: 640x640 closed_hand 1.00, open_hand 0.00, 95.6ms\n",
            "image 13/30 /content/IAT360/valeriya_new_data/closed_hand-valeriya/closed_hand_3035.jpg: 640x640 closed_hand 0.98, open_hand 0.02, 98.3ms\n",
            "image 14/30 /content/IAT360/valeriya_new_data/closed_hand-valeriya/closed_hand_3036.jpg: 640x640 closed_hand 0.92, open_hand 0.08, 150.9ms\n",
            "image 15/30 /content/IAT360/valeriya_new_data/closed_hand-valeriya/closed_hand_3037.jpg: 640x640 closed_hand 0.97, open_hand 0.03, 165.2ms\n",
            "image 16/30 /content/IAT360/valeriya_new_data/open_hand_valeriya/open_hand_3023.jpeg: 640x640 open_hand 0.51, closed_hand 0.49, 147.9ms\n",
            "image 17/30 /content/IAT360/valeriya_new_data/open_hand_valeriya/open_hand_3024.jpeg: 640x640 closed_hand 0.55, open_hand 0.45, 144.8ms\n",
            "image 18/30 /content/IAT360/valeriya_new_data/open_hand_valeriya/open_hand_3025.jpeg: 640x640 closed_hand 0.80, open_hand 0.20, 153.9ms\n",
            "image 19/30 /content/IAT360/valeriya_new_data/open_hand_valeriya/open_hand_3026.jpeg: 640x640 open_hand 0.89, closed_hand 0.11, 152.7ms\n",
            "image 20/30 /content/IAT360/valeriya_new_data/open_hand_valeriya/open_hand_3027.jpeg: 640x640 open_hand 0.93, closed_hand 0.07, 94.3ms\n",
            "image 21/30 /content/IAT360/valeriya_new_data/open_hand_valeriya/open_hand_3028.jpeg: 640x640 closed_hand 0.90, open_hand 0.10, 95.1ms\n",
            "image 22/30 /content/IAT360/valeriya_new_data/open_hand_valeriya/open_hand_3029.jpg: 640x640 open_hand 0.54, closed_hand 0.46, 102.8ms\n",
            "image 23/30 /content/IAT360/valeriya_new_data/open_hand_valeriya/open_hand_3030.jpg: 640x640 open_hand 0.88, closed_hand 0.12, 98.3ms\n",
            "image 24/30 /content/IAT360/valeriya_new_data/open_hand_valeriya/open_hand_3031.jpg: 640x640 open_hand 0.98, closed_hand 0.02, 114.3ms\n",
            "image 25/30 /content/IAT360/valeriya_new_data/open_hand_valeriya/open_hand_3032.jpg: 640x640 open_hand 0.80, closed_hand 0.20, 101.5ms\n",
            "image 26/30 /content/IAT360/valeriya_new_data/open_hand_valeriya/open_hand_3033.jpg: 640x640 open_hand 0.83, closed_hand 0.17, 97.5ms\n",
            "image 27/30 /content/IAT360/valeriya_new_data/open_hand_valeriya/open_hand_3034.jpg: 640x640 open_hand 0.67, closed_hand 0.33, 99.4ms\n",
            "image 28/30 /content/IAT360/valeriya_new_data/open_hand_valeriya/open_hand_3035.jpg: 640x640 open_hand 0.92, closed_hand 0.08, 95.7ms\n",
            "image 29/30 /content/IAT360/valeriya_new_data/open_hand_valeriya/open_hand_3036.jpg: 640x640 open_hand 0.69, closed_hand 0.31, 100.6ms\n",
            "image 30/30 /content/IAT360/valeriya_new_data/open_hand_valeriya/open_hand_3037.jpg: 640x640 open_hand 0.89, closed_hand 0.11, 110.4ms\n",
            "Speed: 178.2ms preprocess, 110.5ms inference, 0.1ms postprocess per image at shape (1, 3, 640, 640)\n",
            "Results saved to \u001b[1m/content/runs/classify/predict\u001b[0m\n"
          ]
        }
      ]
    },
    {
      "cell_type": "markdown",
      "source": [
        "# Download"
      ],
      "metadata": {
        "id": "-OuA3NWSXEkp"
      }
    },
    {
      "cell_type": "code",
      "source": [
        "!zip -r runs.zip /content/runs\n",
        "from google.colab import files\n",
        "files.download(\"runs.zip\")\n"
      ],
      "metadata": {
        "id": "hDam2_zvXFto",
        "outputId": "b59263b8-da65-4366-bb51-e433f25c0049",
        "colab": {
          "base_uri": "https://localhost:8080/",
          "height": 1000
        }
      },
      "execution_count": 16,
      "outputs": [
        {
          "output_type": "stream",
          "name": "stdout",
          "text": [
            "  adding: content/runs/ (stored 0%)\n",
            "  adding: content/runs/classify/ (stored 0%)\n",
            "  adding: content/runs/classify/val2/ (stored 0%)\n",
            "  adding: content/runs/classify/val2/val_batch2_labels.jpg (deflated 9%)\n",
            "  adding: content/runs/classify/val2/val_batch1_labels.jpg (deflated 9%)\n",
            "  adding: content/runs/classify/val2/val_batch2_pred.jpg (deflated 9%)\n",
            "  adding: content/runs/classify/val2/val_batch1_pred.jpg (deflated 9%)\n",
            "  adding: content/runs/classify/val2/confusion_matrix.png (deflated 33%)\n",
            "  adding: content/runs/classify/val2/confusion_matrix_normalized.png (deflated 33%)\n",
            "  adding: content/runs/classify/val2/val_batch0_pred.jpg (deflated 9%)\n",
            "  adding: content/runs/classify/val2/val_batch0_labels.jpg (deflated 9%)\n",
            "  adding: content/runs/classify/val/ (stored 0%)\n",
            "  adding: content/runs/classify/val/val_batch2_labels.jpg (deflated 9%)\n",
            "  adding: content/runs/classify/val/val_batch1_labels.jpg (deflated 9%)\n",
            "  adding: content/runs/classify/val/val_batch2_pred.jpg (deflated 9%)\n",
            "  adding: content/runs/classify/val/val_batch1_pred.jpg (deflated 9%)\n",
            "  adding: content/runs/classify/val/confusion_matrix.png (deflated 33%)\n",
            "  adding: content/runs/classify/val/confusion_matrix_normalized.png (deflated 33%)\n",
            "  adding: content/runs/classify/val/val_batch0_pred.jpg (deflated 9%)\n",
            "  adding: content/runs/classify/val/val_batch0_labels.jpg (deflated 9%)\n",
            "  adding: content/runs/classify/predict/ (stored 0%)\n",
            "  adding: content/runs/classify/predict/closed_hand_3032.jpg (deflated 0%)\n",
            "  adding: content/runs/classify/predict/closed_hand_3024.jpg (deflated 0%)\n",
            "  adding: content/runs/classify/predict/open_hand_3027.jpg (deflated 10%)\n",
            "  adding: content/runs/classify/predict/closed_hand_3023.jpg (deflated 0%)\n",
            "  adding: content/runs/classify/predict/closed_hand_3026.jpg (deflated 0%)\n",
            "  adding: content/runs/classify/predict/open_hand_3033.jpg (deflated 6%)\n",
            "  adding: content/runs/classify/predict/open_hand_3029.jpg (deflated 7%)\n",
            "  adding: content/runs/classify/predict/closed_hand_3031.jpg (deflated 4%)\n",
            "  adding: content/runs/classify/predict/open_hand_3030.jpg (deflated 6%)\n",
            "  adding: content/runs/classify/predict/open_hand_3025.jpg (deflated 0%)\n",
            "  adding: content/runs/classify/predict/open_hand_3032.jpg (deflated 0%)\n",
            "  adding: content/runs/classify/predict/closed_hand_3028.jpg (deflated 0%)\n",
            "  adding: content/runs/classify/predict/closed_hand_3033.jpg (deflated 5%)\n",
            "  adding: content/runs/classify/predict/closed_hand_3037.jpg (deflated 0%)\n",
            "  adding: content/runs/classify/predict/closed_hand_3035.jpg (deflated 3%)\n",
            "  adding: content/runs/classify/predict/open_hand_3028.jpg (deflated 0%)\n",
            "  adding: content/runs/classify/predict/closed_hand_3025.jpg (deflated 0%)\n",
            "  adding: content/runs/classify/predict/open_hand_3026.jpg (deflated 0%)\n",
            "  adding: content/runs/classify/predict/open_hand_3037.jpg (deflated 0%)\n",
            "  adding: content/runs/classify/predict/open_hand_3031.jpg (deflated 3%)\n",
            "  adding: content/runs/classify/predict/closed_hand_3029.jpg (deflated 8%)\n",
            "  adding: content/runs/classify/predict/open_hand_3034.jpg (deflated 3%)\n",
            "  adding: content/runs/classify/predict/closed_hand_3027.jpg (deflated 18%)\n",
            "  adding: content/runs/classify/predict/open_hand_3036.jpg (deflated 4%)\n",
            "  adding: content/runs/classify/predict/closed_hand_3036.jpg (deflated 5%)\n",
            "  adding: content/runs/classify/predict/open_hand_3035.jpg (deflated 3%)\n",
            "  adding: content/runs/classify/predict/closed_hand_3034.jpg (deflated 4%)\n",
            "  adding: content/runs/classify/predict/open_hand_3024.jpg (deflated 1%)\n",
            "  adding: content/runs/classify/predict/closed_hand_3030.jpg (deflated 0%)\n",
            "  adding: content/runs/classify/predict/open_hand_3023.jpg (deflated 15%)\n",
            "  adding: content/runs/classify/train/ (stored 0%)\n",
            "  adding: content/runs/classify/train/train_batch0.jpg (deflated 19%)\n",
            "  adding: content/runs/classify/train/val_batch2_labels.jpg (deflated 10%)\n",
            "  adding: content/runs/classify/train/results.csv (deflated 38%)\n",
            "  adding: content/runs/classify/train/train_batch1.jpg (deflated 15%)\n",
            "  adding: content/runs/classify/train/train_batch2.jpg (deflated 12%)\n",
            "  adding: content/runs/classify/train/val_batch1_labels.jpg (deflated 9%)\n",
            "  adding: content/runs/classify/train/weights/ (stored 0%)\n",
            "  adding: content/runs/classify/train/weights/last.pt (deflated 9%)\n",
            "  adding: content/runs/classify/train/weights/best.pt (deflated 9%)\n",
            "  adding: content/runs/classify/train/args.yaml (deflated 52%)\n",
            "  adding: content/runs/classify/train/results.png (deflated 23%)\n",
            "  adding: content/runs/classify/train/val_batch2_pred.jpg (deflated 9%)\n",
            "  adding: content/runs/classify/train/val_batch1_pred.jpg (deflated 9%)\n",
            "  adding: content/runs/classify/train/confusion_matrix.png (deflated 33%)\n",
            "  adding: content/runs/classify/train/confusion_matrix_normalized.png (deflated 33%)\n",
            "  adding: content/runs/classify/train/val_batch0_pred.jpg (deflated 9%)\n",
            "  adding: content/runs/classify/train/val_batch0_labels.jpg (deflated 9%)\n"
          ]
        },
        {
          "output_type": "display_data",
          "data": {
            "text/plain": [
              "<IPython.core.display.Javascript object>"
            ],
            "application/javascript": [
              "\n",
              "    async function download(id, filename, size) {\n",
              "      if (!google.colab.kernel.accessAllowed) {\n",
              "        return;\n",
              "      }\n",
              "      const div = document.createElement('div');\n",
              "      const label = document.createElement('label');\n",
              "      label.textContent = `Downloading \"${filename}\": `;\n",
              "      div.appendChild(label);\n",
              "      const progress = document.createElement('progress');\n",
              "      progress.max = size;\n",
              "      div.appendChild(progress);\n",
              "      document.body.appendChild(div);\n",
              "\n",
              "      const buffers = [];\n",
              "      let downloaded = 0;\n",
              "\n",
              "      const channel = await google.colab.kernel.comms.open(id);\n",
              "      // Send a message to notify the kernel that we're ready.\n",
              "      channel.send({})\n",
              "\n",
              "      for await (const message of channel.messages) {\n",
              "        // Send a message to notify the kernel that we're ready.\n",
              "        channel.send({})\n",
              "        if (message.buffers) {\n",
              "          for (const buffer of message.buffers) {\n",
              "            buffers.push(buffer);\n",
              "            downloaded += buffer.byteLength;\n",
              "            progress.value = downloaded;\n",
              "          }\n",
              "        }\n",
              "      }\n",
              "      const blob = new Blob(buffers, {type: 'application/binary'});\n",
              "      const a = document.createElement('a');\n",
              "      a.href = window.URL.createObjectURL(blob);\n",
              "      a.download = filename;\n",
              "      div.appendChild(a);\n",
              "      a.click();\n",
              "      div.remove();\n",
              "    }\n",
              "  "
            ]
          },
          "metadata": {}
        },
        {
          "output_type": "display_data",
          "data": {
            "text/plain": [
              "<IPython.core.display.Javascript object>"
            ],
            "application/javascript": [
              "download(\"download_461c688a-f1af-4262-a823-aaa930c95136\", \"runs.zip\", 55994428)"
            ]
          },
          "metadata": {}
        }
      ]
    },
    {
      "cell_type": "code",
      "source": [
        "results=model('https://miro.medium.com/v2/resize:fit:510/format:webp/1*jW-Q9DvmB-zvM4hgJlBx3g.png', save=True)\n",
        "#results\n",
        "for r in results:\n",
        "    print(r.probs)  # print the Probs object containing the detected class probabilities"
      ],
      "metadata": {
        "id": "h1XyqAj_QVBL"
      },
      "execution_count": null,
      "outputs": []
    }
  ]
}