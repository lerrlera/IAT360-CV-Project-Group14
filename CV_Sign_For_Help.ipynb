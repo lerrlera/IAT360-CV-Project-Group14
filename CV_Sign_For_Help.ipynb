{
  "nbformat": 4,
  "nbformat_minor": 0,
  "metadata": {
    "colab": {
      "provenance": [],
      "include_colab_link": true
    },
    "kernelspec": {
      "name": "python3",
      "display_name": "Python 3"
    },
    "language_info": {
      "name": "python"
    }
  },
  "cells": [
    {
      "cell_type": "markdown",
      "metadata": {
        "id": "view-in-github",
        "colab_type": "text"
      },
      "source": [
        "<a href=\"https://colab.research.google.com/github/lerrlera/IAT360-CV-Project-Group14/blob/myBranch/CV_Sign_For_Help.ipynb\" target=\"_parent\"><img src=\"https://colab.research.google.com/assets/colab-badge.svg\" alt=\"Open In Colab\"/></a>"
      ]
    },
    {
      "cell_type": "markdown",
      "source": [
        "# Hand Detection\n",
        "Import the model, in case we'd like to combine hand detection task with classification task."
      ],
      "metadata": {
        "id": "5FHJcvIQS45Y"
      }
    },
    {
      "cell_type": "code",
      "source": [
        "!pip install roboflow\n",
        "\n",
        "from roboflow import Roboflow\n",
        "rf = Roboflow(api_key=\"3cztW4JcNMLpBQ63ptyn\")\n",
        "project = rf.workspace(\"prova-2nlrf\").project(\"hands-lakl8\")\n",
        "version = project.version(1)\n",
        "dataset = version.download(\"yolov8\")\n"
      ],
      "metadata": {
        "colab": {
          "base_uri": "https://localhost:8080/"
        },
        "id": "g8y8zmV296UH",
        "outputId": "91043080-cb3a-45be-96d9-a69a24714113"
      },
      "execution_count": null,
      "outputs": [
        {
          "output_type": "stream",
          "name": "stdout",
          "text": [
            "Requirement already satisfied: roboflow in /usr/local/lib/python3.12/dist-packages (1.2.11)\n",
            "Requirement already satisfied: certifi in /usr/local/lib/python3.12/dist-packages (from roboflow) (2025.10.5)\n",
            "Requirement already satisfied: idna==3.7 in /usr/local/lib/python3.12/dist-packages (from roboflow) (3.7)\n",
            "Requirement already satisfied: cycler in /usr/local/lib/python3.12/dist-packages (from roboflow) (0.12.1)\n",
            "Requirement already satisfied: kiwisolver>=1.3.1 in /usr/local/lib/python3.12/dist-packages (from roboflow) (1.4.9)\n",
            "Requirement already satisfied: matplotlib in /usr/local/lib/python3.12/dist-packages (from roboflow) (3.10.0)\n",
            "Requirement already satisfied: numpy>=1.18.5 in /usr/local/lib/python3.12/dist-packages (from roboflow) (2.0.2)\n",
            "Requirement already satisfied: opencv-python-headless==4.10.0.84 in /usr/local/lib/python3.12/dist-packages (from roboflow) (4.10.0.84)\n",
            "Requirement already satisfied: Pillow>=7.1.2 in /usr/local/lib/python3.12/dist-packages (from roboflow) (11.3.0)\n",
            "Requirement already satisfied: pi-heif<2 in /usr/local/lib/python3.12/dist-packages (from roboflow) (1.1.1)\n",
            "Requirement already satisfied: pillow-avif-plugin<2 in /usr/local/lib/python3.12/dist-packages (from roboflow) (1.5.2)\n",
            "Requirement already satisfied: python-dateutil in /usr/local/lib/python3.12/dist-packages (from roboflow) (2.9.0.post0)\n",
            "Requirement already satisfied: python-dotenv in /usr/local/lib/python3.12/dist-packages (from roboflow) (1.1.1)\n",
            "Requirement already satisfied: requests in /usr/local/lib/python3.12/dist-packages (from roboflow) (2.32.4)\n",
            "Requirement already satisfied: six in /usr/local/lib/python3.12/dist-packages (from roboflow) (1.17.0)\n",
            "Requirement already satisfied: urllib3>=1.26.6 in /usr/local/lib/python3.12/dist-packages (from roboflow) (2.5.0)\n",
            "Requirement already satisfied: tqdm>=4.41.0 in /usr/local/lib/python3.12/dist-packages (from roboflow) (4.67.1)\n",
            "Requirement already satisfied: PyYAML>=5.3.1 in /usr/local/lib/python3.12/dist-packages (from roboflow) (6.0.3)\n",
            "Requirement already satisfied: requests-toolbelt in /usr/local/lib/python3.12/dist-packages (from roboflow) (1.0.0)\n",
            "Requirement already satisfied: filetype in /usr/local/lib/python3.12/dist-packages (from roboflow) (1.2.0)\n",
            "Requirement already satisfied: contourpy>=1.0.1 in /usr/local/lib/python3.12/dist-packages (from matplotlib->roboflow) (1.3.3)\n",
            "Requirement already satisfied: fonttools>=4.22.0 in /usr/local/lib/python3.12/dist-packages (from matplotlib->roboflow) (4.60.1)\n",
            "Requirement already satisfied: packaging>=20.0 in /usr/local/lib/python3.12/dist-packages (from matplotlib->roboflow) (25.0)\n",
            "Requirement already satisfied: pyparsing>=2.3.1 in /usr/local/lib/python3.12/dist-packages (from matplotlib->roboflow) (3.2.5)\n",
            "Requirement already satisfied: charset_normalizer<4,>=2 in /usr/local/lib/python3.12/dist-packages (from requests->roboflow) (3.4.4)\n",
            "loading Roboflow workspace...\n",
            "loading Roboflow project...\n"
          ]
        }
      ]
    },
    {
      "cell_type": "code",
      "source": [],
      "metadata": {
        "id": "h5L6Juj4PnA6"
      },
      "execution_count": null,
      "outputs": []
    },
    {
      "cell_type": "markdown",
      "source": [
        "#Computer Vision Problem: Sign For Help\n",
        "###Group 14\n",
        "Our computer vision project aims to develop a model capable of detecting and recognizing the [Signal for Help (SFH)](https://canadianwomen.org/signal-for-help/) hand gesture–a universal distress signal used by individuals experiencing violence or abuse. The problem we are addressing is the lack of accessible and automated tools that can identify this silent call for help, which could support early intervention and improve personal safety.\n",
        "\n",
        "This is an important issue because many victims cannot ask for help out loud (e.g., the abuser is nearby), and this automatic gesture recognition could enable faster responses and potentially save lives. Our model could be used in real life to detect SFH through smartphone cameras, wearable devices, telehealth sessions, or public service kiosks, enabling faster intervention and support for individuals experiencing abuse.\n"
      ],
      "metadata": {
        "id": "Bv14wo_2zaAI"
      }
    },
    {
      "cell_type": "markdown",
      "source": [
        "## Importing Google Drive & Libraries"
      ],
      "metadata": {
        "id": "gDFT0qKI0CvJ"
      }
    },
    {
      "cell_type": "code",
      "source": [
        "from google.colab import drive\n",
        "drive.mount('/content/drive')"
      ],
      "metadata": {
        "colab": {
          "base_uri": "https://localhost:8080/"
        },
        "id": "paDGoDTG1lVG",
        "outputId": "a7e425ef-c90d-44cd-c234-a93bcc56a3f7"
      },
      "execution_count": null,
      "outputs": [
        {
          "output_type": "stream",
          "name": "stdout",
          "text": [
            "Mounted at /content/drive\n"
          ]
        }
      ]
    },
    {
      "cell_type": "code",
      "source": [
        "# copy what's in google drive to local drive folder"
      ],
      "metadata": {
        "id": "JNh1__jFvzIZ"
      },
      "execution_count": null,
      "outputs": []
    },
    {
      "cell_type": "code",
      "source": [
        "import shutil\n",
        "import os\n",
        "\n",
        "# Define source and destination paths\n",
        "source_path = \"/content/drive/MyDrive/IAT360 - SFH Project\"\n",
        "destination_path = \"/content/IAT360\"\n",
        "\n",
        "# Create the destination directory if it doesn't exist\n",
        "os.makedirs(destination_path, exist_ok=True)\n",
        "\n",
        "# Copy the dataset to a writable location\n",
        "shutil.copytree(source_path, destination_path, dirs_exist_ok=True)\n",
        "\n",
        "# Update dataset_path to the new location\n",
        "dataset_path = destination_path\n",
        "\n",
        "print(f\"Dataset copied to: {dataset_path}\")"
      ],
      "metadata": {
        "colab": {
          "base_uri": "https://localhost:8080/"
        },
        "id": "83WzcsjRvnXU",
        "outputId": "64fb4074-17e1-484c-8dba-855222beb24b"
      },
      "execution_count": null,
      "outputs": [
        {
          "output_type": "stream",
          "name": "stdout",
          "text": [
            "Dataset copied to: /content/IAT360\n"
          ]
        }
      ]
    },
    {
      "cell_type": "markdown",
      "source": [
        "## Dataset Description\n",
        "For this project, we need image data resembling two specific hand gestures as a picture below:\n",
        "\n",
        "*   An open hand with tucked thumb\n",
        "*   A closed hand with a trapped thumb\n",
        "\n",
        "\n",
        "\n",
        "![Banner_EN_CWF-1024x467.png](data:image/png;base64,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)\n",
        "\n",
        "**Source:** Signal for help | Use Signal to ask for help.  (n.d.). Canadian Women’s Foundation. https://canadianwomen.org/signal-for-help/\n",
        "\n",
        "###Details\n",
        "\n",
        "These images were sourced from 2 existing datasets and organized into 2 class folders, ‘open_hand’ and ‘closed_hand’ for a classification task. Specifically, we used images labelled ‘B’ from the ASL dataset from the ASL dataset for our ‘open_hand’ class, and images labelled ‘A’ and ‘S’ for our ‘closed_hand’ class. We also supplemented our data with additional images from the Hands Images dataset, which better capture the specific thumb positions we needed and include hands wearing gloves.\n",
        "\n",
        "We have 2 labels, ‘open_hand’ and ‘closed_hand’. Since this is a supervised classification task, the folder structure itself serves as a label; images in the ‘open_hand’ folder belong to ‘open_hand’ class, and the same labelling rule applies for those in the ‘closed_hand’ folder.\n",
        "\n",
        "###Adding More Data\n",
        "We also added 30 (15 for each class) new images each sourced from stock images (Adobe), our own photos of hands...\n",
        "\n",
        "\n",
        "###Data Split\n",
        "\n",
        "Total number of images in each class was: 1,072. We perfomed 80/20 data split to allocate 80% of the data to training and 20% to validation.\n",
        "\n",
        "Here is a Google Drive link to the zipped datasets used in this project:\n",
        "\n",
        "\n",
        "\n",
        "*   [SFH Dataset](https://drive.google.com/drive/folders/1puxrFn5ijZAyBCCPxtzP0QTTBX_QTSmd?usp=sharing)\n",
        "\n",
        "\n",
        "Here are existing datasets we used to collect this data:\n",
        "\n",
        "*   [ASL Alphabet Dataset on Kaggle](https://www.kaggle.com/datasets/grassknoted/asl-alphabet)\n",
        "*   [Hands Images Dataset on Hugging Face](https://huggingface.co/datasets/trashsock/hands-images)"
      ],
      "metadata": {
        "id": "T8_ORqc10TxL"
      }
    },
    {
      "cell_type": "markdown",
      "source": [
        "## Data Preprocessing\n",
        "\n",
        "For preprocessing:\n",
        "- We have to convert the dataset into that acceptable by YOLO.\n",
        "  - Heirarchy of folders should be the one accepted by YOLO\n",
        "  - Labels format should be darknet YOLO.\n",
        "  - Labels files should be .txt files\n"
      ],
      "metadata": {
        "id": "7aQjNM0hDaBb"
      }
    },
    {
      "cell_type": "markdown",
      "source": [
        "### Heirarchy of Folders Correction"
      ],
      "metadata": {
        "id": "YOsIYgK-Po-8"
      }
    },
    {
      "cell_type": "markdown",
      "source": [
        "Defining paths to train and test folders."
      ],
      "metadata": {
        "id": "a06DXoMuKt97"
      }
    },
    {
      "cell_type": "markdown",
      "source": [
        "Original codes below: https://github.com/jaejams/Week3-ClassicML/blob/main/week_3_machinelearning.ipynb"
      ],
      "metadata": {
        "id": "InZ_BYKav8Yr"
      }
    },
    {
      "cell_type": "markdown",
      "source": [
        "## Extracting the file directories\n",
        "So that the images could be split into train & validation sets."
      ],
      "metadata": {
        "id": "Z0w5kf93yP2j"
      }
    },
    {
      "cell_type": "code",
      "source": [
        "import os\n",
        "import glob\n",
        "import numpy as np # Import numpy to use np.array()\n",
        "\n",
        "def load_data():\n",
        "    X, y = [], []\n",
        "    count = 0\n",
        "    # The glob pattern seems to be correct for your intended file structure\n",
        "    for file in glob.glob(\"/content/IAT360/sfh-dataset/*/*.*\"):\n",
        "        # This line correctly extracts ONLY the file name (e.g., 'image.jpg')\n",
        "        file_name = os.path.basename(file)\n",
        "        # Separate the name and extension (base_name will be 'open_hand_0153')\n",
        "        base_name = os.path.splitext(file_name)[0]\n",
        "\n",
        "        # split the string from the RIGHT only once at the underscore.\n",
        "        # 'open_hand_0153'.rsplit('_', 1) -> ['open_hand', '0153']\n",
        "        # Taking the [0] element gives us 'open_hand'\n",
        "        label = base_name.rsplit('_', 1)[0]\n",
        "\n",
        "        # Append the file name (full path) to the list X\n",
        "        X.append(file)\n",
        "        # If wanting the partial path\n",
        "        # X.append(file_name)\n",
        "        y.append(label)\n",
        "\n",
        "        count += 1\n",
        "        # The print statement is kept, assuming you want to see the progress\n",
        "        print('\\r' + f' Processed {count}/{2144} image samples', end=' ')\n",
        "\n",
        "    # Return the list of file names as a numpy array\n",
        "    return np.array(X), np.array(y)"
      ],
      "metadata": {
        "id": "l-jcco9ssk7T"
      },
      "execution_count": null,
      "outputs": []
    },
    {
      "cell_type": "code",
      "source": [
        "# Checking this function to ensure that:\n",
        "# It successfully found all your image files (so the dataset path and structure are correct)\n",
        "# The labels were extracted correctly (e.g., \"open_hand\", \"closed_hand\", etc.)\n",
        "# The order of hands and labels matches\n",
        "hands, labels = load_data()\n",
        "print(hands)\n",
        "print(labels)"
      ],
      "metadata": {
        "colab": {
          "base_uri": "https://localhost:8080/"
        },
        "id": "vlzLTnpRw_K7",
        "outputId": "16b64aa9-c53d-4727-f080-6d00fdc65e59"
      },
      "execution_count": 10,
      "outputs": [
        {
          "output_type": "stream",
          "name": "stdout",
          "text": [
            "\r Processed 1/2144 image samples \r Processed 2/2144 image samples \r Processed 3/2144 image samples \r Processed 4/2144 image samples \r Processed 5/2144 image samples \r Processed 6/2144 image samples \r Processed 7/2144 image samples \r Processed 8/2144 image samples \r Processed 9/2144 image samples \r Processed 10/2144 image samples \r Processed 11/2144 image samples \r Processed 12/2144 image samples \r Processed 13/2144 image samples \r Processed 14/2144 image samples \r Processed 15/2144 image samples \r Processed 16/2144 image samples \r Processed 17/2144 image samples \r Processed 18/2144 image samples \r Processed 19/2144 image samples \r Processed 20/2144 image samples \r Processed 21/2144 image samples \r Processed 22/2144 image samples \r Processed 23/2144 image samples \r Processed 24/2144 image samples \r Processed 25/2144 image samples \r Processed 26/2144 image samples \r Processed 27/2144 image samples \r Processed 28/2144 image samples \r Processed 29/2144 image samples \r Processed 30/2144 image samples \r Processed 31/2144 image samples \r Processed 32/2144 image samples \r Processed 33/2144 image samples \r Processed 34/2144 image samples \r Processed 35/2144 image samples \r Processed 36/2144 image samples \r Processed 37/2144 image samples \r Processed 38/2144 image samples \r Processed 39/2144 image samples \r Processed 40/2144 image samples \r Processed 41/2144 image samples \r Processed 42/2144 image samples \r Processed 43/2144 image samples \r Processed 44/2144 image samples \r Processed 45/2144 image samples \r Processed 46/2144 image samples \r Processed 47/2144 image samples \r Processed 48/2144 image samples \r Processed 49/2144 image samples \r Processed 50/2144 image samples \r Processed 51/2144 image samples \r Processed 52/2144 image samples \r Processed 53/2144 image samples \r Processed 54/2144 image samples \r Processed 55/2144 image samples \r Processed 56/2144 image samples \r Processed 57/2144 image samples \r Processed 58/2144 image samples \r Processed 59/2144 image samples \r Processed 60/2144 image samples \r Processed 61/2144 image samples \r Processed 62/2144 image samples \r Processed 63/2144 image samples \r Processed 64/2144 image samples \r Processed 65/2144 image samples \r Processed 66/2144 image samples \r Processed 67/2144 image samples \r Processed 68/2144 image samples \r Processed 69/2144 image samples \r Processed 70/2144 image samples \r Processed 71/2144 image samples \r Processed 72/2144 image samples \r Processed 73/2144 image samples \r Processed 74/2144 image samples \r Processed 75/2144 image samples \r Processed 76/2144 image samples \r Processed 77/2144 image samples \r Processed 78/2144 image samples \r Processed 79/2144 image samples \r Processed 80/2144 image samples \r Processed 81/2144 image samples \r Processed 82/2144 image samples \r Processed 83/2144 image samples \r Processed 84/2144 image samples \r Processed 85/2144 image samples \r Processed 86/2144 image samples \r Processed 87/2144 image samples \r Processed 88/2144 image samples \r Processed 89/2144 image samples \r Processed 90/2144 image samples \r Processed 91/2144 image samples \r Processed 92/2144 image samples \r Processed 93/2144 image samples \r Processed 94/2144 image samples \r Processed 95/2144 image samples \r Processed 96/2144 image samples \r Processed 97/2144 image samples \r Processed 98/2144 image samples \r Processed 99/2144 image samples \r Processed 100/2144 image samples \r Processed 101/2144 image samples \r Processed 102/2144 image samples \r Processed 103/2144 image samples \r Processed 104/2144 image samples \r Processed 105/2144 image samples \r Processed 106/2144 image samples \r Processed 107/2144 image samples \r Processed 108/2144 image samples \r Processed 109/2144 image samples \r Processed 110/2144 image samples \r Processed 111/2144 image samples \r Processed 112/2144 image samples \r Processed 113/2144 image samples \r Processed 114/2144 image samples \r Processed 115/2144 image samples \r Processed 116/2144 image samples \r Processed 117/2144 image samples \r Processed 118/2144 image samples \r Processed 119/2144 image samples \r Processed 120/2144 image samples \r Processed 121/2144 image samples \r Processed 122/2144 image samples \r Processed 123/2144 image samples \r Processed 124/2144 image samples \r Processed 125/2144 image samples \r Processed 126/2144 image samples \r Processed 127/2144 image samples \r Processed 128/2144 image samples \r Processed 129/2144 image samples \r Processed 130/2144 image samples \r Processed 131/2144 image samples \r Processed 132/2144 image samples \r Processed 133/2144 image samples \r Processed 134/2144 image samples \r Processed 135/2144 image samples \r Processed 136/2144 image samples \r Processed 137/2144 image samples \r Processed 138/2144 image samples \r Processed 139/2144 image samples \r Processed 140/2144 image samples \r Processed 141/2144 image samples \r Processed 142/2144 image samples \r Processed 143/2144 image samples \r Processed 144/2144 image samples \r Processed 145/2144 image samples \r Processed 146/2144 image samples \r Processed 147/2144 image samples \r Processed 148/2144 image samples \r Processed 149/2144 image samples \r Processed 150/2144 image samples \r Processed 151/2144 image samples \r Processed 152/2144 image samples \r Processed 153/2144 image samples \r Processed 154/2144 image samples \r Processed 155/2144 image samples \r Processed 156/2144 image samples \r Processed 157/2144 image samples \r Processed 158/2144 image samples \r Processed 159/2144 image samples \r Processed 160/2144 image samples \r Processed 161/2144 image samples \r Processed 162/2144 image samples \r Processed 163/2144 image samples \r Processed 164/2144 image samples \r Processed 165/2144 image samples \r Processed 166/2144 image samples \r Processed 167/2144 image samples \r Processed 168/2144 image samples \r Processed 169/2144 image samples \r Processed 170/2144 image samples \r Processed 171/2144 image samples \r Processed 172/2144 image samples \r Processed 173/2144 image samples \r Processed 174/2144 image samples \r Processed 175/2144 image samples \r Processed 176/2144 image samples \r Processed 177/2144 image samples \r Processed 178/2144 image samples \r Processed 179/2144 image samples \r Processed 180/2144 image samples \r Processed 181/2144 image samples \r Processed 182/2144 image samples \r Processed 183/2144 image samples \r Processed 184/2144 image samples \r Processed 185/2144 image samples \r Processed 186/2144 image samples \r Processed 187/2144 image samples \r Processed 188/2144 image samples \r Processed 189/2144 image samples \r Processed 190/2144 image samples \r Processed 191/2144 image samples \r Processed 192/2144 image samples \r Processed 193/2144 image samples \r Processed 194/2144 image samples \r Processed 195/2144 image samples \r Processed 196/2144 image samples \r Processed 197/2144 image samples \r Processed 198/2144 image samples \r Processed 199/2144 image samples \r Processed 200/2144 image samples \r Processed 201/2144 image samples \r Processed 202/2144 image samples \r Processed 203/2144 image samples \r Processed 204/2144 image samples \r Processed 205/2144 image samples \r Processed 206/2144 image samples \r Processed 207/2144 image samples \r Processed 208/2144 image samples \r Processed 209/2144 image samples \r Processed 210/2144 image samples \r Processed 211/2144 image samples \r Processed 212/2144 image samples \r Processed 213/2144 image samples \r Processed 214/2144 image samples \r Processed 215/2144 image samples \r Processed 216/2144 image samples \r Processed 217/2144 image samples \r Processed 218/2144 image samples \r Processed 219/2144 image samples \r Processed 220/2144 image samples \r Processed 221/2144 image samples \r Processed 222/2144 image samples \r Processed 223/2144 image samples \r Processed 224/2144 image samples \r Processed 225/2144 image samples \r Processed 226/2144 image samples \r Processed 227/2144 image samples \r Processed 228/2144 image samples \r Processed 229/2144 image samples \r Processed 230/2144 image samples \r Processed 231/2144 image samples \r Processed 232/2144 image samples \r Processed 233/2144 image samples \r Processed 234/2144 image samples \r Processed 235/2144 image samples \r Processed 236/2144 image samples \r Processed 237/2144 image samples \r Processed 238/2144 image samples \r Processed 239/2144 image samples \r Processed 240/2144 image samples \r Processed 241/2144 image samples \r Processed 242/2144 image samples \r Processed 243/2144 image samples \r Processed 244/2144 image samples \r Processed 245/2144 image samples \r Processed 246/2144 image samples \r Processed 247/2144 image samples \r Processed 248/2144 image samples \r Processed 249/2144 image samples \r Processed 250/2144 image samples \r Processed 251/2144 image samples \r Processed 252/2144 image samples \r Processed 253/2144 image samples \r Processed 254/2144 image samples \r Processed 255/2144 image samples \r Processed 256/2144 image samples \r Processed 257/2144 image samples \r Processed 258/2144 image samples \r Processed 259/2144 image samples \r Processed 260/2144 image samples \r Processed 261/2144 image samples \r Processed 262/2144 image samples \r Processed 263/2144 image samples \r Processed 264/2144 image samples \r Processed 265/2144 image samples \r Processed 266/2144 image samples \r Processed 267/2144 image samples \r Processed 268/2144 image samples \r Processed 269/2144 image samples \r Processed 270/2144 image samples \r Processed 271/2144 image samples \r Processed 272/2144 image samples \r Processed 273/2144 image samples \r Processed 274/2144 image samples \r Processed 275/2144 image samples \r Processed 276/2144 image samples \r Processed 277/2144 image samples \r Processed 278/2144 image samples \r Processed 279/2144 image samples \r Processed 280/2144 image samples \r Processed 281/2144 image samples \r Processed 282/2144 image samples \r Processed 283/2144 image samples \r Processed 284/2144 image samples \r Processed 285/2144 image samples \r Processed 286/2144 image samples \r Processed 287/2144 image samples \r Processed 288/2144 image samples \r Processed 289/2144 image samples \r Processed 290/2144 image samples \r Processed 291/2144 image samples \r Processed 292/2144 image samples \r Processed 293/2144 image samples \r Processed 294/2144 image samples \r Processed 295/2144 image samples \r Processed 296/2144 image samples \r Processed 297/2144 image samples \r Processed 298/2144 image samples \r Processed 299/2144 image samples \r Processed 300/2144 image samples \r Processed 301/2144 image samples \r Processed 302/2144 image samples \r Processed 303/2144 image samples \r Processed 304/2144 image samples \r Processed 305/2144 image samples \r Processed 306/2144 image samples \r Processed 307/2144 image samples \r Processed 308/2144 image samples \r Processed 309/2144 image samples \r Processed 310/2144 image samples \r Processed 311/2144 image samples \r Processed 312/2144 image samples \r Processed 313/2144 image samples \r Processed 314/2144 image samples \r Processed 315/2144 image samples \r Processed 316/2144 image samples \r Processed 317/2144 image samples \r Processed 318/2144 image samples \r Processed 319/2144 image samples \r Processed 320/2144 image samples \r Processed 321/2144 image samples \r Processed 322/2144 image samples \r Processed 323/2144 image samples \r Processed 324/2144 image samples \r Processed 325/2144 image samples \r Processed 326/2144 image samples \r Processed 327/2144 image samples \r Processed 328/2144 image samples \r Processed 329/2144 image samples \r Processed 330/2144 image samples \r Processed 331/2144 image samples \r Processed 332/2144 image samples \r Processed 333/2144 image samples \r Processed 334/2144 image samples \r Processed 335/2144 image samples \r Processed 336/2144 image samples \r Processed 337/2144 image samples \r Processed 338/2144 image samples \r Processed 339/2144 image samples \r Processed 340/2144 image samples \r Processed 341/2144 image samples \r Processed 342/2144 image samples \r Processed 343/2144 image samples \r Processed 344/2144 image samples \r Processed 345/2144 image samples \r Processed 346/2144 image samples \r Processed 347/2144 image samples \r Processed 348/2144 image samples \r Processed 349/2144 image samples \r Processed 350/2144 image samples \r Processed 351/2144 image samples \r Processed 352/2144 image samples \r Processed 353/2144 image samples \r Processed 354/2144 image samples \r Processed 355/2144 image samples \r Processed 356/2144 image samples \r Processed 357/2144 image samples \r Processed 358/2144 image samples \r Processed 359/2144 image samples \r Processed 360/2144 image samples \r Processed 361/2144 image samples \r Processed 362/2144 image samples \r Processed 363/2144 image samples \r Processed 364/2144 image samples \r Processed 365/2144 image samples \r Processed 366/2144 image samples \r Processed 367/2144 image samples \r Processed 368/2144 image samples \r Processed 369/2144 image samples \r Processed 370/2144 image samples \r Processed 371/2144 image samples \r Processed 372/2144 image samples \r Processed 373/2144 image samples \r Processed 374/2144 image samples \r Processed 375/2144 image samples \r Processed 376/2144 image samples \r Processed 377/2144 image samples \r Processed 378/2144 image samples \r Processed 379/2144 image samples \r Processed 380/2144 image samples \r Processed 381/2144 image samples \r Processed 382/2144 image samples \r Processed 383/2144 image samples \r Processed 384/2144 image samples \r Processed 385/2144 image samples \r Processed 386/2144 image samples \r Processed 387/2144 image samples \r Processed 388/2144 image samples \r Processed 389/2144 image samples \r Processed 390/2144 image samples \r Processed 391/2144 image samples \r Processed 392/2144 image samples \r Processed 393/2144 image samples \r Processed 394/2144 image samples \r Processed 395/2144 image samples \r Processed 396/2144 image samples \r Processed 397/2144 image samples \r Processed 398/2144 image samples \r Processed 399/2144 image samples \r Processed 400/2144 image samples \r Processed 401/2144 image samples \r Processed 402/2144 image samples \r Processed 403/2144 image samples \r Processed 404/2144 image samples \r Processed 405/2144 image samples \r Processed 406/2144 image samples \r Processed 407/2144 image samples \r Processed 408/2144 image samples \r Processed 409/2144 image samples \r Processed 410/2144 image samples \r Processed 411/2144 image samples \r Processed 412/2144 image samples \r Processed 413/2144 image samples \r Processed 414/2144 image samples \r Processed 415/2144 image samples \r Processed 416/2144 image samples \r Processed 417/2144 image samples \r Processed 418/2144 image samples \r Processed 419/2144 image samples \r Processed 420/2144 image samples \r Processed 421/2144 image samples \r Processed 422/2144 image samples \r Processed 423/2144 image samples \r Processed 424/2144 image samples \r Processed 425/2144 image samples \r Processed 426/2144 image samples \r Processed 427/2144 image samples \r Processed 428/2144 image samples \r Processed 429/2144 image samples \r Processed 430/2144 image samples \r Processed 431/2144 image samples \r Processed 432/2144 image samples \r Processed 433/2144 image samples \r Processed 434/2144 image samples \r Processed 435/2144 image samples \r Processed 436/2144 image samples \r Processed 437/2144 image samples \r Processed 438/2144 image samples \r Processed 439/2144 image samples \r Processed 440/2144 image samples \r Processed 441/2144 image samples \r Processed 442/2144 image samples \r Processed 443/2144 image samples \r Processed 444/2144 image samples \r Processed 445/2144 image samples \r Processed 446/2144 image samples \r Processed 447/2144 image samples \r Processed 448/2144 image samples \r Processed 449/2144 image samples \r Processed 450/2144 image samples \r Processed 451/2144 image samples \r Processed 452/2144 image samples \r Processed 453/2144 image samples \r Processed 454/2144 image samples \r Processed 455/2144 image samples \r Processed 456/2144 image samples \r Processed 457/2144 image samples \r Processed 458/2144 image samples \r Processed 459/2144 image samples \r Processed 460/2144 image samples \r Processed 461/2144 image samples \r Processed 462/2144 image samples \r Processed 463/2144 image samples \r Processed 464/2144 image samples \r Processed 465/2144 image samples \r Processed 466/2144 image samples \r Processed 467/2144 image samples \r Processed 468/2144 image samples \r Processed 469/2144 image samples \r Processed 470/2144 image samples \r Processed 471/2144 image samples \r Processed 472/2144 image samples \r Processed 473/2144 image samples \r Processed 474/2144 image samples \r Processed 475/2144 image samples \r Processed 476/2144 image samples \r Processed 477/2144 image samples \r Processed 478/2144 image samples \r Processed 479/2144 image samples \r Processed 480/2144 image samples \r Processed 481/2144 image samples \r Processed 482/2144 image samples \r Processed 483/2144 image samples \r Processed 484/2144 image samples \r Processed 485/2144 image samples \r Processed 486/2144 image samples \r Processed 487/2144 image samples \r Processed 488/2144 image samples \r Processed 489/2144 image samples \r Processed 490/2144 image samples \r Processed 491/2144 image samples \r Processed 492/2144 image samples \r Processed 493/2144 image samples \r Processed 494/2144 image samples \r Processed 495/2144 image samples \r Processed 496/2144 image samples \r Processed 497/2144 image samples \r Processed 498/2144 image samples \r Processed 499/2144 image samples \r Processed 500/2144 image samples \r Processed 501/2144 image samples \r Processed 502/2144 image samples \r Processed 503/2144 image samples \r Processed 504/2144 image samples \r Processed 505/2144 image samples \r Processed 506/2144 image samples \r Processed 507/2144 image samples \r Processed 508/2144 image samples \r Processed 509/2144 image samples \r Processed 510/2144 image samples \r Processed 511/2144 image samples \r Processed 512/2144 image samples \r Processed 513/2144 image samples \r Processed 514/2144 image samples \r Processed 515/2144 image samples \r Processed 516/2144 image samples \r Processed 517/2144 image samples \r Processed 518/2144 image samples \r Processed 519/2144 image samples \r Processed 520/2144 image samples \r Processed 521/2144 image samples \r Processed 522/2144 image samples \r Processed 523/2144 image samples \r Processed 524/2144 image samples \r Processed 525/2144 image samples \r Processed 526/2144 image samples \r Processed 527/2144 image samples \r Processed 528/2144 image samples \r Processed 529/2144 image samples \r Processed 530/2144 image samples \r Processed 531/2144 image samples \r Processed 532/2144 image samples \r Processed 533/2144 image samples \r Processed 534/2144 image samples \r Processed 535/2144 image samples \r Processed 536/2144 image samples \r Processed 537/2144 image samples \r Processed 538/2144 image samples \r Processed 539/2144 image samples \r Processed 540/2144 image samples \r Processed 541/2144 image samples \r Processed 542/2144 image samples \r Processed 543/2144 image samples \r Processed 544/2144 image samples \r Processed 545/2144 image samples \r Processed 546/2144 image samples \r Processed 547/2144 image samples \r Processed 548/2144 image samples \r Processed 549/2144 image samples \r Processed 550/2144 image samples \r Processed 551/2144 image samples \r Processed 552/2144 image samples \r Processed 553/2144 image samples \r Processed 554/2144 image samples \r Processed 555/2144 image samples \r Processed 556/2144 image samples \r Processed 557/2144 image samples \r Processed 558/2144 image samples \r Processed 559/2144 image samples \r Processed 560/2144 image samples \r Processed 561/2144 image samples \r Processed 562/2144 image samples \r Processed 563/2144 image samples \r Processed 564/2144 image samples \r Processed 565/2144 image samples \r Processed 566/2144 image samples \r Processed 567/2144 image samples \r Processed 568/2144 image samples \r Processed 569/2144 image samples \r Processed 570/2144 image samples \r Processed 571/2144 image samples \r Processed 572/2144 image samples \r Processed 573/2144 image samples \r Processed 574/2144 image samples \r Processed 575/2144 image samples \r Processed 576/2144 image samples \r Processed 577/2144 image samples \r Processed 578/2144 image samples \r Processed 579/2144 image samples \r Processed 580/2144 image samples \r Processed 581/2144 image samples \r Processed 582/2144 image samples \r Processed 583/2144 image samples \r Processed 584/2144 image samples \r Processed 585/2144 image samples \r Processed 586/2144 image samples \r Processed 587/2144 image samples \r Processed 588/2144 image samples \r Processed 589/2144 image samples \r Processed 590/2144 image samples \r Processed 591/2144 image samples \r Processed 592/2144 image samples \r Processed 593/2144 image samples \r Processed 594/2144 image samples \r Processed 595/2144 image samples \r Processed 596/2144 image samples \r Processed 597/2144 image samples \r Processed 598/2144 image samples \r Processed 599/2144 image samples \r Processed 600/2144 image samples \r Processed 601/2144 image samples \r Processed 602/2144 image samples \r Processed 603/2144 image samples \r Processed 604/2144 image samples \r Processed 605/2144 image samples \r Processed 606/2144 image samples \r Processed 607/2144 image samples \r Processed 608/2144 image samples \r Processed 609/2144 image samples \r Processed 610/2144 image samples \r Processed 611/2144 image samples \r Processed 612/2144 image samples \r Processed 613/2144 image samples \r Processed 614/2144 image samples \r Processed 615/2144 image samples \r Processed 616/2144 image samples \r Processed 617/2144 image samples \r Processed 618/2144 image samples \r Processed 619/2144 image samples \r Processed 620/2144 image samples \r Processed 621/2144 image samples \r Processed 622/2144 image samples \r Processed 623/2144 image samples \r Processed 624/2144 image samples \r Processed 625/2144 image samples \r Processed 626/2144 image samples \r Processed 627/2144 image samples \r Processed 628/2144 image samples \r Processed 629/2144 image samples \r Processed 630/2144 image samples \r Processed 631/2144 image samples \r Processed 632/2144 image samples \r Processed 633/2144 image samples \r Processed 634/2144 image samples \r Processed 635/2144 image samples \r Processed 636/2144 image samples \r Processed 637/2144 image samples \r Processed 638/2144 image samples \r Processed 639/2144 image samples \r Processed 640/2144 image samples \r Processed 641/2144 image samples \r Processed 642/2144 image samples \r Processed 643/2144 image samples \r Processed 644/2144 image samples \r Processed 645/2144 image samples \r Processed 646/2144 image samples \r Processed 647/2144 image samples \r Processed 648/2144 image samples \r Processed 649/2144 image samples \r Processed 650/2144 image samples \r Processed 651/2144 image samples \r Processed 652/2144 image samples \r Processed 653/2144 image samples \r Processed 654/2144 image samples \r Processed 655/2144 image samples \r Processed 656/2144 image samples \r Processed 657/2144 image samples \r Processed 658/2144 image samples \r Processed 659/2144 image samples \r Processed 660/2144 image samples \r Processed 661/2144 image samples \r Processed 662/2144 image samples \r Processed 663/2144 image samples \r Processed 664/2144 image samples \r Processed 665/2144 image samples \r Processed 666/2144 image samples \r Processed 667/2144 image samples \r Processed 668/2144 image samples \r Processed 669/2144 image samples \r Processed 670/2144 image samples \r Processed 671/2144 image samples \r Processed 672/2144 image samples \r Processed 673/2144 image samples \r Processed 674/2144 image samples \r Processed 675/2144 image samples \r Processed 676/2144 image samples \r Processed 677/2144 image samples \r Processed 678/2144 image samples \r Processed 679/2144 image samples \r Processed 680/2144 image samples \r Processed 681/2144 image samples \r Processed 682/2144 image samples \r Processed 683/2144 image samples \r Processed 684/2144 image samples \r Processed 685/2144 image samples \r Processed 686/2144 image samples \r Processed 687/2144 image samples \r Processed 688/2144 image samples \r Processed 689/2144 image samples \r Processed 690/2144 image samples \r Processed 691/2144 image samples \r Processed 692/2144 image samples \r Processed 693/2144 image samples \r Processed 694/2144 image samples \r Processed 695/2144 image samples \r Processed 696/2144 image samples \r Processed 697/2144 image samples \r Processed 698/2144 image samples \r Processed 699/2144 image samples \r Processed 700/2144 image samples \r Processed 701/2144 image samples \r Processed 702/2144 image samples \r Processed 703/2144 image samples \r Processed 704/2144 image samples \r Processed 705/2144 image samples \r Processed 706/2144 image samples \r Processed 707/2144 image samples \r Processed 708/2144 image samples \r Processed 709/2144 image samples \r Processed 710/2144 image samples \r Processed 711/2144 image samples \r Processed 712/2144 image samples \r Processed 713/2144 image samples \r Processed 714/2144 image samples \r Processed 715/2144 image samples \r Processed 716/2144 image samples \r Processed 717/2144 image samples \r Processed 718/2144 image samples \r Processed 719/2144 image samples \r Processed 720/2144 image samples \r Processed 721/2144 image samples \r Processed 722/2144 image samples \r Processed 723/2144 image samples \r Processed 724/2144 image samples \r Processed 725/2144 image samples \r Processed 726/2144 image samples \r Processed 727/2144 image samples \r Processed 728/2144 image samples \r Processed 729/2144 image samples \r Processed 730/2144 image samples \r Processed 731/2144 image samples \r Processed 732/2144 image samples \r Processed 733/2144 image samples \r Processed 734/2144 image samples \r Processed 735/2144 image samples \r Processed 736/2144 image samples \r Processed 737/2144 image samples \r Processed 738/2144 image samples \r Processed 739/2144 image samples \r Processed 740/2144 image samples \r Processed 741/2144 image samples \r Processed 742/2144 image samples \r Processed 743/2144 image samples \r Processed 744/2144 image samples \r Processed 745/2144 image samples \r Processed 746/2144 image samples \r Processed 747/2144 image samples \r Processed 748/2144 image samples \r Processed 749/2144 image samples \r Processed 750/2144 image samples \r Processed 751/2144 image samples \r Processed 752/2144 image samples \r Processed 753/2144 image samples \r Processed 754/2144 image samples \r Processed 755/2144 image samples \r Processed 756/2144 image samples \r Processed 757/2144 image samples \r Processed 758/2144 image samples \r Processed 759/2144 image samples \r Processed 760/2144 image samples \r Processed 761/2144 image samples \r Processed 762/2144 image samples \r Processed 763/2144 image samples \r Processed 764/2144 image samples \r Processed 765/2144 image samples \r Processed 766/2144 image samples \r Processed 767/2144 image samples \r Processed 768/2144 image samples \r Processed 769/2144 image samples \r Processed 770/2144 image samples \r Processed 771/2144 image samples \r Processed 772/2144 image samples \r Processed 773/2144 image samples \r Processed 774/2144 image samples \r Processed 775/2144 image samples \r Processed 776/2144 image samples \r Processed 777/2144 image samples \r Processed 778/2144 image samples \r Processed 779/2144 image samples \r Processed 780/2144 image samples \r Processed 781/2144 image samples \r Processed 782/2144 image samples \r Processed 783/2144 image samples \r Processed 784/2144 image samples \r Processed 785/2144 image samples \r Processed 786/2144 image samples \r Processed 787/2144 image samples \r Processed 788/2144 image samples \r Processed 789/2144 image samples \r Processed 790/2144 image samples \r Processed 791/2144 image samples \r Processed 792/2144 image samples \r Processed 793/2144 image samples \r Processed 794/2144 image samples \r Processed 795/2144 image samples \r Processed 796/2144 image samples \r Processed 797/2144 image samples \r Processed 798/2144 image samples \r Processed 799/2144 image samples \r Processed 800/2144 image samples \r Processed 801/2144 image samples \r Processed 802/2144 image samples \r Processed 803/2144 image samples \r Processed 804/2144 image samples \r Processed 805/2144 image samples \r Processed 806/2144 image samples \r Processed 807/2144 image samples \r Processed 808/2144 image samples \r Processed 809/2144 image samples \r Processed 810/2144 image samples \r Processed 811/2144 image samples \r Processed 812/2144 image samples \r Processed 813/2144 image samples \r Processed 814/2144 image samples \r Processed 815/2144 image samples \r Processed 816/2144 image samples \r Processed 817/2144 image samples \r Processed 818/2144 image samples \r Processed 819/2144 image samples \r Processed 820/2144 image samples \r Processed 821/2144 image samples \r Processed 822/2144 image samples \r Processed 823/2144 image samples \r Processed 824/2144 image samples \r Processed 825/2144 image samples \r Processed 826/2144 image samples \r Processed 827/2144 image samples \r Processed 828/2144 image samples \r Processed 829/2144 image samples \r Processed 830/2144 image samples \r Processed 831/2144 image samples \r Processed 832/2144 image samples \r Processed 833/2144 image samples \r Processed 834/2144 image samples \r Processed 835/2144 image samples \r Processed 836/2144 image samples \r Processed 837/2144 image samples \r Processed 838/2144 image samples \r Processed 839/2144 image samples \r Processed 840/2144 image samples \r Processed 841/2144 image samples \r Processed 842/2144 image samples \r Processed 843/2144 image samples \r Processed 844/2144 image samples \r Processed 845/2144 image samples \r Processed 846/2144 image samples \r Processed 847/2144 image samples \r Processed 848/2144 image samples \r Processed 849/2144 image samples \r Processed 850/2144 image samples \r Processed 851/2144 image samples \r Processed 852/2144 image samples \r Processed 853/2144 image samples \r Processed 854/2144 image samples \r Processed 855/2144 image samples \r Processed 856/2144 image samples \r Processed 857/2144 image samples \r Processed 858/2144 image samples \r Processed 859/2144 image samples \r Processed 860/2144 image samples \r Processed 861/2144 image samples \r Processed 862/2144 image samples \r Processed 863/2144 image samples \r Processed 864/2144 image samples \r Processed 865/2144 image samples \r Processed 866/2144 image samples \r Processed 867/2144 image samples \r Processed 868/2144 image samples \r Processed 869/2144 image samples \r Processed 870/2144 image samples \r Processed 871/2144 image samples \r Processed 872/2144 image samples \r Processed 873/2144 image samples \r Processed 874/2144 image samples \r Processed 875/2144 image samples \r Processed 876/2144 image samples \r Processed 877/2144 image samples \r Processed 878/2144 image samples \r Processed 879/2144 image samples \r Processed 880/2144 image samples \r Processed 881/2144 image samples \r Processed 882/2144 image samples \r Processed 883/2144 image samples \r Processed 884/2144 image samples \r Processed 885/2144 image samples \r Processed 886/2144 image samples \r Processed 887/2144 image samples \r Processed 888/2144 image samples \r Processed 889/2144 image samples \r Processed 890/2144 image samples \r Processed 891/2144 image samples \r Processed 892/2144 image samples \r Processed 893/2144 image samples \r Processed 894/2144 image samples \r Processed 895/2144 image samples \r Processed 896/2144 image samples \r Processed 897/2144 image samples \r Processed 898/2144 image samples \r Processed 899/2144 image samples \r Processed 900/2144 image samples \r Processed 901/2144 image samples \r Processed 902/2144 image samples \r Processed 903/2144 image samples \r Processed 904/2144 image samples \r Processed 905/2144 image samples \r Processed 906/2144 image samples \r Processed 907/2144 image samples \r Processed 908/2144 image samples \r Processed 909/2144 image samples \r Processed 910/2144 image samples \r Processed 911/2144 image samples \r Processed 912/2144 image samples \r Processed 913/2144 image samples \r Processed 914/2144 image samples \r Processed 915/2144 image samples \r Processed 916/2144 image samples \r Processed 917/2144 image samples \r Processed 918/2144 image samples \r Processed 919/2144 image samples \r Processed 920/2144 image samples \r Processed 921/2144 image samples \r Processed 922/2144 image samples \r Processed 923/2144 image samples \r Processed 924/2144 image samples \r Processed 925/2144 image samples \r Processed 926/2144 image samples \r Processed 927/2144 image samples \r Processed 928/2144 image samples \r Processed 929/2144 image samples \r Processed 930/2144 image samples \r Processed 931/2144 image samples \r Processed 932/2144 image samples \r Processed 933/2144 image samples \r Processed 934/2144 image samples \r Processed 935/2144 image samples \r Processed 936/2144 image samples \r Processed 937/2144 image samples \r Processed 938/2144 image samples \r Processed 939/2144 image samples \r Processed 940/2144 image samples \r Processed 941/2144 image samples \r Processed 942/2144 image samples \r Processed 943/2144 image samples \r Processed 944/2144 image samples \r Processed 945/2144 image samples \r Processed 946/2144 image samples \r Processed 947/2144 image samples \r Processed 948/2144 image samples \r Processed 949/2144 image samples \r Processed 950/2144 image samples \r Processed 951/2144 image samples \r Processed 952/2144 image samples \r Processed 953/2144 image samples \r Processed 954/2144 image samples \r Processed 955/2144 image samples \r Processed 956/2144 image samples \r Processed 957/2144 image samples \r Processed 958/2144 image samples \r Processed 959/2144 image samples \r Processed 960/2144 image samples \r Processed 961/2144 image samples \r Processed 962/2144 image samples \r Processed 963/2144 image samples \r Processed 964/2144 image samples \r Processed 965/2144 image samples \r Processed 966/2144 image samples \r Processed 967/2144 image samples \r Processed 968/2144 image samples \r Processed 969/2144 image samples \r Processed 970/2144 image samples \r Processed 971/2144 image samples \r Processed 972/2144 image samples \r Processed 973/2144 image samples \r Processed 974/2144 image samples \r Processed 975/2144 image samples \r Processed 976/2144 image samples \r Processed 977/2144 image samples \r Processed 978/2144 image samples \r Processed 979/2144 image samples \r Processed 980/2144 image samples \r Processed 981/2144 image samples \r Processed 982/2144 image samples \r Processed 983/2144 image samples \r Processed 984/2144 image samples \r Processed 985/2144 image samples \r Processed 986/2144 image samples \r Processed 987/2144 image samples \r Processed 988/2144 image samples \r Processed 989/2144 image samples \r Processed 990/2144 image samples \r Processed 991/2144 image samples \r Processed 992/2144 image samples \r Processed 993/2144 image samples \r Processed 994/2144 image samples \r Processed 995/2144 image samples \r Processed 996/2144 image samples \r Processed 997/2144 image samples \r Processed 998/2144 image samples \r Processed 999/2144 image samples \r Processed 1000/2144 image samples \r Processed 1001/2144 image samples \r Processed 1002/2144 image samples \r Processed 1003/2144 image samples \r Processed 1004/2144 image samples \r Processed 1005/2144 image samples \r Processed 1006/2144 image samples \r Processed 1007/2144 image samples \r Processed 1008/2144 image samples \r Processed 1009/2144 image samples \r Processed 1010/2144 image samples \r Processed 1011/2144 image samples \r Processed 1012/2144 image samples \r Processed 1013/2144 image samples \r Processed 1014/2144 image samples \r Processed 1015/2144 image samples \r Processed 1016/2144 image samples \r Processed 1017/2144 image samples \r Processed 1018/2144 image samples \r Processed 1019/2144 image samples \r Processed 1020/2144 image samples \r Processed 1021/2144 image samples \r Processed 1022/2144 image samples \r Processed 1023/2144 image samples \r Processed 1024/2144 image samples \r Processed 1025/2144 image samples \r Processed 1026/2144 image samples \r Processed 1027/2144 image samples \r Processed 1028/2144 image samples \r Processed 1029/2144 image samples \r Processed 1030/2144 image samples \r Processed 1031/2144 image samples \r Processed 1032/2144 image samples \r Processed 1033/2144 image samples \r Processed 1034/2144 image samples \r Processed 1035/2144 image samples \r Processed 1036/2144 image samples \r Processed 1037/2144 image samples \r Processed 1038/2144 image samples \r Processed 1039/2144 image samples \r Processed 1040/2144 image samples \r Processed 1041/2144 image samples \r Processed 1042/2144 image samples \r Processed 1043/2144 image samples \r Processed 1044/2144 image samples \r Processed 1045/2144 image samples \r Processed 1046/2144 image samples \r Processed 1047/2144 image samples \r Processed 1048/2144 image samples \r Processed 1049/2144 image samples \r Processed 1050/2144 image samples \r Processed 1051/2144 image samples \r Processed 1052/2144 image samples \r Processed 1053/2144 image samples \r Processed 1054/2144 image samples \r Processed 1055/2144 image samples \r Processed 1056/2144 image samples \r Processed 1057/2144 image samples \r Processed 1058/2144 image samples \r Processed 1059/2144 image samples \r Processed 1060/2144 image samples \r Processed 1061/2144 image samples \r Processed 1062/2144 image samples \r Processed 1063/2144 image samples \r Processed 1064/2144 image samples \r Processed 1065/2144 image samples \r Processed 1066/2144 image samples \r Processed 1067/2144 image samples \r Processed 1068/2144 image samples \r Processed 1069/2144 image samples \r Processed 1070/2144 image samples \r Processed 1071/2144 image samples \r Processed 1072/2144 image samples \r Processed 1073/2144 image samples \r Processed 1074/2144 image samples \r Processed 1075/2144 image samples \r Processed 1076/2144 image samples \r Processed 1077/2144 image samples \r Processed 1078/2144 image samples \r Processed 1079/2144 image samples \r Processed 1080/2144 image samples \r Processed 1081/2144 image samples \r Processed 1082/2144 image samples \r Processed 1083/2144 image samples \r Processed 1084/2144 image samples \r Processed 1085/2144 image samples \r Processed 1086/2144 image samples \r Processed 1087/2144 image samples \r Processed 1088/2144 image samples \r Processed 1089/2144 image samples \r Processed 1090/2144 image samples \r Processed 1091/2144 image samples \r Processed 1092/2144 image samples \r Processed 1093/2144 image samples \r Processed 1094/2144 image samples \r Processed 1095/2144 image samples \r Processed 1096/2144 image samples \r Processed 1097/2144 image samples \r Processed 1098/2144 image samples \r Processed 1099/2144 image samples \r Processed 1100/2144 image samples \r Processed 1101/2144 image samples \r Processed 1102/2144 image samples \r Processed 1103/2144 image samples \r Processed 1104/2144 image samples \r Processed 1105/2144 image samples \r Processed 1106/2144 image samples \r Processed 1107/2144 image samples \r Processed 1108/2144 image samples \r Processed 1109/2144 image samples \r Processed 1110/2144 image samples \r Processed 1111/2144 image samples \r Processed 1112/2144 image samples \r Processed 1113/2144 image samples \r Processed 1114/2144 image samples \r Processed 1115/2144 image samples \r Processed 1116/2144 image samples \r Processed 1117/2144 image samples \r Processed 1118/2144 image samples \r Processed 1119/2144 image samples \r Processed 1120/2144 image samples \r Processed 1121/2144 image samples \r Processed 1122/2144 image samples \r Processed 1123/2144 image samples \r Processed 1124/2144 image samples \r Processed 1125/2144 image samples \r Processed 1126/2144 image samples \r Processed 1127/2144 image samples \r Processed 1128/2144 image samples \r Processed 1129/2144 image samples \r Processed 1130/2144 image samples \r Processed 1131/2144 image samples \r Processed 1132/2144 image samples \r Processed 1133/2144 image samples \r Processed 1134/2144 image samples \r Processed 1135/2144 image samples \r Processed 1136/2144 image samples \r Processed 1137/2144 image samples \r Processed 1138/2144 image samples \r Processed 1139/2144 image samples \r Processed 1140/2144 image samples \r Processed 1141/2144 image samples \r Processed 1142/2144 image samples \r Processed 1143/2144 image samples \r Processed 1144/2144 image samples \r Processed 1145/2144 image samples \r Processed 1146/2144 image samples \r Processed 1147/2144 image samples \r Processed 1148/2144 image samples \r Processed 1149/2144 image samples \r Processed 1150/2144 image samples \r Processed 1151/2144 image samples \r Processed 1152/2144 image samples \r Processed 1153/2144 image samples \r Processed 1154/2144 image samples \r Processed 1155/2144 image samples \r Processed 1156/2144 image samples \r Processed 1157/2144 image samples \r Processed 1158/2144 image samples \r Processed 1159/2144 image samples \r Processed 1160/2144 image samples \r Processed 1161/2144 image samples \r Processed 1162/2144 image samples \r Processed 1163/2144 image samples \r Processed 1164/2144 image samples \r Processed 1165/2144 image samples \r Processed 1166/2144 image samples \r Processed 1167/2144 image samples \r Processed 1168/2144 image samples \r Processed 1169/2144 image samples \r Processed 1170/2144 image samples \r Processed 1171/2144 image samples \r Processed 1172/2144 image samples \r Processed 1173/2144 image samples \r Processed 1174/2144 image samples \r Processed 1175/2144 image samples \r Processed 1176/2144 image samples \r Processed 1177/2144 image samples \r Processed 1178/2144 image samples \r Processed 1179/2144 image samples \r Processed 1180/2144 image samples \r Processed 1181/2144 image samples \r Processed 1182/2144 image samples \r Processed 1183/2144 image samples \r Processed 1184/2144 image samples \r Processed 1185/2144 image samples \r Processed 1186/2144 image samples \r Processed 1187/2144 image samples \r Processed 1188/2144 image samples \r Processed 1189/2144 image samples \r Processed 1190/2144 image samples \r Processed 1191/2144 image samples \r Processed 1192/2144 image samples \r Processed 1193/2144 image samples \r Processed 1194/2144 image samples \r Processed 1195/2144 image samples \r Processed 1196/2144 image samples \r Processed 1197/2144 image samples \r Processed 1198/2144 image samples \r Processed 1199/2144 image samples \r Processed 1200/2144 image samples \r Processed 1201/2144 image samples \r Processed 1202/2144 image samples \r Processed 1203/2144 image samples \r Processed 1204/2144 image samples \r Processed 1205/2144 image samples \r Processed 1206/2144 image samples \r Processed 1207/2144 image samples \r Processed 1208/2144 image samples \r Processed 1209/2144 image samples \r Processed 1210/2144 image samples \r Processed 1211/2144 image samples \r Processed 1212/2144 image samples \r Processed 1213/2144 image samples \r Processed 1214/2144 image samples \r Processed 1215/2144 image samples \r Processed 1216/2144 image samples \r Processed 1217/2144 image samples \r Processed 1218/2144 image samples \r Processed 1219/2144 image samples \r Processed 1220/2144 image samples \r Processed 1221/2144 image samples \r Processed 1222/2144 image samples \r Processed 1223/2144 image samples \r Processed 1224/2144 image samples \r Processed 1225/2144 image samples \r Processed 1226/2144 image samples \r Processed 1227/2144 image samples \r Processed 1228/2144 image samples \r Processed 1229/2144 image samples \r Processed 1230/2144 image samples \r Processed 1231/2144 image samples \r Processed 1232/2144 image samples \r Processed 1233/2144 image samples \r Processed 1234/2144 image samples \r Processed 1235/2144 image samples \r Processed 1236/2144 image samples \r Processed 1237/2144 image samples \r Processed 1238/2144 image samples \r Processed 1239/2144 image samples \r Processed 1240/2144 image samples \r Processed 1241/2144 image samples \r Processed 1242/2144 image samples \r Processed 1243/2144 image samples \r Processed 1244/2144 image samples \r Processed 1245/2144 image samples \r Processed 1246/2144 image samples \r Processed 1247/2144 image samples \r Processed 1248/2144 image samples \r Processed 1249/2144 image samples \r Processed 1250/2144 image samples \r Processed 1251/2144 image samples \r Processed 1252/2144 image samples \r Processed 1253/2144 image samples \r Processed 1254/2144 image samples \r Processed 1255/2144 image samples \r Processed 1256/2144 image samples \r Processed 1257/2144 image samples \r Processed 1258/2144 image samples \r Processed 1259/2144 image samples \r Processed 1260/2144 image samples \r Processed 1261/2144 image samples \r Processed 1262/2144 image samples \r Processed 1263/2144 image samples \r Processed 1264/2144 image samples \r Processed 1265/2144 image samples \r Processed 1266/2144 image samples \r Processed 1267/2144 image samples \r Processed 1268/2144 image samples \r Processed 1269/2144 image samples \r Processed 1270/2144 image samples \r Processed 1271/2144 image samples \r Processed 1272/2144 image samples \r Processed 1273/2144 image samples \r Processed 1274/2144 image samples \r Processed 1275/2144 image samples \r Processed 1276/2144 image samples \r Processed 1277/2144 image samples \r Processed 1278/2144 image samples \r Processed 1279/2144 image samples \r Processed 1280/2144 image samples \r Processed 1281/2144 image samples \r Processed 1282/2144 image samples \r Processed 1283/2144 image samples \r Processed 1284/2144 image samples \r Processed 1285/2144 image samples \r Processed 1286/2144 image samples \r Processed 1287/2144 image samples \r Processed 1288/2144 image samples \r Processed 1289/2144 image samples \r Processed 1290/2144 image samples \r Processed 1291/2144 image samples \r Processed 1292/2144 image samples \r Processed 1293/2144 image samples \r Processed 1294/2144 image samples \r Processed 1295/2144 image samples \r Processed 1296/2144 image samples \r Processed 1297/2144 image samples \r Processed 1298/2144 image samples \r Processed 1299/2144 image samples \r Processed 1300/2144 image samples \r Processed 1301/2144 image samples \r Processed 1302/2144 image samples \r Processed 1303/2144 image samples \r Processed 1304/2144 image samples \r Processed 1305/2144 image samples \r Processed 1306/2144 image samples \r Processed 1307/2144 image samples \r Processed 1308/2144 image samples \r Processed 1309/2144 image samples \r Processed 1310/2144 image samples \r Processed 1311/2144 image samples \r Processed 1312/2144 image samples \r Processed 1313/2144 image samples \r Processed 1314/2144 image samples \r Processed 1315/2144 image samples \r Processed 1316/2144 image samples \r Processed 1317/2144 image samples \r Processed 1318/2144 image samples \r Processed 1319/2144 image samples \r Processed 1320/2144 image samples \r Processed 1321/2144 image samples \r Processed 1322/2144 image samples \r Processed 1323/2144 image samples \r Processed 1324/2144 image samples \r Processed 1325/2144 image samples \r Processed 1326/2144 image samples \r Processed 1327/2144 image samples \r Processed 1328/2144 image samples \r Processed 1329/2144 image samples \r Processed 1330/2144 image samples \r Processed 1331/2144 image samples \r Processed 1332/2144 image samples \r Processed 1333/2144 image samples \r Processed 1334/2144 image samples \r Processed 1335/2144 image samples \r Processed 1336/2144 image samples \r Processed 1337/2144 image samples \r Processed 1338/2144 image samples \r Processed 1339/2144 image samples \r Processed 1340/2144 image samples \r Processed 1341/2144 image samples \r Processed 1342/2144 image samples \r Processed 1343/2144 image samples \r Processed 1344/2144 image samples \r Processed 1345/2144 image samples \r Processed 1346/2144 image samples \r Processed 1347/2144 image samples \r Processed 1348/2144 image samples \r Processed 1349/2144 image samples \r Processed 1350/2144 image samples \r Processed 1351/2144 image samples \r Processed 1352/2144 image samples \r Processed 1353/2144 image samples \r Processed 1354/2144 image samples \r Processed 1355/2144 image samples \r Processed 1356/2144 image samples \r Processed 1357/2144 image samples \r Processed 1358/2144 image samples \r Processed 1359/2144 image samples \r Processed 1360/2144 image samples \r Processed 1361/2144 image samples \r Processed 1362/2144 image samples \r Processed 1363/2144 image samples \r Processed 1364/2144 image samples \r Processed 1365/2144 image samples \r Processed 1366/2144 image samples \r Processed 1367/2144 image samples \r Processed 1368/2144 image samples \r Processed 1369/2144 image samples \r Processed 1370/2144 image samples \r Processed 1371/2144 image samples \r Processed 1372/2144 image samples \r Processed 1373/2144 image samples \r Processed 1374/2144 image samples \r Processed 1375/2144 image samples \r Processed 1376/2144 image samples \r Processed 1377/2144 image samples \r Processed 1378/2144 image samples \r Processed 1379/2144 image samples \r Processed 1380/2144 image samples \r Processed 1381/2144 image samples \r Processed 1382/2144 image samples \r Processed 1383/2144 image samples \r Processed 1384/2144 image samples \r Processed 1385/2144 image samples \r Processed 1386/2144 image samples \r Processed 1387/2144 image samples \r Processed 1388/2144 image samples \r Processed 1389/2144 image samples \r Processed 1390/2144 image samples \r Processed 1391/2144 image samples \r Processed 1392/2144 image samples \r Processed 1393/2144 image samples \r Processed 1394/2144 image samples \r Processed 1395/2144 image samples \r Processed 1396/2144 image samples \r Processed 1397/2144 image samples \r Processed 1398/2144 image samples \r Processed 1399/2144 image samples \r Processed 1400/2144 image samples \r Processed 1401/2144 image samples \r Processed 1402/2144 image samples \r Processed 1403/2144 image samples \r Processed 1404/2144 image samples \r Processed 1405/2144 image samples \r Processed 1406/2144 image samples \r Processed 1407/2144 image samples \r Processed 1408/2144 image samples \r Processed 1409/2144 image samples \r Processed 1410/2144 image samples \r Processed 1411/2144 image samples \r Processed 1412/2144 image samples \r Processed 1413/2144 image samples \r Processed 1414/2144 image samples \r Processed 1415/2144 image samples \r Processed 1416/2144 image samples \r Processed 1417/2144 image samples \r Processed 1418/2144 image samples \r Processed 1419/2144 image samples \r Processed 1420/2144 image samples \r Processed 1421/2144 image samples \r Processed 1422/2144 image samples \r Processed 1423/2144 image samples \r Processed 1424/2144 image samples \r Processed 1425/2144 image samples \r Processed 1426/2144 image samples \r Processed 1427/2144 image samples \r Processed 1428/2144 image samples \r Processed 1429/2144 image samples \r Processed 1430/2144 image samples \r Processed 1431/2144 image samples \r Processed 1432/2144 image samples \r Processed 1433/2144 image samples \r Processed 1434/2144 image samples \r Processed 1435/2144 image samples \r Processed 1436/2144 image samples \r Processed 1437/2144 image samples \r Processed 1438/2144 image samples \r Processed 1439/2144 image samples \r Processed 1440/2144 image samples \r Processed 1441/2144 image samples \r Processed 1442/2144 image samples \r Processed 1443/2144 image samples \r Processed 1444/2144 image samples \r Processed 1445/2144 image samples \r Processed 1446/2144 image samples \r Processed 1447/2144 image samples \r Processed 1448/2144 image samples \r Processed 1449/2144 image samples \r Processed 1450/2144 image samples \r Processed 1451/2144 image samples \r Processed 1452/2144 image samples \r Processed 1453/2144 image samples \r Processed 1454/2144 image samples \r Processed 1455/2144 image samples \r Processed 1456/2144 image samples \r Processed 1457/2144 image samples \r Processed 1458/2144 image samples \r Processed 1459/2144 image samples \r Processed 1460/2144 image samples \r Processed 1461/2144 image samples \r Processed 1462/2144 image samples \r Processed 1463/2144 image samples \r Processed 1464/2144 image samples \r Processed 1465/2144 image samples \r Processed 1466/2144 image samples \r Processed 1467/2144 image samples \r Processed 1468/2144 image samples \r Processed 1469/2144 image samples \r Processed 1470/2144 image samples \r Processed 1471/2144 image samples \r Processed 1472/2144 image samples \r Processed 1473/2144 image samples \r Processed 1474/2144 image samples \r Processed 1475/2144 image samples \r Processed 1476/2144 image samples \r Processed 1477/2144 image samples \r Processed 1478/2144 image samples \r Processed 1479/2144 image samples \r Processed 1480/2144 image samples \r Processed 1481/2144 image samples \r Processed 1482/2144 image samples \r Processed 1483/2144 image samples \r Processed 1484/2144 image samples \r Processed 1485/2144 image samples \r Processed 1486/2144 image samples \r Processed 1487/2144 image samples \r Processed 1488/2144 image samples \r Processed 1489/2144 image samples \r Processed 1490/2144 image samples \r Processed 1491/2144 image samples \r Processed 1492/2144 image samples \r Processed 1493/2144 image samples \r Processed 1494/2144 image samples \r Processed 1495/2144 image samples \r Processed 1496/2144 image samples \r Processed 1497/2144 image samples \r Processed 1498/2144 image samples \r Processed 1499/2144 image samples \r Processed 1500/2144 image samples \r Processed 1501/2144 image samples \r Processed 1502/2144 image samples \r Processed 1503/2144 image samples \r Processed 1504/2144 image samples \r Processed 1505/2144 image samples \r Processed 1506/2144 image samples \r Processed 1507/2144 image samples \r Processed 1508/2144 image samples \r Processed 1509/2144 image samples \r Processed 1510/2144 image samples \r Processed 1511/2144 image samples \r Processed 1512/2144 image samples \r Processed 1513/2144 image samples \r Processed 1514/2144 image samples \r Processed 1515/2144 image samples \r Processed 1516/2144 image samples \r Processed 1517/2144 image samples \r Processed 1518/2144 image samples \r Processed 1519/2144 image samples \r Processed 1520/2144 image samples \r Processed 1521/2144 image samples \r Processed 1522/2144 image samples \r Processed 1523/2144 image samples \r Processed 1524/2144 image samples \r Processed 1525/2144 image samples \r Processed 1526/2144 image samples \r Processed 1527/2144 image samples \r Processed 1528/2144 image samples \r Processed 1529/2144 image samples \r Processed 1530/2144 image samples \r Processed 1531/2144 image samples \r Processed 1532/2144 image samples \r Processed 1533/2144 image samples \r Processed 1534/2144 image samples \r Processed 1535/2144 image samples \r Processed 1536/2144 image samples \r Processed 1537/2144 image samples \r Processed 1538/2144 image samples \r Processed 1539/2144 image samples \r Processed 1540/2144 image samples \r Processed 1541/2144 image samples \r Processed 1542/2144 image samples \r Processed 1543/2144 image samples \r Processed 1544/2144 image samples \r Processed 1545/2144 image samples \r Processed 1546/2144 image samples \r Processed 1547/2144 image samples \r Processed 1548/2144 image samples \r Processed 1549/2144 image samples \r Processed 1550/2144 image samples \r Processed 1551/2144 image samples \r Processed 1552/2144 image samples \r Processed 1553/2144 image samples \r Processed 1554/2144 image samples \r Processed 1555/2144 image samples \r Processed 1556/2144 image samples \r Processed 1557/2144 image samples \r Processed 1558/2144 image samples \r Processed 1559/2144 image samples \r Processed 1560/2144 image samples \r Processed 1561/2144 image samples \r Processed 1562/2144 image samples \r Processed 1563/2144 image samples \r Processed 1564/2144 image samples \r Processed 1565/2144 image samples \r Processed 1566/2144 image samples \r Processed 1567/2144 image samples \r Processed 1568/2144 image samples \r Processed 1569/2144 image samples \r Processed 1570/2144 image samples \r Processed 1571/2144 image samples \r Processed 1572/2144 image samples \r Processed 1573/2144 image samples \r Processed 1574/2144 image samples \r Processed 1575/2144 image samples \r Processed 1576/2144 image samples \r Processed 1577/2144 image samples \r Processed 1578/2144 image samples \r Processed 1579/2144 image samples \r Processed 1580/2144 image samples \r Processed 1581/2144 image samples \r Processed 1582/2144 image samples \r Processed 1583/2144 image samples \r Processed 1584/2144 image samples \r Processed 1585/2144 image samples \r Processed 1586/2144 image samples \r Processed 1587/2144 image samples \r Processed 1588/2144 image samples \r Processed 1589/2144 image samples \r Processed 1590/2144 image samples \r Processed 1591/2144 image samples \r Processed 1592/2144 image samples \r Processed 1593/2144 image samples \r Processed 1594/2144 image samples \r Processed 1595/2144 image samples \r Processed 1596/2144 image samples \r Processed 1597/2144 image samples \r Processed 1598/2144 image samples \r Processed 1599/2144 image samples \r Processed 1600/2144 image samples \r Processed 1601/2144 image samples \r Processed 1602/2144 image samples \r Processed 1603/2144 image samples \r Processed 1604/2144 image samples \r Processed 1605/2144 image samples \r Processed 1606/2144 image samples \r Processed 1607/2144 image samples \r Processed 1608/2144 image samples \r Processed 1609/2144 image samples \r Processed 1610/2144 image samples \r Processed 1611/2144 image samples \r Processed 1612/2144 image samples \r Processed 1613/2144 image samples \r Processed 1614/2144 image samples \r Processed 1615/2144 image samples \r Processed 1616/2144 image samples \r Processed 1617/2144 image samples \r Processed 1618/2144 image samples \r Processed 1619/2144 image samples \r Processed 1620/2144 image samples \r Processed 1621/2144 image samples \r Processed 1622/2144 image samples \r Processed 1623/2144 image samples \r Processed 1624/2144 image samples \r Processed 1625/2144 image samples \r Processed 1626/2144 image samples \r Processed 1627/2144 image samples \r Processed 1628/2144 image samples \r Processed 1629/2144 image samples \r Processed 1630/2144 image samples \r Processed 1631/2144 image samples \r Processed 1632/2144 image samples \r Processed 1633/2144 image samples \r Processed 1634/2144 image samples \r Processed 1635/2144 image samples \r Processed 1636/2144 image samples \r Processed 1637/2144 image samples \r Processed 1638/2144 image samples \r Processed 1639/2144 image samples \r Processed 1640/2144 image samples \r Processed 1641/2144 image samples \r Processed 1642/2144 image samples \r Processed 1643/2144 image samples \r Processed 1644/2144 image samples \r Processed 1645/2144 image samples \r Processed 1646/2144 image samples \r Processed 1647/2144 image samples \r Processed 1648/2144 image samples \r Processed 1649/2144 image samples \r Processed 1650/2144 image samples \r Processed 1651/2144 image samples \r Processed 1652/2144 image samples \r Processed 1653/2144 image samples \r Processed 1654/2144 image samples \r Processed 1655/2144 image samples \r Processed 1656/2144 image samples \r Processed 1657/2144 image samples \r Processed 1658/2144 image samples \r Processed 1659/2144 image samples \r Processed 1660/2144 image samples \r Processed 1661/2144 image samples \r Processed 1662/2144 image samples \r Processed 1663/2144 image samples \r Processed 1664/2144 image samples \r Processed 1665/2144 image samples \r Processed 1666/2144 image samples \r Processed 1667/2144 image samples \r Processed 1668/2144 image samples \r Processed 1669/2144 image samples \r Processed 1670/2144 image samples \r Processed 1671/2144 image samples \r Processed 1672/2144 image samples \r Processed 1673/2144 image samples \r Processed 1674/2144 image samples \r Processed 1675/2144 image samples \r Processed 1676/2144 image samples \r Processed 1677/2144 image samples \r Processed 1678/2144 image samples \r Processed 1679/2144 image samples \r Processed 1680/2144 image samples \r Processed 1681/2144 image samples \r Processed 1682/2144 image samples \r Processed 1683/2144 image samples \r Processed 1684/2144 image samples \r Processed 1685/2144 image samples \r Processed 1686/2144 image samples \r Processed 1687/2144 image samples \r Processed 1688/2144 image samples \r Processed 1689/2144 image samples \r Processed 1690/2144 image samples \r Processed 1691/2144 image samples \r Processed 1692/2144 image samples \r Processed 1693/2144 image samples \r Processed 1694/2144 image samples \r Processed 1695/2144 image samples \r Processed 1696/2144 image samples \r Processed 1697/2144 image samples \r Processed 1698/2144 image samples \r Processed 1699/2144 image samples \r Processed 1700/2144 image samples \r Processed 1701/2144 image samples \r Processed 1702/2144 image samples \r Processed 1703/2144 image samples \r Processed 1704/2144 image samples \r Processed 1705/2144 image samples \r Processed 1706/2144 image samples \r Processed 1707/2144 image samples \r Processed 1708/2144 image samples \r Processed 1709/2144 image samples \r Processed 1710/2144 image samples \r Processed 1711/2144 image samples \r Processed 1712/2144 image samples \r Processed 1713/2144 image samples \r Processed 1714/2144 image samples \r Processed 1715/2144 image samples \r Processed 1716/2144 image samples \r Processed 1717/2144 image samples \r Processed 1718/2144 image samples \r Processed 1719/2144 image samples \r Processed 1720/2144 image samples \r Processed 1721/2144 image samples \r Processed 1722/2144 image samples \r Processed 1723/2144 image samples \r Processed 1724/2144 image samples \r Processed 1725/2144 image samples \r Processed 1726/2144 image samples \r Processed 1727/2144 image samples \r Processed 1728/2144 image samples \r Processed 1729/2144 image samples \r Processed 1730/2144 image samples \r Processed 1731/2144 image samples \r Processed 1732/2144 image samples \r Processed 1733/2144 image samples \r Processed 1734/2144 image samples \r Processed 1735/2144 image samples \r Processed 1736/2144 image samples \r Processed 1737/2144 image samples \r Processed 1738/2144 image samples \r Processed 1739/2144 image samples \r Processed 1740/2144 image samples \r Processed 1741/2144 image samples \r Processed 1742/2144 image samples \r Processed 1743/2144 image samples \r Processed 1744/2144 image samples \r Processed 1745/2144 image samples \r Processed 1746/2144 image samples \r Processed 1747/2144 image samples \r Processed 1748/2144 image samples \r Processed 1749/2144 image samples \r Processed 1750/2144 image samples \r Processed 1751/2144 image samples \r Processed 1752/2144 image samples \r Processed 1753/2144 image samples \r Processed 1754/2144 image samples \r Processed 1755/2144 image samples \r Processed 1756/2144 image samples \r Processed 1757/2144 image samples \r Processed 1758/2144 image samples \r Processed 1759/2144 image samples \r Processed 1760/2144 image samples \r Processed 1761/2144 image samples \r Processed 1762/2144 image samples \r Processed 1763/2144 image samples \r Processed 1764/2144 image samples \r Processed 1765/2144 image samples \r Processed 1766/2144 image samples \r Processed 1767/2144 image samples \r Processed 1768/2144 image samples \r Processed 1769/2144 image samples \r Processed 1770/2144 image samples \r Processed 1771/2144 image samples \r Processed 1772/2144 image samples \r Processed 1773/2144 image samples \r Processed 1774/2144 image samples \r Processed 1775/2144 image samples \r Processed 1776/2144 image samples \r Processed 1777/2144 image samples \r Processed 1778/2144 image samples \r Processed 1779/2144 image samples \r Processed 1780/2144 image samples \r Processed 1781/2144 image samples \r Processed 1782/2144 image samples \r Processed 1783/2144 image samples \r Processed 1784/2144 image samples \r Processed 1785/2144 image samples \r Processed 1786/2144 image samples \r Processed 1787/2144 image samples \r Processed 1788/2144 image samples \r Processed 1789/2144 image samples \r Processed 1790/2144 image samples \r Processed 1791/2144 image samples \r Processed 1792/2144 image samples \r Processed 1793/2144 image samples \r Processed 1794/2144 image samples \r Processed 1795/2144 image samples \r Processed 1796/2144 image samples \r Processed 1797/2144 image samples \r Processed 1798/2144 image samples \r Processed 1799/2144 image samples \r Processed 1800/2144 image samples \r Processed 1801/2144 image samples \r Processed 1802/2144 image samples \r Processed 1803/2144 image samples \r Processed 1804/2144 image samples \r Processed 1805/2144 image samples \r Processed 1806/2144 image samples \r Processed 1807/2144 image samples \r Processed 1808/2144 image samples \r Processed 1809/2144 image samples \r Processed 1810/2144 image samples \r Processed 1811/2144 image samples \r Processed 1812/2144 image samples \r Processed 1813/2144 image samples \r Processed 1814/2144 image samples \r Processed 1815/2144 image samples \r Processed 1816/2144 image samples \r Processed 1817/2144 image samples \r Processed 1818/2144 image samples \r Processed 1819/2144 image samples \r Processed 1820/2144 image samples \r Processed 1821/2144 image samples \r Processed 1822/2144 image samples \r Processed 1823/2144 image samples \r Processed 1824/2144 image samples \r Processed 1825/2144 image samples \r Processed 1826/2144 image samples \r Processed 1827/2144 image samples \r Processed 1828/2144 image samples \r Processed 1829/2144 image samples \r Processed 1830/2144 image samples \r Processed 1831/2144 image samples \r Processed 1832/2144 image samples \r Processed 1833/2144 image samples \r Processed 1834/2144 image samples \r Processed 1835/2144 image samples \r Processed 1836/2144 image samples \r Processed 1837/2144 image samples \r Processed 1838/2144 image samples \r Processed 1839/2144 image samples \r Processed 1840/2144 image samples \r Processed 1841/2144 image samples \r Processed 1842/2144 image samples \r Processed 1843/2144 image samples \r Processed 1844/2144 image samples \r Processed 1845/2144 image samples \r Processed 1846/2144 image samples \r Processed 1847/2144 image samples \r Processed 1848/2144 image samples \r Processed 1849/2144 image samples \r Processed 1850/2144 image samples \r Processed 1851/2144 image samples \r Processed 1852/2144 image samples \r Processed 1853/2144 image samples \r Processed 1854/2144 image samples \r Processed 1855/2144 image samples \r Processed 1856/2144 image samples \r Processed 1857/2144 image samples \r Processed 1858/2144 image samples \r Processed 1859/2144 image samples \r Processed 1860/2144 image samples \r Processed 1861/2144 image samples \r Processed 1862/2144 image samples \r Processed 1863/2144 image samples \r Processed 1864/2144 image samples \r Processed 1865/2144 image samples \r Processed 1866/2144 image samples \r Processed 1867/2144 image samples \r Processed 1868/2144 image samples \r Processed 1869/2144 image samples \r Processed 1870/2144 image samples \r Processed 1871/2144 image samples \r Processed 1872/2144 image samples \r Processed 1873/2144 image samples \r Processed 1874/2144 image samples \r Processed 1875/2144 image samples \r Processed 1876/2144 image samples \r Processed 1877/2144 image samples \r Processed 1878/2144 image samples \r Processed 1879/2144 image samples \r Processed 1880/2144 image samples \r Processed 1881/2144 image samples \r Processed 1882/2144 image samples \r Processed 1883/2144 image samples \r Processed 1884/2144 image samples \r Processed 1885/2144 image samples \r Processed 1886/2144 image samples \r Processed 1887/2144 image samples \r Processed 1888/2144 image samples \r Processed 1889/2144 image samples \r Processed 1890/2144 image samples \r Processed 1891/2144 image samples \r Processed 1892/2144 image samples \r Processed 1893/2144 image samples \r Processed 1894/2144 image samples \r Processed 1895/2144 image samples \r Processed 1896/2144 image samples \r Processed 1897/2144 image samples \r Processed 1898/2144 image samples \r Processed 1899/2144 image samples \r Processed 1900/2144 image samples \r Processed 1901/2144 image samples \r Processed 1902/2144 image samples \r Processed 1903/2144 image samples \r Processed 1904/2144 image samples \r Processed 1905/2144 image samples \r Processed 1906/2144 image samples \r Processed 1907/2144 image samples \r Processed 1908/2144 image samples \r Processed 1909/2144 image samples \r Processed 1910/2144 image samples \r Processed 1911/2144 image samples \r Processed 1912/2144 image samples \r Processed 1913/2144 image samples \r Processed 1914/2144 image samples \r Processed 1915/2144 image samples \r Processed 1916/2144 image samples \r Processed 1917/2144 image samples \r Processed 1918/2144 image samples \r Processed 1919/2144 image samples \r Processed 1920/2144 image samples \r Processed 1921/2144 image samples \r Processed 1922/2144 image samples \r Processed 1923/2144 image samples \r Processed 1924/2144 image samples \r Processed 1925/2144 image samples \r Processed 1926/2144 image samples \r Processed 1927/2144 image samples \r Processed 1928/2144 image samples \r Processed 1929/2144 image samples \r Processed 1930/2144 image samples \r Processed 1931/2144 image samples \r Processed 1932/2144 image samples \r Processed 1933/2144 image samples \r Processed 1934/2144 image samples \r Processed 1935/2144 image samples \r Processed 1936/2144 image samples \r Processed 1937/2144 image samples \r Processed 1938/2144 image samples \r Processed 1939/2144 image samples \r Processed 1940/2144 image samples \r Processed 1941/2144 image samples \r Processed 1942/2144 image samples \r Processed 1943/2144 image samples \r Processed 1944/2144 image samples \r Processed 1945/2144 image samples \r Processed 1946/2144 image samples \r Processed 1947/2144 image samples \r Processed 1948/2144 image samples \r Processed 1949/2144 image samples \r Processed 1950/2144 image samples \r Processed 1951/2144 image samples \r Processed 1952/2144 image samples \r Processed 1953/2144 image samples \r Processed 1954/2144 image samples \r Processed 1955/2144 image samples \r Processed 1956/2144 image samples \r Processed 1957/2144 image samples \r Processed 1958/2144 image samples \r Processed 1959/2144 image samples \r Processed 1960/2144 image samples \r Processed 1961/2144 image samples \r Processed 1962/2144 image samples \r Processed 1963/2144 image samples \r Processed 1964/2144 image samples \r Processed 1965/2144 image samples \r Processed 1966/2144 image samples \r Processed 1967/2144 image samples \r Processed 1968/2144 image samples \r Processed 1969/2144 image samples \r Processed 1970/2144 image samples \r Processed 1971/2144 image samples \r Processed 1972/2144 image samples \r Processed 1973/2144 image samples \r Processed 1974/2144 image samples \r Processed 1975/2144 image samples \r Processed 1976/2144 image samples \r Processed 1977/2144 image samples \r Processed 1978/2144 image samples \r Processed 1979/2144 image samples \r Processed 1980/2144 image samples \r Processed 1981/2144 image samples \r Processed 1982/2144 image samples \r Processed 1983/2144 image samples \r Processed 1984/2144 image samples \r Processed 1985/2144 image samples \r Processed 1986/2144 image samples \r Processed 1987/2144 image samples \r Processed 1988/2144 image samples \r Processed 1989/2144 image samples \r Processed 1990/2144 image samples \r Processed 1991/2144 image samples \r Processed 1992/2144 image samples \r Processed 1993/2144 image samples \r Processed 1994/2144 image samples \r Processed 1995/2144 image samples \r Processed 1996/2144 image samples \r Processed 1997/2144 image samples \r Processed 1998/2144 image samples \r Processed 1999/2144 image samples \r Processed 2000/2144 image samples \r Processed 2001/2144 image samples \r Processed 2002/2144 image samples \r Processed 2003/2144 image samples \r Processed 2004/2144 image samples \r Processed 2005/2144 image samples \r Processed 2006/2144 image samples \r Processed 2007/2144 image samples \r Processed 2008/2144 image samples \r Processed 2009/2144 image samples \r Processed 2010/2144 image samples \r Processed 2011/2144 image samples \r Processed 2012/2144 image samples \r Processed 2013/2144 image samples \r Processed 2014/2144 image samples \r Processed 2015/2144 image samples \r Processed 2016/2144 image samples \r Processed 2017/2144 image samples \r Processed 2018/2144 image samples \r Processed 2019/2144 image samples \r Processed 2020/2144 image samples \r Processed 2021/2144 image samples \r Processed 2022/2144 image samples \r Processed 2023/2144 image samples \r Processed 2024/2144 image samples \r Processed 2025/2144 image samples \r Processed 2026/2144 image samples \r Processed 2027/2144 image samples \r Processed 2028/2144 image samples \r Processed 2029/2144 image samples \r Processed 2030/2144 image samples \r Processed 2031/2144 image samples \r Processed 2032/2144 image samples \r Processed 2033/2144 image samples \r Processed 2034/2144 image samples \r Processed 2035/2144 image samples \r Processed 2036/2144 image samples \r Processed 2037/2144 image samples \r Processed 2038/2144 image samples \r Processed 2039/2144 image samples \r Processed 2040/2144 image samples \r Processed 2041/2144 image samples \r Processed 2042/2144 image samples \r Processed 2043/2144 image samples \r Processed 2044/2144 image samples \r Processed 2045/2144 image samples \r Processed 2046/2144 image samples \r Processed 2047/2144 image samples \r Processed 2048/2144 image samples \r Processed 2049/2144 image samples \r Processed 2050/2144 image samples \r Processed 2051/2144 image samples \r Processed 2052/2144 image samples \r Processed 2053/2144 image samples \r Processed 2054/2144 image samples \r Processed 2055/2144 image samples \r Processed 2056/2144 image samples \r Processed 2057/2144 image samples \r Processed 2058/2144 image samples \r Processed 2059/2144 image samples \r Processed 2060/2144 image samples \r Processed 2061/2144 image samples \r Processed 2062/2144 image samples \r Processed 2063/2144 image samples \r Processed 2064/2144 image samples \r Processed 2065/2144 image samples \r Processed 2066/2144 image samples \r Processed 2067/2144 image samples \r Processed 2068/2144 image samples \r Processed 2069/2144 image samples \r Processed 2070/2144 image samples \r Processed 2071/2144 image samples \r Processed 2072/2144 image samples \r Processed 2073/2144 image samples \r Processed 2074/2144 image samples \r Processed 2075/2144 image samples \r Processed 2076/2144 image samples \r Processed 2077/2144 image samples \r Processed 2078/2144 image samples \r Processed 2079/2144 image samples \r Processed 2080/2144 image samples \r Processed 2081/2144 image samples \r Processed 2082/2144 image samples \r Processed 2083/2144 image samples \r Processed 2084/2144 image samples \r Processed 2085/2144 image samples \r Processed 2086/2144 image samples \r Processed 2087/2144 image samples \r Processed 2088/2144 image samples \r Processed 2089/2144 image samples \r Processed 2090/2144 image samples \r Processed 2091/2144 image samples \r Processed 2092/2144 image samples \r Processed 2093/2144 image samples \r Processed 2094/2144 image samples \r Processed 2095/2144 image samples \r Processed 2096/2144 image samples \r Processed 2097/2144 image samples \r Processed 2098/2144 image samples \r Processed 2099/2144 image samples \r Processed 2100/2144 image samples \r Processed 2101/2144 image samples \r Processed 2102/2144 image samples \r Processed 2103/2144 image samples \r Processed 2104/2144 image samples \r Processed 2105/2144 image samples \r Processed 2106/2144 image samples \r Processed 2107/2144 image samples \r Processed 2108/2144 image samples \r Processed 2109/2144 image samples \r Processed 2110/2144 image samples \r Processed 2111/2144 image samples \r Processed 2112/2144 image samples \r Processed 2113/2144 image samples \r Processed 2114/2144 image samples \r Processed 2115/2144 image samples \r Processed 2116/2144 image samples \r Processed 2117/2144 image samples \r Processed 2118/2144 image samples \r Processed 2119/2144 image samples \r Processed 2120/2144 image samples \r Processed 2121/2144 image samples \r Processed 2122/2144 image samples \r Processed 2123/2144 image samples \r Processed 2124/2144 image samples \r Processed 2125/2144 image samples \r Processed 2126/2144 image samples \r Processed 2127/2144 image samples \r Processed 2128/2144 image samples \r Processed 2129/2144 image samples \r Processed 2130/2144 image samples \r Processed 2131/2144 image samples \r Processed 2132/2144 image samples \r Processed 2133/2144 image samples \r Processed 2134/2144 image samples \r Processed 2135/2144 image samples \r Processed 2136/2144 image samples \r Processed 2137/2144 image samples \r Processed 2138/2144 image samples \r Processed 2139/2144 image samples \r Processed 2140/2144 image samples \r Processed 2141/2144 image samples \r Processed 2142/2144 image samples \r Processed 2143/2144 image samples \r Processed 2144/2144 image samples ['/content/IAT360/sfh-dataset/open_hand/open_hand_0264.jpg' '/content/IAT360/sfh-dataset/open_hand/open_hand_0277.jpg' '/content/IAT360/sfh-dataset/open_hand/open_hand_1020.jpg' ... '/content/IAT360/sfh-dataset/closed_hand/closed_hand_0736.jpg' '/content/IAT360/sfh-dataset/closed_hand/closed_hand_0624.jpg'\n",
            " '/content/IAT360/sfh-dataset/closed_hand/closed_hand_0981.jpg']\n",
            "['open_hand' 'open_hand' 'open_hand' ... 'closed_hand' 'closed_hand' 'closed_hand']\n"
          ]
        }
      ]
    },
    {
      "cell_type": "code",
      "source": [
        "from sklearn.model_selection import train_test_split\n",
        "#these are the same codes, but we are just using different data.\n",
        "#putting these into 80, 20 split (train: 80, validation: 20)\n",
        "\n",
        "\n",
        "############# Unscaled test/train set #############\n",
        "X_train, X_test, y_train, y_test = train_test_split(\n",
        "    hands, #feature set\n",
        "    labels, #label set\n",
        "    test_size=0.2,\n",
        "    random_state=42 #random_state - everytime you run this code, it will give you the same split. If you change it, it will give you a different split. actually shuffle data based on random number.\n",
        ")"
      ],
      "metadata": {
        "id": "ptw5w3cJs4rh"
      },
      "execution_count": null,
      "outputs": []
    },
    {
      "cell_type": "markdown",
      "source": [
        "Then, put these images into separate folders."
      ],
      "metadata": {
        "id": "Dl9AYIJ_zDdZ"
      }
    },
    {
      "cell_type": "code",
      "source": [
        "import os\n",
        "import shutil\n",
        "\n",
        "\n",
        "# Base directories\n",
        "base_dir = \"/content/IAT360/Final_Datasets/Final_data/images_for_yolo\"\n",
        "train_dir = os.path.join(base_dir, \"train\")\n",
        "val_dir = os.path.join(base_dir, \"val\")\n",
        "test_dir = os.path.join(base_dir,\"test\")\n",
        "\n",
        "os.makedirs(base_dir, exist_ok=True)\n",
        "\n",
        "# Create base train/val folders\n",
        "os.makedirs(train_dir, exist_ok=True)\n",
        "os.makedirs(val_dir, exist_ok=True)\n",
        "os.makedirs(test_dir, exist_ok=True)\n",
        "\n",
        "# Function to get class name from filename\n",
        "def get_class_from_filename(filename):\n",
        "    base_name = os.path.basename(filename)\n",
        "    return base_name.rsplit('_', 1)[0]  # get part before the first underscore\n",
        "\n",
        "# Move training images into class folders\n",
        "for img_path in X_train:\n",
        "    class_name = get_class_from_filename(img_path)\n",
        "    class_folder = os.path.join(train_dir, class_name)\n",
        "    os.makedirs(class_folder, exist_ok=True)\n",
        "    shutil.move(img_path, class_folder)\n",
        "\n",
        "# Move validation images into class folders\n",
        "for img_path in X_test:\n",
        "    class_name = get_class_from_filename(img_path)\n",
        "    class_folder = os.path.join(val_dir, class_name)\n",
        "    os.makedirs(class_folder, exist_ok=True)\n",
        "    shutil.move(img_path, class_folder)\n",
        "\n",
        "# creating another dir for test images from another folder (with our new images: 60)\n",
        "test_source_dir = \"/content/IAT360/test_data_classify\"\n",
        "image_extensions = [\"*.jpg\", \"*.jpeg\", \"*.png\"]\n",
        "\n",
        "for ext in image_extensions:\n",
        "    for file in glob.glob(os.path.join(test_source_dir, \"*\", ext)):\n",
        "        class_name = get_class_from_filename(file)\n",
        "        class_folder = os.path.join(test_dir, class_name)\n",
        "        os.makedirs(class_folder, exist_ok=True)\n",
        "        shutil.move(file, class_folder)\n",
        "\n",
        "\n",
        "print(\"✅ Done! Images moved into train/val/test class folders.\")\n"
      ],
      "metadata": {
        "colab": {
          "base_uri": "https://localhost:8080/"
        },
        "id": "LvEr6JNs95ca",
        "outputId": "1346156b-c0f5-4f8e-d5f3-adf4ba575877"
      },
      "execution_count": null,
      "outputs": [
        {
          "output_type": "stream",
          "name": "stdout",
          "text": [
            "✅ Done! Images moved into train/val/test class folders.\n"
          ]
        }
      ]
    },
    {
      "cell_type": "markdown",
      "source": [
        "# Custom gesture classification using YOLO\n",
        "\n",
        "YOLOv8 classification models use the -cls suffix, i.e. yolov8n-cls.pt and are pretrained on ImageNet. See Classification Docs for full details.\n",
        "\n",
        "Original file: https://github.com/jaejams/Computer-Vision-Project-Overview/blob/main/copy_of_yolov8_tutorial.ipynb\n",
        "https://github.com/jaejams/Computer-Vision-Project/blob/main/ComputerVisionProject-revised.ipynb"
      ],
      "metadata": {
        "id": "dIX6amSFuijN"
      }
    },
    {
      "cell_type": "code",
      "source": [
        "%pip install ultralytics\n",
        "import ultralytics\n",
        "ultralytics.checks()"
      ],
      "metadata": {
        "id": "yZC4JREnu9SW",
        "colab": {
          "base_uri": "https://localhost:8080/"
        },
        "outputId": "098f877f-61af-4c05-ef1f-66e5ac84ed6c"
      },
      "execution_count": 11,
      "outputs": [
        {
          "output_type": "stream",
          "name": "stdout",
          "text": [
            "Ultralytics 8.3.220 🚀 Python-3.12.12 torch-2.8.0+cu126 CPU (Intel Xeon CPU @ 2.20GHz)\n",
            "Setup complete ✅ (2 CPUs, 12.7 GB RAM, 41.2/107.7 GB disk)\n"
          ]
        }
      ]
    },
    {
      "cell_type": "code",
      "source": [
        "# Load YOLOv8n-cls, train it on mnist160 for 3 epochs and predict an image with it\n",
        "from ultralytics import YOLO\n",
        "\n",
        "model = YOLO('yolov8n-cls.pt')  # load a pretrained YOLOv8n classification model\n"
      ],
      "metadata": {
        "id": "GhqL2GXyu17t"
      },
      "execution_count": 12,
      "outputs": []
    },
    {
      "cell_type": "code",
      "source": [
        "model"
      ],
      "metadata": {
        "id": "DKmJc-tGvCVe",
        "colab": {
          "base_uri": "https://localhost:8080/"
        },
        "collapsed": true,
        "outputId": "b874963c-9414-4735-f25a-cf32614f2d9a"
      },
      "execution_count": null,
      "outputs": [
        {
          "output_type": "execute_result",
          "data": {
            "text/plain": [
              "YOLO(\n",
              "  (model): ClassificationModel(\n",
              "    (model): Sequential(\n",
              "      (0): Conv(\n",
              "        (conv): Conv2d(3, 16, kernel_size=(3, 3), stride=(2, 2), padding=(1, 1), bias=False)\n",
              "        (bn): BatchNorm2d(16, eps=1e-05, momentum=0.1, affine=True, track_running_stats=True)\n",
              "        (act): SiLU(inplace=True)\n",
              "      )\n",
              "      (1): Conv(\n",
              "        (conv): Conv2d(16, 32, kernel_size=(3, 3), stride=(2, 2), padding=(1, 1), bias=False)\n",
              "        (bn): BatchNorm2d(32, eps=1e-05, momentum=0.1, affine=True, track_running_stats=True)\n",
              "        (act): SiLU(inplace=True)\n",
              "      )\n",
              "      (2): C2f(\n",
              "        (cv1): Conv(\n",
              "          (conv): Conv2d(32, 32, kernel_size=(1, 1), stride=(1, 1), bias=False)\n",
              "          (bn): BatchNorm2d(32, eps=1e-05, momentum=0.1, affine=True, track_running_stats=True)\n",
              "          (act): SiLU(inplace=True)\n",
              "        )\n",
              "        (cv2): Conv(\n",
              "          (conv): Conv2d(48, 32, kernel_size=(1, 1), stride=(1, 1), bias=False)\n",
              "          (bn): BatchNorm2d(32, eps=1e-05, momentum=0.1, affine=True, track_running_stats=True)\n",
              "          (act): SiLU(inplace=True)\n",
              "        )\n",
              "        (m): ModuleList(\n",
              "          (0): Bottleneck(\n",
              "            (cv1): Conv(\n",
              "              (conv): Conv2d(16, 16, kernel_size=(3, 3), stride=(1, 1), padding=(1, 1), bias=False)\n",
              "              (bn): BatchNorm2d(16, eps=1e-05, momentum=0.1, affine=True, track_running_stats=True)\n",
              "              (act): SiLU(inplace=True)\n",
              "            )\n",
              "            (cv2): Conv(\n",
              "              (conv): Conv2d(16, 16, kernel_size=(3, 3), stride=(1, 1), padding=(1, 1), bias=False)\n",
              "              (bn): BatchNorm2d(16, eps=1e-05, momentum=0.1, affine=True, track_running_stats=True)\n",
              "              (act): SiLU(inplace=True)\n",
              "            )\n",
              "          )\n",
              "        )\n",
              "      )\n",
              "      (3): Conv(\n",
              "        (conv): Conv2d(32, 64, kernel_size=(3, 3), stride=(2, 2), padding=(1, 1), bias=False)\n",
              "        (bn): BatchNorm2d(64, eps=1e-05, momentum=0.1, affine=True, track_running_stats=True)\n",
              "        (act): SiLU(inplace=True)\n",
              "      )\n",
              "      (4): C2f(\n",
              "        (cv1): Conv(\n",
              "          (conv): Conv2d(64, 64, kernel_size=(1, 1), stride=(1, 1), bias=False)\n",
              "          (bn): BatchNorm2d(64, eps=1e-05, momentum=0.1, affine=True, track_running_stats=True)\n",
              "          (act): SiLU(inplace=True)\n",
              "        )\n",
              "        (cv2): Conv(\n",
              "          (conv): Conv2d(128, 64, kernel_size=(1, 1), stride=(1, 1), bias=False)\n",
              "          (bn): BatchNorm2d(64, eps=1e-05, momentum=0.1, affine=True, track_running_stats=True)\n",
              "          (act): SiLU(inplace=True)\n",
              "        )\n",
              "        (m): ModuleList(\n",
              "          (0-1): 2 x Bottleneck(\n",
              "            (cv1): Conv(\n",
              "              (conv): Conv2d(32, 32, kernel_size=(3, 3), stride=(1, 1), padding=(1, 1), bias=False)\n",
              "              (bn): BatchNorm2d(32, eps=1e-05, momentum=0.1, affine=True, track_running_stats=True)\n",
              "              (act): SiLU(inplace=True)\n",
              "            )\n",
              "            (cv2): Conv(\n",
              "              (conv): Conv2d(32, 32, kernel_size=(3, 3), stride=(1, 1), padding=(1, 1), bias=False)\n",
              "              (bn): BatchNorm2d(32, eps=1e-05, momentum=0.1, affine=True, track_running_stats=True)\n",
              "              (act): SiLU(inplace=True)\n",
              "            )\n",
              "          )\n",
              "        )\n",
              "      )\n",
              "      (5): Conv(\n",
              "        (conv): Conv2d(64, 128, kernel_size=(3, 3), stride=(2, 2), padding=(1, 1), bias=False)\n",
              "        (bn): BatchNorm2d(128, eps=1e-05, momentum=0.1, affine=True, track_running_stats=True)\n",
              "        (act): SiLU(inplace=True)\n",
              "      )\n",
              "      (6): C2f(\n",
              "        (cv1): Conv(\n",
              "          (conv): Conv2d(128, 128, kernel_size=(1, 1), stride=(1, 1), bias=False)\n",
              "          (bn): BatchNorm2d(128, eps=1e-05, momentum=0.1, affine=True, track_running_stats=True)\n",
              "          (act): SiLU(inplace=True)\n",
              "        )\n",
              "        (cv2): Conv(\n",
              "          (conv): Conv2d(256, 128, kernel_size=(1, 1), stride=(1, 1), bias=False)\n",
              "          (bn): BatchNorm2d(128, eps=1e-05, momentum=0.1, affine=True, track_running_stats=True)\n",
              "          (act): SiLU(inplace=True)\n",
              "        )\n",
              "        (m): ModuleList(\n",
              "          (0-1): 2 x Bottleneck(\n",
              "            (cv1): Conv(\n",
              "              (conv): Conv2d(64, 64, kernel_size=(3, 3), stride=(1, 1), padding=(1, 1), bias=False)\n",
              "              (bn): BatchNorm2d(64, eps=1e-05, momentum=0.1, affine=True, track_running_stats=True)\n",
              "              (act): SiLU(inplace=True)\n",
              "            )\n",
              "            (cv2): Conv(\n",
              "              (conv): Conv2d(64, 64, kernel_size=(3, 3), stride=(1, 1), padding=(1, 1), bias=False)\n",
              "              (bn): BatchNorm2d(64, eps=1e-05, momentum=0.1, affine=True, track_running_stats=True)\n",
              "              (act): SiLU(inplace=True)\n",
              "            )\n",
              "          )\n",
              "        )\n",
              "      )\n",
              "      (7): Conv(\n",
              "        (conv): Conv2d(128, 256, kernel_size=(3, 3), stride=(2, 2), padding=(1, 1), bias=False)\n",
              "        (bn): BatchNorm2d(256, eps=1e-05, momentum=0.1, affine=True, track_running_stats=True)\n",
              "        (act): SiLU(inplace=True)\n",
              "      )\n",
              "      (8): C2f(\n",
              "        (cv1): Conv(\n",
              "          (conv): Conv2d(256, 256, kernel_size=(1, 1), stride=(1, 1), bias=False)\n",
              "          (bn): BatchNorm2d(256, eps=1e-05, momentum=0.1, affine=True, track_running_stats=True)\n",
              "          (act): SiLU(inplace=True)\n",
              "        )\n",
              "        (cv2): Conv(\n",
              "          (conv): Conv2d(384, 256, kernel_size=(1, 1), stride=(1, 1), bias=False)\n",
              "          (bn): BatchNorm2d(256, eps=1e-05, momentum=0.1, affine=True, track_running_stats=True)\n",
              "          (act): SiLU(inplace=True)\n",
              "        )\n",
              "        (m): ModuleList(\n",
              "          (0): Bottleneck(\n",
              "            (cv1): Conv(\n",
              "              (conv): Conv2d(128, 128, kernel_size=(3, 3), stride=(1, 1), padding=(1, 1), bias=False)\n",
              "              (bn): BatchNorm2d(128, eps=1e-05, momentum=0.1, affine=True, track_running_stats=True)\n",
              "              (act): SiLU(inplace=True)\n",
              "            )\n",
              "            (cv2): Conv(\n",
              "              (conv): Conv2d(128, 128, kernel_size=(3, 3), stride=(1, 1), padding=(1, 1), bias=False)\n",
              "              (bn): BatchNorm2d(128, eps=1e-05, momentum=0.1, affine=True, track_running_stats=True)\n",
              "              (act): SiLU(inplace=True)\n",
              "            )\n",
              "          )\n",
              "        )\n",
              "      )\n",
              "      (9): Classify(\n",
              "        (conv): Conv(\n",
              "          (conv): Conv2d(256, 1280, kernel_size=(1, 1), stride=(1, 1), bias=False)\n",
              "          (bn): BatchNorm2d(1280, eps=1e-05, momentum=0.1, affine=True, track_running_stats=True)\n",
              "          (act): SiLU(inplace=True)\n",
              "        )\n",
              "        (pool): AdaptiveAvgPool2d(output_size=1)\n",
              "        (drop): Dropout(p=0.0, inplace=True)\n",
              "        (linear): Linear(in_features=1280, out_features=1000, bias=True)\n",
              "      )\n",
              "    )\n",
              "  )\n",
              ")"
            ]
          },
          "metadata": {},
          "execution_count": 9
        }
      ]
    },
    {
      "cell_type": "code",
      "source": [
        "model.train(data=\"/content/IAT360/Final_Datasets/Final_data/images_for_yolo\",epochs=1,patience=5,batch=8, lr0=0.0005,imgsz=640)"
      ],
      "metadata": {
        "id": "VS2RnADLvKhY",
        "colab": {
          "base_uri": "https://localhost:8080/"
        },
        "outputId": "720ea31a-929a-437b-94fb-3922b7de6302"
      },
      "execution_count": null,
      "outputs": [
        {
          "output_type": "stream",
          "name": "stdout",
          "text": [
            "Ultralytics 8.3.220 🚀 Python-3.12.12 torch-2.8.0+cu126 CPU (Intel Xeon CPU @ 2.20GHz)\n",
            "\u001b[34m\u001b[1mengine/trainer: \u001b[0magnostic_nms=False, amp=True, augment=False, auto_augment=randaugment, batch=8, bgr=0.0, box=7.5, cache=False, cfg=None, classes=None, close_mosaic=10, cls=0.5, compile=False, conf=None, copy_paste=0.0, copy_paste_mode=flip, cos_lr=False, cutmix=0.0, data=/content/IAT360/Final_Datasets/Final_data/images_for_yolo, degrees=0.0, deterministic=True, device=cpu, dfl=1.5, dnn=False, dropout=0.0, dynamic=False, embed=None, epochs=1, erasing=0.4, exist_ok=False, fliplr=0.5, flipud=0.0, format=torchscript, fraction=1.0, freeze=None, half=False, hsv_h=0.015, hsv_s=0.7, hsv_v=0.4, imgsz=640, int8=False, iou=0.7, keras=False, kobj=1.0, line_width=None, lr0=0.0005, lrf=0.01, mask_ratio=4, max_det=300, mixup=0.0, mode=train, model=yolov8n-cls.pt, momentum=0.937, mosaic=1.0, multi_scale=False, name=train2, nbs=64, nms=False, opset=None, optimize=False, optimizer=auto, overlap_mask=True, patience=5, perspective=0.0, plots=True, pose=12.0, pretrained=True, profile=False, project=None, rect=False, resume=False, retina_masks=False, save=True, save_conf=False, save_crop=False, save_dir=/content/runs/classify/train2, save_frames=False, save_json=False, save_period=-1, save_txt=False, scale=0.5, seed=0, shear=0.0, show=False, show_boxes=True, show_conf=True, show_labels=True, simplify=True, single_cls=False, source=None, split=val, stream_buffer=False, task=classify, time=None, tracker=botsort.yaml, translate=0.1, val=True, verbose=True, vid_stride=1, visualize=False, warmup_bias_lr=0.1, warmup_epochs=3.0, warmup_momentum=0.8, weight_decay=0.0005, workers=8, workspace=None\n",
            "\u001b[34m\u001b[1mtrain:\u001b[0m /content/IAT360/Final_Datasets/Final_data/images_for_yolo/train... found 1715 images in 2 classes ✅ \n",
            "\u001b[34m\u001b[1mval:\u001b[0m /content/IAT360/Final_Datasets/Final_data/images_for_yolo/val... found 429 images in 2 classes ✅ \n",
            "\u001b[34m\u001b[1mtest:\u001b[0m /content/IAT360/Final_Datasets/Final_data/images_for_yolo/test... found 90 images in 2 classes ✅ \n",
            "Overriding model.yaml nc=1000 with nc=2\n",
            "\n",
            "                   from  n    params  module                                       arguments                     \n",
            "  0                  -1  1       464  ultralytics.nn.modules.conv.Conv             [3, 16, 3, 2]                 \n",
            "  1                  -1  1      4672  ultralytics.nn.modules.conv.Conv             [16, 32, 3, 2]                \n",
            "  2                  -1  1      7360  ultralytics.nn.modules.block.C2f             [32, 32, 1, True]             \n",
            "  3                  -1  1     18560  ultralytics.nn.modules.conv.Conv             [32, 64, 3, 2]                \n",
            "  4                  -1  2     49664  ultralytics.nn.modules.block.C2f             [64, 64, 2, True]             \n",
            "  5                  -1  1     73984  ultralytics.nn.modules.conv.Conv             [64, 128, 3, 2]               \n",
            "  6                  -1  2    197632  ultralytics.nn.modules.block.C2f             [128, 128, 2, True]           \n",
            "  7                  -1  1    295424  ultralytics.nn.modules.conv.Conv             [128, 256, 3, 2]              \n",
            "  8                  -1  1    460288  ultralytics.nn.modules.block.C2f             [256, 256, 1, True]           \n",
            "  9                  -1  1    332802  ultralytics.nn.modules.head.Classify         [256, 2]                      \n",
            "YOLOv8n-cls summary: 56 layers, 1,440,850 parameters, 1,440,850 gradients, 3.4 GFLOPs\n",
            "Transferred 156/158 items from pretrained weights\n",
            "\u001b[34m\u001b[1mtrain: \u001b[0mFast image access ✅ (ping: 0.1±0.0 ms, read: 28.3±54.1 MB/s, size: 13.4 KB)\n",
            "\u001b[K\u001b[34m\u001b[1mtrain: \u001b[0mScanning /content/IAT360/Final_Datasets/Final_data/images_for_yolo/train... 1715 images, 0 corrupt: 100% ━━━━━━━━━━━━ 1715/1715 637.1Kit/s 0.0s\n",
            "\u001b[34m\u001b[1mval: \u001b[0mFast image access ✅ (ping: 0.1±0.1 ms, read: 8.0±2.8 MB/s, size: 13.7 KB)\n",
            "\u001b[K\u001b[34m\u001b[1mval: \u001b[0mScanning /content/IAT360/Final_Datasets/Final_data/images_for_yolo/val... 429 images, 0 corrupt: 100% ━━━━━━━━━━━━ 429/429 101.6Kit/s 0.0s\n",
            "\u001b[34m\u001b[1moptimizer:\u001b[0m 'optimizer=auto' found, ignoring 'lr0=0.0005' and 'momentum=0.937' and determining best 'optimizer', 'lr0' and 'momentum' automatically... \n",
            "\u001b[34m\u001b[1moptimizer:\u001b[0m AdamW(lr=0.001667, momentum=0.9) with parameter groups 26 weight(decay=0.0), 27 weight(decay=0.0005), 27 bias(decay=0.0)\n",
            "Image sizes 640 train, 640 val\n",
            "Using 0 dataloader workers\n",
            "Logging results to \u001b[1m/content/runs/classify/train2\u001b[0m\n",
            "Starting training for 1 epochs...\n",
            "\n",
            "      Epoch    GPU_mem       loss  Instances       Size\n",
            "\u001b[K        1/1         0G     0.6023          8        640: 65% ━━━━━━━╸──── 140/215 0.3it/s 8:03<3:53"
          ]
        }
      ]
    },
    {
      "cell_type": "code",
      "source": [
        "model= YOLO(\"/content/runs/classify/train/weights/best.pt\")\n",
        "metrics = model.val()  # no arguments needed, dataset and settings remembered\n",
        "print(metrics)\n"
      ],
      "metadata": {
        "id": "2DDopMwuOxmE"
      },
      "execution_count": null,
      "outputs": []
    },
    {
      "cell_type": "code",
      "source": [
        "%matplotlib inline\n",
        "from PIL import Image\n",
        "\n",
        "Image.open('/content/runs/classify/train/confusion_matrix_normalized.png')"
      ],
      "metadata": {
        "id": "MU8yLuWZvQxd"
      },
      "execution_count": null,
      "outputs": []
    },
    {
      "cell_type": "markdown",
      "source": [
        "# Test the results"
      ],
      "metadata": {
        "id": "5UHKO7q9QVja"
      }
    },
    {
      "cell_type": "code",
      "source": [
        "from ultralytics import YOLO\n",
        "\n",
        "# Load your trained model\n",
        "model = YOLO(\"/content/runs/classify/train/weights/best.pt\")\n",
        "\n",
        "# Run prediction on a folder of images\n",
        "results = model.predict(\"/content/IAT360/Final_Datasets/Final_data/images_for_yolo/test\", save=True)\n"
      ],
      "metadata": {
        "id": "6OAyxN4PRJzQ"
      },
      "execution_count": null,
      "outputs": []
    },
    {
      "cell_type": "markdown",
      "source": [
        "# Download"
      ],
      "metadata": {
        "id": "-OuA3NWSXEkp"
      }
    },
    {
      "cell_type": "code",
      "source": [
        "!zip -r runs.zip /content/runs\n",
        "from google.colab import files\n",
        "files.download(\"runs.zip\")\n"
      ],
      "metadata": {
        "id": "hDam2_zvXFto",
        "outputId": "b59263b8-da65-4366-bb51-e433f25c0049",
        "colab": {
          "base_uri": "https://localhost:8080/",
          "height": 1000
        }
      },
      "execution_count": null,
      "outputs": [
        {
          "output_type": "stream",
          "name": "stdout",
          "text": [
            "  adding: content/runs/ (stored 0%)\n",
            "  adding: content/runs/classify/ (stored 0%)\n",
            "  adding: content/runs/classify/val2/ (stored 0%)\n",
            "  adding: content/runs/classify/val2/val_batch2_labels.jpg (deflated 9%)\n",
            "  adding: content/runs/classify/val2/val_batch1_labels.jpg (deflated 9%)\n",
            "  adding: content/runs/classify/val2/val_batch2_pred.jpg (deflated 9%)\n",
            "  adding: content/runs/classify/val2/val_batch1_pred.jpg (deflated 9%)\n",
            "  adding: content/runs/classify/val2/confusion_matrix.png (deflated 33%)\n",
            "  adding: content/runs/classify/val2/confusion_matrix_normalized.png (deflated 33%)\n",
            "  adding: content/runs/classify/val2/val_batch0_pred.jpg (deflated 9%)\n",
            "  adding: content/runs/classify/val2/val_batch0_labels.jpg (deflated 9%)\n",
            "  adding: content/runs/classify/val/ (stored 0%)\n",
            "  adding: content/runs/classify/val/val_batch2_labels.jpg (deflated 9%)\n",
            "  adding: content/runs/classify/val/val_batch1_labels.jpg (deflated 9%)\n",
            "  adding: content/runs/classify/val/val_batch2_pred.jpg (deflated 9%)\n",
            "  adding: content/runs/classify/val/val_batch1_pred.jpg (deflated 9%)\n",
            "  adding: content/runs/classify/val/confusion_matrix.png (deflated 33%)\n",
            "  adding: content/runs/classify/val/confusion_matrix_normalized.png (deflated 33%)\n",
            "  adding: content/runs/classify/val/val_batch0_pred.jpg (deflated 9%)\n",
            "  adding: content/runs/classify/val/val_batch0_labels.jpg (deflated 9%)\n",
            "  adding: content/runs/classify/predict/ (stored 0%)\n",
            "  adding: content/runs/classify/predict/closed_hand_3032.jpg (deflated 0%)\n",
            "  adding: content/runs/classify/predict/closed_hand_3024.jpg (deflated 0%)\n",
            "  adding: content/runs/classify/predict/open_hand_3027.jpg (deflated 10%)\n",
            "  adding: content/runs/classify/predict/closed_hand_3023.jpg (deflated 0%)\n",
            "  adding: content/runs/classify/predict/closed_hand_3026.jpg (deflated 0%)\n",
            "  adding: content/runs/classify/predict/open_hand_3033.jpg (deflated 6%)\n",
            "  adding: content/runs/classify/predict/open_hand_3029.jpg (deflated 7%)\n",
            "  adding: content/runs/classify/predict/closed_hand_3031.jpg (deflated 4%)\n",
            "  adding: content/runs/classify/predict/open_hand_3030.jpg (deflated 6%)\n",
            "  adding: content/runs/classify/predict/open_hand_3025.jpg (deflated 0%)\n",
            "  adding: content/runs/classify/predict/open_hand_3032.jpg (deflated 0%)\n",
            "  adding: content/runs/classify/predict/closed_hand_3028.jpg (deflated 0%)\n",
            "  adding: content/runs/classify/predict/closed_hand_3033.jpg (deflated 5%)\n",
            "  adding: content/runs/classify/predict/closed_hand_3037.jpg (deflated 0%)\n",
            "  adding: content/runs/classify/predict/closed_hand_3035.jpg (deflated 3%)\n",
            "  adding: content/runs/classify/predict/open_hand_3028.jpg (deflated 0%)\n",
            "  adding: content/runs/classify/predict/closed_hand_3025.jpg (deflated 0%)\n",
            "  adding: content/runs/classify/predict/open_hand_3026.jpg (deflated 0%)\n",
            "  adding: content/runs/classify/predict/open_hand_3037.jpg (deflated 0%)\n",
            "  adding: content/runs/classify/predict/open_hand_3031.jpg (deflated 3%)\n",
            "  adding: content/runs/classify/predict/closed_hand_3029.jpg (deflated 8%)\n",
            "  adding: content/runs/classify/predict/open_hand_3034.jpg (deflated 3%)\n",
            "  adding: content/runs/classify/predict/closed_hand_3027.jpg (deflated 18%)\n",
            "  adding: content/runs/classify/predict/open_hand_3036.jpg (deflated 4%)\n",
            "  adding: content/runs/classify/predict/closed_hand_3036.jpg (deflated 5%)\n",
            "  adding: content/runs/classify/predict/open_hand_3035.jpg (deflated 3%)\n",
            "  adding: content/runs/classify/predict/closed_hand_3034.jpg (deflated 4%)\n",
            "  adding: content/runs/classify/predict/open_hand_3024.jpg (deflated 1%)\n",
            "  adding: content/runs/classify/predict/closed_hand_3030.jpg (deflated 0%)\n",
            "  adding: content/runs/classify/predict/open_hand_3023.jpg (deflated 15%)\n",
            "  adding: content/runs/classify/train/ (stored 0%)\n",
            "  adding: content/runs/classify/train/train_batch0.jpg (deflated 19%)\n",
            "  adding: content/runs/classify/train/val_batch2_labels.jpg (deflated 10%)\n",
            "  adding: content/runs/classify/train/results.csv (deflated 38%)\n",
            "  adding: content/runs/classify/train/train_batch1.jpg (deflated 15%)\n",
            "  adding: content/runs/classify/train/train_batch2.jpg (deflated 12%)\n",
            "  adding: content/runs/classify/train/val_batch1_labels.jpg (deflated 9%)\n",
            "  adding: content/runs/classify/train/weights/ (stored 0%)\n",
            "  adding: content/runs/classify/train/weights/last.pt (deflated 9%)\n",
            "  adding: content/runs/classify/train/weights/best.pt (deflated 9%)\n",
            "  adding: content/runs/classify/train/args.yaml (deflated 52%)\n",
            "  adding: content/runs/classify/train/results.png (deflated 23%)\n",
            "  adding: content/runs/classify/train/val_batch2_pred.jpg (deflated 9%)\n",
            "  adding: content/runs/classify/train/val_batch1_pred.jpg (deflated 9%)\n",
            "  adding: content/runs/classify/train/confusion_matrix.png (deflated 33%)\n",
            "  adding: content/runs/classify/train/confusion_matrix_normalized.png (deflated 33%)\n",
            "  adding: content/runs/classify/train/val_batch0_pred.jpg (deflated 9%)\n",
            "  adding: content/runs/classify/train/val_batch0_labels.jpg (deflated 9%)\n"
          ]
        },
        {
          "output_type": "display_data",
          "data": {
            "text/plain": [
              "<IPython.core.display.Javascript object>"
            ],
            "application/javascript": [
              "\n",
              "    async function download(id, filename, size) {\n",
              "      if (!google.colab.kernel.accessAllowed) {\n",
              "        return;\n",
              "      }\n",
              "      const div = document.createElement('div');\n",
              "      const label = document.createElement('label');\n",
              "      label.textContent = `Downloading \"${filename}\": `;\n",
              "      div.appendChild(label);\n",
              "      const progress = document.createElement('progress');\n",
              "      progress.max = size;\n",
              "      div.appendChild(progress);\n",
              "      document.body.appendChild(div);\n",
              "\n",
              "      const buffers = [];\n",
              "      let downloaded = 0;\n",
              "\n",
              "      const channel = await google.colab.kernel.comms.open(id);\n",
              "      // Send a message to notify the kernel that we're ready.\n",
              "      channel.send({})\n",
              "\n",
              "      for await (const message of channel.messages) {\n",
              "        // Send a message to notify the kernel that we're ready.\n",
              "        channel.send({})\n",
              "        if (message.buffers) {\n",
              "          for (const buffer of message.buffers) {\n",
              "            buffers.push(buffer);\n",
              "            downloaded += buffer.byteLength;\n",
              "            progress.value = downloaded;\n",
              "          }\n",
              "        }\n",
              "      }\n",
              "      const blob = new Blob(buffers, {type: 'application/binary'});\n",
              "      const a = document.createElement('a');\n",
              "      a.href = window.URL.createObjectURL(blob);\n",
              "      a.download = filename;\n",
              "      div.appendChild(a);\n",
              "      a.click();\n",
              "      div.remove();\n",
              "    }\n",
              "  "
            ]
          },
          "metadata": {}
        },
        {
          "output_type": "display_data",
          "data": {
            "text/plain": [
              "<IPython.core.display.Javascript object>"
            ],
            "application/javascript": [
              "download(\"download_461c688a-f1af-4262-a823-aaa930c95136\", \"runs.zip\", 55994428)"
            ]
          },
          "metadata": {}
        }
      ]
    },
    {
      "cell_type": "code",
      "source": [
        "results=model('https://miro.medium.com/v2/resize:fit:510/format:webp/1*jW-Q9DvmB-zvM4hgJlBx3g.png', save=True)\n",
        "#results\n",
        "for r in results:\n",
        "    print(r.probs)  # print the Probs object containing the detected class probabilities"
      ],
      "metadata": {
        "id": "h1XyqAj_QVBL"
      },
      "execution_count": null,
      "outputs": []
    }
  ]
}